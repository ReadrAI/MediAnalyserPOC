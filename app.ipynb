{
 "metadata": {
  "language_info": {
   "codemirror_mode": {
    "name": "ipython",
    "version": 3
   },
   "file_extension": ".py",
   "mimetype": "text/x-python",
   "name": "python",
   "nbconvert_exporter": "python",
   "pygments_lexer": "ipython3",
   "version": "3.7.6-final"
  },
  "orig_nbformat": 2,
  "kernelspec": {
   "name": "python3",
   "display_name": "Python 3"
  }
 },
 "nbformat": 4,
 "nbformat_minor": 2,
 "cells": [
  {
   "cell_type": "code",
   "execution_count": 4,
   "metadata": {
    "tags": []
   },
   "outputs": [],
   "source": [
    "from sqlalchemy import create_engine\n",
    "from sqlalchemy.orm import sessionmaker\n",
    "from os import environ\n",
    "\n",
    "from data_model import models, initial_population\n",
    "from utils.sql_utils import *"
   ]
  },
  {
   "cell_type": "code",
   "execution_count": 5,
   "metadata": {},
   "outputs": [],
   "source": [
    "dropAllTables()"
   ]
  },
  {
   "cell_type": "code",
   "execution_count": 6,
   "metadata": {
    "tags": []
   },
   "outputs": [
    {
     "output_type": "stream",
     "name": "stdout",
     "text": "2020-07-27 10:49:43,161 INFO sqlalchemy.engine.base.Engine select version()\n2020-07-27 10:49:43,164 INFO sqlalchemy.engine.base.Engine {}\n2020-07-27 10:49:43,177 INFO sqlalchemy.engine.base.Engine select current_schema()\n2020-07-27 10:49:43,179 INFO sqlalchemy.engine.base.Engine {}\n2020-07-27 10:49:43,193 INFO sqlalchemy.engine.base.Engine SELECT CAST('test plain returns' AS VARCHAR(60)) AS anon_1\n2020-07-27 10:49:43,196 INFO sqlalchemy.engine.base.Engine {}\n2020-07-27 10:49:43,204 INFO sqlalchemy.engine.base.Engine SELECT CAST('test unicode returns' AS VARCHAR(60)) AS anon_1\n2020-07-27 10:49:43,208 INFO sqlalchemy.engine.base.Engine {}\n2020-07-27 10:49:43,214 INFO sqlalchemy.engine.base.Engine show standard_conforming_strings\n2020-07-27 10:49:43,218 INFO sqlalchemy.engine.base.Engine {}\n2020-07-27 10:49:43,224 INFO sqlalchemy.engine.base.Engine select relname from pg_class c join pg_namespace n on n.oid=c.relnamespace where n.nspname=%(schema)s and relname=%(name)s\n2020-07-27 10:49:43,226 INFO sqlalchemy.engine.base.Engine {'schema': 'newsdb', 'name': 'sources'}\n2020-07-27 10:49:43,234 INFO sqlalchemy.engine.base.Engine select relname from pg_class c join pg_namespace n on n.oid=c.relnamespace where n.nspname=%(schema)s and relname=%(name)s\n2020-07-27 10:49:43,236 INFO sqlalchemy.engine.base.Engine {'schema': 'newsdb', 'name': 'articles'}\n2020-07-27 10:49:43,240 INFO sqlalchemy.engine.base.Engine select relname from pg_class c join pg_namespace n on n.oid=c.relnamespace where n.nspname=%(schema)s and relname=%(name)s\n2020-07-27 10:49:43,242 INFO sqlalchemy.engine.base.Engine {'schema': 'newsdb', 'name': 'article_contents'}\n2020-07-27 10:49:43,248 INFO sqlalchemy.engine.base.Engine \nCREATE TABLE newsdb.sources (\n\tsource_uuid UUID NOT NULL, \n\tsource_name VARCHAR(100) NOT NULL, \n\tcountry TEXT, \n\twebsite_url TEXT NOT NULL, \n\tapi_url TEXT, \n\tapi_key TEXT, \n\tadded_at TIMESTAMP WITHOUT TIME ZONE NOT NULL, \n\taliases VARCHAR[], \n\tPRIMARY KEY (source_uuid), \n\tUNIQUE (source_uuid), \n\tUNIQUE (source_name), \n\tUNIQUE (website_url), \n\tUNIQUE (api_url)\n)\n\n\n2020-07-27 10:49:43,250 INFO sqlalchemy.engine.base.Engine {}\n2020-07-27 10:49:43,291 INFO sqlalchemy.engine.base.Engine COMMIT\n2020-07-27 10:49:43,300 INFO sqlalchemy.engine.base.Engine \nCREATE TABLE newsdb.articles (\n\tarticle_uuid UUID NOT NULL, \n\tarticle_url TEXT NOT NULL, \n\tsource_uuid UUID NOT NULL, \n\tprovider_uuid UUID NOT NULL, \n\ttitle TEXT NOT NULL, \n\tdescription TEXT, \n\tauthors VARCHAR[], \n\tpublished_at TIMESTAMP WITHOUT TIME ZONE NOT NULL, \n\tupdated_at TIMESTAMP WITHOUT TIME ZONE, \n\tPRIMARY KEY (article_uuid), \n\tUNIQUE (article_uuid), \n\tUNIQUE (article_url), \n\tFOREIGN KEY(source_uuid) REFERENCES newsdb.sources (source_uuid), \n\tFOREIGN KEY(provider_uuid) REFERENCES newsdb.sources (source_uuid)\n)\n\n\n2020-07-27 10:49:43,302 INFO sqlalchemy.engine.base.Engine {}\n2020-07-27 10:49:43,319 INFO sqlalchemy.engine.base.Engine COMMIT\n2020-07-27 10:49:43,325 INFO sqlalchemy.engine.base.Engine \nCREATE TABLE newsdb.article_contents (\n\tarticle_uuid UUID NOT NULL, \n\tarticle_content TEXT NOT NULL, \n\tPRIMARY KEY (article_uuid), \n\tFOREIGN KEY(article_uuid) REFERENCES newsdb.articles (article_uuid)\n)\n\n\n2020-07-27 10:49:43,327 INFO sqlalchemy.engine.base.Engine {}\n2020-07-27 10:49:43,338 INFO sqlalchemy.engine.base.Engine COMMIT\n"
    }
   ],
   "source": [
    "# Create engine\n",
    "engine = create_engine(getDBUrl()) # echo=True\n",
    "\n",
    "# Create All Tables\n",
    "models.Base.metadata.create_all(engine)"
   ]
  },
  {
   "cell_type": "code",
   "execution_count": null,
   "metadata": {},
   "outputs": [],
   "source": [
    "initial_population.populate()"
   ]
  }
 ]
}