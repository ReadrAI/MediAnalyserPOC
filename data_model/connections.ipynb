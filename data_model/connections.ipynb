{
 "metadata": {
  "language_info": {
   "codemirror_mode": {
    "name": "ipython",
    "version": 3
   },
   "file_extension": ".py",
   "mimetype": "text/x-python",
   "name": "python",
   "nbconvert_exporter": "python",
   "pygments_lexer": "ipython3",
   "version": "3.7.6-final"
  },
  "orig_nbformat": 2,
  "kernelspec": {
   "name": "python3",
   "display_name": "Python 3"
  }
 },
 "nbformat": 4,
 "nbformat_minor": 2,
 "cells": [
  {
   "cell_type": "code",
   "execution_count": null,
   "metadata": {
    "tags": []
   },
   "outputs": [],
   "source": [
    "!psql \"sslmode=require sslrootcert=/Users/jean/.postgresql/root.crt sslcert=/Users/jean/.postgresql/postgresql.crt sslkey=/Users/jean/.postgresql/postgresql.key hostaddr=35.195.3.218 port=5432 user=postgres password=H1Jos0fOziriMHxL dbname=postgres\""
   ]
  },
  {
   "cell_type": "code",
   "execution_count": null,
   "metadata": {},
   "outputs": [],
   "source": [
    "sys.path.append(\"../\")\n",
    "from utils import sql_utils"
   ]
  },
  {
   "cell_type": "code",
   "execution_count": null,
   "metadata": {},
   "outputs": [],
   "source": [
    "unix_engine = sql_utils.getEngine(sql_utils.Host.G_CLOUD_FUNCTION)"
   ]
  },
  {
   "cell_type": "code",
   "execution_count": null,
   "metadata": {},
   "outputs": [],
   "source": [
    "unix_engine.execute(\"select * from media.newsdb.article_searches\").fetchall()"
   ]
  },
  {
   "cell_type": "code",
   "execution_count": null,
   "metadata": {},
   "outputs": [],
   "source": [
    "local_engine = sql_utils.getEngine(sql_utils.Host.LOCAL_JEAN)"
   ]
  },
  {
   "cell_type": "code",
   "execution_count": null,
   "metadata": {},
   "outputs": [],
   "source": [
    "x = local_engine.execute(\"select * from newsdb.article_searches\").fetchall()\n",
    "x[0]"
   ]
  },
  {
   "cell_type": "code",
   "execution_count": null,
   "metadata": {},
   "outputs": [],
   "source": [
    "cloud_engine = sql_utils.getEngine(sql_utils.Host.G_CLOUD_SSL)"
   ]
  },
  {
   "cell_type": "code",
   "execution_count": null,
   "metadata": {},
   "outputs": [],
   "source": [
    "cloud_engine.execute(\"select * from media.newsdb.article_searches\").fetchall()"
   ]
  },
  {
   "cell_type": "code",
   "execution_count": null,
   "metadata": {},
   "outputs": [],
   "source": [
    "tables = local_engine.execute(\"SELECT * FROM pg_catalog.pg_tables WHERE schemaname != 'pg_catalog' AND schemaname != 'information_schema';\").fetchall()"
   ]
  },
  {
   "cell_type": "code",
   "execution_count": null,
   "metadata": {},
   "outputs": [],
   "source": [
    "import pandas as pd\n",
    "from utils import models"
   ]
  },
  {
   "cell_type": "code",
   "execution_count": null,
   "metadata": {
    "tags": []
   },
   "outputs": [],
   "source": [
    "for x in ['sources',\n",
    "          'articles',\n",
    "          'article_contents',\n",
    "          'rss_feeds',\n",
    "          'customers',\n",
    "          'article_searches',\n",
    "          'article_search_results',\n",
    "          'invalid_emails']:\n",
    "    print('loading table', x)\n",
    "    df = pd.read_sql_table(x, local_engine, schema=models.schema)\n",
    "    print(df.shape)\n",
    "    df.to_sql(x, cloud_engine, schema=models.schema, if_exists='append', index=False)"
   ]
  },
  {
   "cell_type": "code",
   "execution_count": null,
   "metadata": {},
   "outputs": [],
   "source": []
  }
 ]
}