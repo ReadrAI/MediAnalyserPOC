{
 "metadata": {
  "language_info": {
   "codemirror_mode": {
    "name": "ipython",
    "version": 3
   },
   "file_extension": ".py",
   "mimetype": "text/x-python",
   "name": "python",
   "nbconvert_exporter": "python",
   "pygments_lexer": "ipython3",
   "version": "3.7.6-final"
  },
  "orig_nbformat": 2,
  "kernelspec": {
   "name": "python3",
   "display_name": "Python 3"
  }
 },
 "nbformat": 4,
 "nbformat_minor": 2,
 "cells": [
  {
   "cell_type": "code",
   "execution_count": 3,
   "metadata": {
    "tags": []
   },
   "outputs": [
    {
     "output_type": "stream",
     "name": "stdout",
     "text": "Running thread! Args:Spun off thread\n (\"I'ma\", 'thread')\n"
    }
   ],
   "source": [
    "import threading, time\n",
    "def my_threaded_func(arg, arg2):\n",
    "    print(\"Running thread! Args:\", (arg, arg2))\n",
    "    time.sleep(10)\n",
    "    print(\"Done!\")\n",
    "\n",
    "thread = threading.Thread(target=my_threaded_func, args=(\"I'ma\", \"thread\"))\n",
    "thread.start()\n",
    "print(\"Spun off thread\")"
   ]
  },
  {
   "cell_type": "code",
   "execution_count": null,
   "metadata": {},
   "outputs": [],
   "source": []
  }
 ]
}