{
 "metadata": {
  "language_info": {
   "codemirror_mode": {
    "name": "ipython",
    "version": 3
   },
   "file_extension": ".py",
   "mimetype": "text/x-python",
   "name": "python",
   "nbconvert_exporter": "python",
   "pygments_lexer": "ipython3",
   "version": "3.7.6-final"
  },
  "orig_nbformat": 2,
  "kernelspec": {
   "name": "python3",
   "display_name": "Python 3"
  }
 },
 "nbformat": 4,
 "nbformat_minor": 2,
 "cells": [
  {
   "cell_type": "code",
   "execution_count": null,
   "metadata": {
    "tags": []
   },
   "outputs": [],
   "source": [
    "import threading, time\n",
    "def my_threaded_func(arg, arg2):\n",
    "    print(\"Running thread! Args:\", (arg, arg2))\n",
    "    time.sleep(10)\n",
    "    print(\"Done!\")\n",
    "\n",
    "thread = threading.Thread(target=my_threaded_func, args=(\"I'ma\", \"thread\"))\n",
    "thread.start()\n",
    "print(\"Spun off thread\")"
   ]
  },
  {
   "cell_type": "code",
   "execution_count": null,
   "metadata": {},
   "outputs": [],
   "source": [
    "import threading\n",
    "import pytz\n",
    "import datetime\n",
    "\n",
    "from flask import Flask\n",
    "\n",
    "from utils import mail_utils\n",
    "from utils.verbose import Verbose"
   ]
  },
  {
   "cell_type": "code",
   "execution_count": null,
   "metadata": {},
   "outputs": [],
   "source": [
    "def hello():\n",
    "    thread = threading.Thread(target=mail_utils.pipelineEmails, args=[Verbose.INFO])\n",
    "    thread.start()\n",
    "    now = datetime.datetime.now(tz=pytz.timezone('Europe/Brussels')).strftime(\"%Y.%m.%d %H:%M %Z\")\n",
    "    print(\"Email Request: Loading new emails\", now)\n",
    "    return \"<h1 style='color:blue'>Hello There!</h1>\""
   ]
  },
  {
   "cell_type": "code",
   "execution_count": null,
   "metadata": {
    "tags": []
   },
   "outputs": [],
   "source": [
    "hello()"
   ]
  },
  {
   "cell_type": "code",
   "execution_count": null,
   "metadata": {},
   "outputs": [],
   "source": []
  }
 ]
}