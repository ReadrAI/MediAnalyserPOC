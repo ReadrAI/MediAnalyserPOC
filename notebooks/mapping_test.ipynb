{
 "cells": [
  {
   "cell_type": "code",
   "execution_count": 1,
   "id": "continuing-absolute",
   "metadata": {},
   "outputs": [],
   "source": [
    "import sys, os\n",
    "sys.path.append(\"../\")\n",
    "os.environ['NHHOST'] = 'LOCAL_JEAN'\n",
    "from utils import sql_utils, models, data_science_utils, data_visualisation\n",
    "from utils.data_manager import DataManager\n",
    "from utils.data_science_utils import Models\n",
    "\n",
    "import numpy as np\n",
    "import pandas as pd\n",
    "import matplotlib.pyplot as plt\n",
    "import matplotlib as mpl\n",
    "from mpl_toolkits.axisartist.axislines import SubplotZero\n",
    "\n",
    "pd.set_option('display.max_colwidth', None)\n",
    "\n",
    "host = sql_utils.Host.LOCAL_JEAN\n",
    "session = sql_utils.getDBSession(host, models.schema)"
   ]
  },
  {
   "cell_type": "code",
   "execution_count": 35,
   "id": "southwest-basement",
   "metadata": {},
   "outputs": [],
   "source": [
    "results = data_science_utils.getSimilarArticlesFromText(\"Election fraud\", nb_articles=20)"
   ]
  },
  {
   "cell_type": "code",
   "execution_count": null,
   "metadata": {},
   "outputs": [],
   "source": [
    "results.reset_index(drop=False, inplace=True)"
   ]
  },
  {
   "cell_type": "code",
   "execution_count": 3,
   "id": "impressed-sussex",
   "metadata": {},
   "outputs": [],
   "source": [
    "wv = DataManager.getModel(Models.W2V).wv\n",
    "news_vect = DataManager.getModel(Models.NEWS_VECT)\n",
    "news_index = DataManager.getModel(Models.NEWS_INDEX)"
   ]
  },
  {
   "cell_type": "code",
   "execution_count": null,
   "id": "worse-heaven",
   "metadata": {},
   "outputs": [],
   "source": [
    "results.index.dtype"
   ]
  },
  {
   "cell_type": "code",
   "execution_count": 36,
   "id": "extraordinary-juice",
   "metadata": {},
   "outputs": [],
   "source": [
    "axes = [\n",
    "    ['democrat', 'republican'],\n",
    "    ['real', 'fake']\n",
    "]\n",
    "for i in range(len(axes)):\n",
    "    results = data_visualisation.addAxis(results, axes[i])\n",
    "#[['title', 'projection_factor_democrat_republican']].sort_values(by='projection_factor_democrat_republican')"
   ]
  },
  {
   "cell_type": "code",
   "execution_count": 8,
   "id": "organized-studio",
   "metadata": {},
   "outputs": [
    {
     "output_type": "display_data",
     "data": {
      "text/plain": "<Figure size 432x288 with 1 Axes>",
      "image/svg+xml": "<?xml version=\"1.0\" encoding=\"utf-8\" standalone=\"no\"?>\n<!DOCTYPE svg PUBLIC \"-//W3C//DTD SVG 1.1//EN\"\n  \"http://www.w3.org/Graphics/SVG/1.1/DTD/svg11.dtd\">\n<!-- Created with matplotlib (https://matplotlib.org/) -->\n<svg height=\"280.15625pt\" version=\"1.1\" viewBox=\"0 0 424.91875 280.15625\" width=\"424.91875pt\" xmlns=\"http://www.w3.org/2000/svg\" xmlns:xlink=\"http://www.w3.org/1999/xlink\">\n <metadata>\n  <rdf:RDF xmlns:cc=\"http://creativecommons.org/ns#\" xmlns:dc=\"http://purl.org/dc/elements/1.1/\" xmlns:rdf=\"http://www.w3.org/1999/02/22-rdf-syntax-ns#\">\n   <cc:Work>\n    <dc:type rdf:resource=\"http://purl.org/dc/dcmitype/StillImage\"/>\n    <dc:date>2021-03-25T21:07:54.894287</dc:date>\n    <dc:format>image/svg+xml</dc:format>\n    <dc:creator>\n     <cc:Agent>\n      <dc:title>Matplotlib v3.3.4, https://matplotlib.org/</dc:title>\n     </cc:Agent>\n    </dc:creator>\n   </cc:Work>\n  </rdf:RDF>\n </metadata>\n <defs>\n  <style type=\"text/css\">*{stroke-linecap:butt;stroke-linejoin:round;}</style>\n </defs>\n <g id=\"figure_1\">\n  <g id=\"patch_1\">\n   <path d=\"M 0 280.15625 \nL 424.91875 280.15625 \nL 424.91875 0 \nL 0 0 \nz\n\" style=\"fill:none;\"/>\n  </g>\n  <g id=\"axes_1\">\n   <g id=\"patch_2\">\n    <path d=\"M 26.209375 263.278125 \nL 386.421875 263.278125 \nL 386.421875 27.378125 \nL 26.209375 27.378125 \nz\n\" style=\"fill:#ffffff;\"/>\n   </g>\n   <g id=\"PathCollection_1\">\n    <defs>\n     <path d=\"M 0 3 \nC 0.795609 3 1.55874 2.683901 2.12132 2.12132 \nC 2.683901 1.55874 3 0.795609 3 0 \nC 3 -0.795609 2.683901 -1.55874 2.12132 -2.12132 \nC 1.55874 -2.683901 0.795609 -3 0 -3 \nC -0.795609 -3 -1.55874 -2.683901 -2.12132 -2.12132 \nC -2.683901 -1.55874 -3 -0.795609 -3 0 \nC -3 0.795609 -2.683901 1.55874 -2.12132 2.12132 \nC -1.55874 2.683901 -0.795609 3 0 3 \nz\n\" id=\"m07b1b7334e\" style=\"stroke:#1f77b4;\"/>\n    </defs>\n    <g clip-path=\"url(#pb3c6ddf14d)\">\n     <use style=\"fill:#1f77b4;stroke:#1f77b4;\" x=\"217.181339\" xlink:href=\"#m07b1b7334e\" y=\"146.075378\"/>\n     <use style=\"fill:#1f77b4;stroke:#1f77b4;\" x=\"225.100467\" xlink:href=\"#m07b1b7334e\" y=\"75.074071\"/>\n     <use style=\"fill:#1f77b4;stroke:#1f77b4;\" x=\"187.476505\" xlink:href=\"#m07b1b7334e\" y=\"90.199042\"/>\n     <use style=\"fill:#1f77b4;stroke:#1f77b4;\" x=\"104.128232\" xlink:href=\"#m07b1b7334e\" y=\"148.452135\"/>\n     <use style=\"fill:#1f77b4;stroke:#1f77b4;\" x=\"168.430905\" xlink:href=\"#m07b1b7334e\" y=\"72.473609\"/>\n     <use style=\"fill:#1f77b4;stroke:#1f77b4;\" x=\"111.02653\" xlink:href=\"#m07b1b7334e\" y=\"110.077256\"/>\n     <use style=\"fill:#1f77b4;stroke:#1f77b4;\" x=\"287.93711\" xlink:href=\"#m07b1b7334e\" y=\"86.360139\"/>\n     <use style=\"fill:#1f77b4;stroke:#1f77b4;\" x=\"117.102697\" xlink:href=\"#m07b1b7334e\" y=\"41.13756\"/>\n     <use style=\"fill:#1f77b4;stroke:#1f77b4;\" x=\"233.73644\" xlink:href=\"#m07b1b7334e\" y=\"216.604798\"/>\n     <use style=\"fill:#1f77b4;stroke:#1f77b4;\" x=\"370.04858\" xlink:href=\"#m07b1b7334e\" y=\"61.806641\"/>\n     <use style=\"fill:#1f77b4;stroke:#1f77b4;\" x=\"42.58267\" xlink:href=\"#m07b1b7334e\" y=\"162.209373\"/>\n     <use style=\"fill:#1f77b4;stroke:#1f77b4;\" x=\"98.009382\" xlink:href=\"#m07b1b7334e\" y=\"38.100852\"/>\n     <use style=\"fill:#1f77b4;stroke:#1f77b4;\" x=\"172.401829\" xlink:href=\"#m07b1b7334e\" y=\"153.070079\"/>\n     <use style=\"fill:#1f77b4;stroke:#1f77b4;\" x=\"67.130522\" xlink:href=\"#m07b1b7334e\" y=\"252.555398\"/>\n     <use style=\"fill:#1f77b4;stroke:#1f77b4;\" x=\"87.320888\" xlink:href=\"#m07b1b7334e\" y=\"76.579867\"/>\n     <use style=\"fill:#1f77b4;stroke:#1f77b4;\" x=\"166.885523\" xlink:href=\"#m07b1b7334e\" y=\"148.908068\"/>\n     <use style=\"fill:#1f77b4;stroke:#1f77b4;\" x=\"275.358558\" xlink:href=\"#m07b1b7334e\" y=\"95.838865\"/>\n     <use style=\"fill:#1f77b4;stroke:#1f77b4;\" x=\"170.604725\" xlink:href=\"#m07b1b7334e\" y=\"195.814236\"/>\n     <use style=\"fill:#1f77b4;stroke:#1f77b4;\" x=\"308.171331\" xlink:href=\"#m07b1b7334e\" y=\"48.282629\"/>\n    </g>\n   </g>\n   <g id=\"mpl_toolkits.axisartist.axis_artist_1\">\n    <defs>\n     <path d=\"M 0 0 \nL 0 -3.5 \n\" id=\"m57418935a1\" style=\"stroke:#ffffff;stroke-width:0.8;\"/>\n    </defs>\n    <g>\n     <use style=\"fill:none;stroke:#ffffff;stroke-width:0.8;\" x=\"64.209628\" xlink:href=\"#m57418935a1\" y=\"197.053237\"/>\n    </g>\n    <g>\n     <use style=\"fill:none;stroke:#ffffff;stroke-width:0.8;\" x=\"133.581774\" xlink:href=\"#m57418935a1\" y=\"197.053237\"/>\n    </g>\n    <g>\n     <use style=\"fill:none;stroke:#ffffff;stroke-width:0.8;\" x=\"202.953919\" xlink:href=\"#m57418935a1\" y=\"197.053237\"/>\n    </g>\n    <g>\n     <use style=\"fill:none;stroke:#ffffff;stroke-width:0.8;\" x=\"272.326064\" xlink:href=\"#m57418935a1\" y=\"197.053237\"/>\n    </g>\n    <g>\n     <use style=\"fill:none;stroke:#ffffff;stroke-width:0.8;\" x=\"341.698209\" xlink:href=\"#m57418935a1\" y=\"197.053237\"/>\n    </g>\n    <g id=\"patch_3\">\n     <path d=\"M 26.209375 197.053237 \nL 386.421875 197.053237 \nL 395.303841 197.053237 \n\" style=\"fill:none;stroke:#000000;stroke-linecap:round;\"/>\n     <path d=\"M 391.303841 195.053237 \nL 395.303841 197.053237 \nL 391.303841 199.053237 \nL 391.303841 195.053237 \nz\n\" style=\"fill:#1f77b4;stroke:#000000;stroke-linecap:round;\"/>\n    </g>\n   </g>\n   <g id=\"mpl_toolkits.axisartist.axis_artist_2\">\n    <defs>\n     <path d=\"M 0 0 \nL -3.5 -0 \n\" id=\"mc7817cbb43\" style=\"stroke:#ffffff;stroke-width:0.8;\"/>\n    </defs>\n    <g>\n     <use style=\"fill:none;stroke:#ffffff;stroke-width:0.8;\" x=\"133.581774\" xlink:href=\"#mc7817cbb43\" y=\"232.469061\"/>\n    </g>\n    <g>\n     <use style=\"fill:none;stroke:#ffffff;stroke-width:0.8;\" x=\"133.581774\" xlink:href=\"#mc7817cbb43\" y=\"197.053237\"/>\n    </g>\n    <g>\n     <use style=\"fill:none;stroke:#ffffff;stroke-width:0.8;\" x=\"133.581774\" xlink:href=\"#mc7817cbb43\" y=\"161.637414\"/>\n    </g>\n    <g>\n     <use style=\"fill:none;stroke:#ffffff;stroke-width:0.8;\" x=\"133.581774\" xlink:href=\"#mc7817cbb43\" y=\"126.221591\"/>\n    </g>\n    <g>\n     <use style=\"fill:none;stroke:#ffffff;stroke-width:0.8;\" x=\"133.581774\" xlink:href=\"#mc7817cbb43\" y=\"90.805768\"/>\n    </g>\n    <g>\n     <use style=\"fill:none;stroke:#ffffff;stroke-width:0.8;\" x=\"133.581774\" xlink:href=\"#mc7817cbb43\" y=\"55.389944\"/>\n    </g>\n    <g id=\"patch_4\">\n     <path d=\"M 133.581774 263.278125 \nL 133.581774 27.378125 \nL 133.581774 18.496159 \n\" style=\"fill:none;stroke:#000000;stroke-linecap:round;\"/>\n     <path d=\"M 131.581774 22.496159 \nL 133.581774 18.496159 \nL 135.581774 22.496159 \nL 131.581774 22.496159 \nz\n\" style=\"fill:#1f77b4;stroke:#000000;stroke-linecap:round;\"/>\n    </g>\n   </g>\n   <g id=\"text_1\">\n    <!-- 0 -->\n    <g style=\"fill:#ff0000;\" transform=\"translate(217.181339 146.075378)scale(0.14 -0.14)\">\n     <defs>\n      <path d=\"M 31.78125 66.40625 \nQ 24.171875 66.40625 20.328125 58.90625 \nQ 16.5 51.421875 16.5 36.375 \nQ 16.5 21.390625 20.328125 13.890625 \nQ 24.171875 6.390625 31.78125 6.390625 \nQ 39.453125 6.390625 43.28125 13.890625 \nQ 47.125 21.390625 47.125 36.375 \nQ 47.125 51.421875 43.28125 58.90625 \nQ 39.453125 66.40625 31.78125 66.40625 \nz\nM 31.78125 74.21875 \nQ 44.046875 74.21875 50.515625 64.515625 \nQ 56.984375 54.828125 56.984375 36.375 \nQ 56.984375 17.96875 50.515625 8.265625 \nQ 44.046875 -1.421875 31.78125 -1.421875 \nQ 19.53125 -1.421875 13.0625 8.265625 \nQ 6.59375 17.96875 6.59375 36.375 \nQ 6.59375 54.828125 13.0625 64.515625 \nQ 19.53125 74.21875 31.78125 74.21875 \nz\n\" id=\"DejaVuSans-48\"/>\n     </defs>\n     <use xlink:href=\"#DejaVuSans-48\"/>\n    </g>\n   </g>\n   <g id=\"text_2\">\n    <!-- 1 -->\n    <g style=\"fill:#ff0000;\" transform=\"translate(225.100467 75.074071)scale(0.14 -0.14)\">\n     <defs>\n      <path d=\"M 12.40625 8.296875 \nL 28.515625 8.296875 \nL 28.515625 63.921875 \nL 10.984375 60.40625 \nL 10.984375 69.390625 \nL 28.421875 72.90625 \nL 38.28125 72.90625 \nL 38.28125 8.296875 \nL 54.390625 8.296875 \nL 54.390625 0 \nL 12.40625 0 \nz\n\" id=\"DejaVuSans-49\"/>\n     </defs>\n     <use xlink:href=\"#DejaVuSans-49\"/>\n    </g>\n   </g>\n   <g id=\"text_3\">\n    <!-- 2 -->\n    <g style=\"fill:#ff0000;\" transform=\"translate(187.476505 90.199042)scale(0.14 -0.14)\">\n     <defs>\n      <path d=\"M 19.1875 8.296875 \nL 53.609375 8.296875 \nL 53.609375 0 \nL 7.328125 0 \nL 7.328125 8.296875 \nQ 12.9375 14.109375 22.625 23.890625 \nQ 32.328125 33.6875 34.8125 36.53125 \nQ 39.546875 41.84375 41.421875 45.53125 \nQ 43.3125 49.21875 43.3125 52.78125 \nQ 43.3125 58.59375 39.234375 62.25 \nQ 35.15625 65.921875 28.609375 65.921875 \nQ 23.96875 65.921875 18.8125 64.3125 \nQ 13.671875 62.703125 7.8125 59.421875 \nL 7.8125 69.390625 \nQ 13.765625 71.78125 18.9375 73 \nQ 24.125 74.21875 28.421875 74.21875 \nQ 39.75 74.21875 46.484375 68.546875 \nQ 53.21875 62.890625 53.21875 53.421875 \nQ 53.21875 48.921875 51.53125 44.890625 \nQ 49.859375 40.875 45.40625 35.40625 \nQ 44.1875 33.984375 37.640625 27.21875 \nQ 31.109375 20.453125 19.1875 8.296875 \nz\n\" id=\"DejaVuSans-50\"/>\n     </defs>\n     <use xlink:href=\"#DejaVuSans-50\"/>\n    </g>\n   </g>\n   <g id=\"text_4\">\n    <!-- 3 -->\n    <g style=\"fill:#ff0000;\" transform=\"translate(104.128232 148.452135)scale(0.14 -0.14)\">\n     <defs>\n      <path d=\"M 40.578125 39.3125 \nQ 47.65625 37.796875 51.625 33 \nQ 55.609375 28.21875 55.609375 21.1875 \nQ 55.609375 10.40625 48.1875 4.484375 \nQ 40.765625 -1.421875 27.09375 -1.421875 \nQ 22.515625 -1.421875 17.65625 -0.515625 \nQ 12.796875 0.390625 7.625 2.203125 \nL 7.625 11.71875 \nQ 11.71875 9.328125 16.59375 8.109375 \nQ 21.484375 6.890625 26.8125 6.890625 \nQ 36.078125 6.890625 40.9375 10.546875 \nQ 45.796875 14.203125 45.796875 21.1875 \nQ 45.796875 27.640625 41.28125 31.265625 \nQ 36.765625 34.90625 28.71875 34.90625 \nL 20.21875 34.90625 \nL 20.21875 43.015625 \nL 29.109375 43.015625 \nQ 36.375 43.015625 40.234375 45.921875 \nQ 44.09375 48.828125 44.09375 54.296875 \nQ 44.09375 59.90625 40.109375 62.90625 \nQ 36.140625 65.921875 28.71875 65.921875 \nQ 24.65625 65.921875 20.015625 65.03125 \nQ 15.375 64.15625 9.8125 62.3125 \nL 9.8125 71.09375 \nQ 15.4375 72.65625 20.34375 73.4375 \nQ 25.25 74.21875 29.59375 74.21875 \nQ 40.828125 74.21875 47.359375 69.109375 \nQ 53.90625 64.015625 53.90625 55.328125 \nQ 53.90625 49.265625 50.4375 45.09375 \nQ 46.96875 40.921875 40.578125 39.3125 \nz\n\" id=\"DejaVuSans-51\"/>\n     </defs>\n     <use xlink:href=\"#DejaVuSans-51\"/>\n    </g>\n   </g>\n   <g id=\"text_5\">\n    <!-- 4 -->\n    <g style=\"fill:#ff0000;\" transform=\"translate(168.430905 72.473609)scale(0.14 -0.14)\">\n     <defs>\n      <path d=\"M 37.796875 64.3125 \nL 12.890625 25.390625 \nL 37.796875 25.390625 \nz\nM 35.203125 72.90625 \nL 47.609375 72.90625 \nL 47.609375 25.390625 \nL 58.015625 25.390625 \nL 58.015625 17.1875 \nL 47.609375 17.1875 \nL 47.609375 0 \nL 37.796875 0 \nL 37.796875 17.1875 \nL 4.890625 17.1875 \nL 4.890625 26.703125 \nz\n\" id=\"DejaVuSans-52\"/>\n     </defs>\n     <use xlink:href=\"#DejaVuSans-52\"/>\n    </g>\n   </g>\n   <g id=\"text_6\">\n    <!-- 5 -->\n    <g style=\"fill:#ff0000;\" transform=\"translate(111.02653 110.077256)scale(0.14 -0.14)\">\n     <defs>\n      <path d=\"M 10.796875 72.90625 \nL 49.515625 72.90625 \nL 49.515625 64.59375 \nL 19.828125 64.59375 \nL 19.828125 46.734375 \nQ 21.96875 47.46875 24.109375 47.828125 \nQ 26.265625 48.1875 28.421875 48.1875 \nQ 40.625 48.1875 47.75 41.5 \nQ 54.890625 34.8125 54.890625 23.390625 \nQ 54.890625 11.625 47.5625 5.09375 \nQ 40.234375 -1.421875 26.90625 -1.421875 \nQ 22.3125 -1.421875 17.546875 -0.640625 \nQ 12.796875 0.140625 7.71875 1.703125 \nL 7.71875 11.625 \nQ 12.109375 9.234375 16.796875 8.0625 \nQ 21.484375 6.890625 26.703125 6.890625 \nQ 35.15625 6.890625 40.078125 11.328125 \nQ 45.015625 15.765625 45.015625 23.390625 \nQ 45.015625 31 40.078125 35.4375 \nQ 35.15625 39.890625 26.703125 39.890625 \nQ 22.75 39.890625 18.8125 39.015625 \nQ 14.890625 38.140625 10.796875 36.28125 \nz\n\" id=\"DejaVuSans-53\"/>\n     </defs>\n     <use xlink:href=\"#DejaVuSans-53\"/>\n    </g>\n   </g>\n   <g id=\"text_7\">\n    <!-- 6 -->\n    <g style=\"fill:#ff0000;\" transform=\"translate(287.93711 86.360139)scale(0.14 -0.14)\">\n     <defs>\n      <path d=\"M 33.015625 40.375 \nQ 26.375 40.375 22.484375 35.828125 \nQ 18.609375 31.296875 18.609375 23.390625 \nQ 18.609375 15.53125 22.484375 10.953125 \nQ 26.375 6.390625 33.015625 6.390625 \nQ 39.65625 6.390625 43.53125 10.953125 \nQ 47.40625 15.53125 47.40625 23.390625 \nQ 47.40625 31.296875 43.53125 35.828125 \nQ 39.65625 40.375 33.015625 40.375 \nz\nM 52.59375 71.296875 \nL 52.59375 62.3125 \nQ 48.875 64.0625 45.09375 64.984375 \nQ 41.3125 65.921875 37.59375 65.921875 \nQ 27.828125 65.921875 22.671875 59.328125 \nQ 17.53125 52.734375 16.796875 39.40625 \nQ 19.671875 43.65625 24.015625 45.921875 \nQ 28.375 48.1875 33.59375 48.1875 \nQ 44.578125 48.1875 50.953125 41.515625 \nQ 57.328125 34.859375 57.328125 23.390625 \nQ 57.328125 12.15625 50.6875 5.359375 \nQ 44.046875 -1.421875 33.015625 -1.421875 \nQ 20.359375 -1.421875 13.671875 8.265625 \nQ 6.984375 17.96875 6.984375 36.375 \nQ 6.984375 53.65625 15.1875 63.9375 \nQ 23.390625 74.21875 37.203125 74.21875 \nQ 40.921875 74.21875 44.703125 73.484375 \nQ 48.484375 72.75 52.59375 71.296875 \nz\n\" id=\"DejaVuSans-54\"/>\n     </defs>\n     <use xlink:href=\"#DejaVuSans-54\"/>\n    </g>\n   </g>\n   <g id=\"text_8\">\n    <!-- 7 -->\n    <g style=\"fill:#ff0000;\" transform=\"translate(117.102697 41.13756)scale(0.14 -0.14)\">\n     <defs>\n      <path d=\"M 8.203125 72.90625 \nL 55.078125 72.90625 \nL 55.078125 68.703125 \nL 28.609375 0 \nL 18.3125 0 \nL 43.21875 64.59375 \nL 8.203125 64.59375 \nz\n\" id=\"DejaVuSans-55\"/>\n     </defs>\n     <use xlink:href=\"#DejaVuSans-55\"/>\n    </g>\n   </g>\n   <g id=\"text_9\">\n    <!-- 8 -->\n    <g style=\"fill:#ff0000;\" transform=\"translate(233.73644 216.604798)scale(0.14 -0.14)\">\n     <defs>\n      <path d=\"M 31.78125 34.625 \nQ 24.75 34.625 20.71875 30.859375 \nQ 16.703125 27.09375 16.703125 20.515625 \nQ 16.703125 13.921875 20.71875 10.15625 \nQ 24.75 6.390625 31.78125 6.390625 \nQ 38.8125 6.390625 42.859375 10.171875 \nQ 46.921875 13.96875 46.921875 20.515625 \nQ 46.921875 27.09375 42.890625 30.859375 \nQ 38.875 34.625 31.78125 34.625 \nz\nM 21.921875 38.8125 \nQ 15.578125 40.375 12.03125 44.71875 \nQ 8.5 49.078125 8.5 55.328125 \nQ 8.5 64.0625 14.71875 69.140625 \nQ 20.953125 74.21875 31.78125 74.21875 \nQ 42.671875 74.21875 48.875 69.140625 \nQ 55.078125 64.0625 55.078125 55.328125 \nQ 55.078125 49.078125 51.53125 44.71875 \nQ 48 40.375 41.703125 38.8125 \nQ 48.828125 37.15625 52.796875 32.3125 \nQ 56.78125 27.484375 56.78125 20.515625 \nQ 56.78125 9.90625 50.3125 4.234375 \nQ 43.84375 -1.421875 31.78125 -1.421875 \nQ 19.734375 -1.421875 13.25 4.234375 \nQ 6.78125 9.90625 6.78125 20.515625 \nQ 6.78125 27.484375 10.78125 32.3125 \nQ 14.796875 37.15625 21.921875 38.8125 \nz\nM 18.3125 54.390625 \nQ 18.3125 48.734375 21.84375 45.5625 \nQ 25.390625 42.390625 31.78125 42.390625 \nQ 38.140625 42.390625 41.71875 45.5625 \nQ 45.3125 48.734375 45.3125 54.390625 \nQ 45.3125 60.0625 41.71875 63.234375 \nQ 38.140625 66.40625 31.78125 66.40625 \nQ 25.390625 66.40625 21.84375 63.234375 \nQ 18.3125 60.0625 18.3125 54.390625 \nz\n\" id=\"DejaVuSans-56\"/>\n     </defs>\n     <use xlink:href=\"#DejaVuSans-56\"/>\n    </g>\n   </g>\n   <g id=\"text_10\">\n    <!-- 9 -->\n    <g style=\"fill:#ff0000;\" transform=\"translate(370.04858 61.806641)scale(0.14 -0.14)\">\n     <defs>\n      <path d=\"M 10.984375 1.515625 \nL 10.984375 10.5 \nQ 14.703125 8.734375 18.5 7.8125 \nQ 22.3125 6.890625 25.984375 6.890625 \nQ 35.75 6.890625 40.890625 13.453125 \nQ 46.046875 20.015625 46.78125 33.40625 \nQ 43.953125 29.203125 39.59375 26.953125 \nQ 35.25 24.703125 29.984375 24.703125 \nQ 19.046875 24.703125 12.671875 31.3125 \nQ 6.296875 37.9375 6.296875 49.421875 \nQ 6.296875 60.640625 12.9375 67.421875 \nQ 19.578125 74.21875 30.609375 74.21875 \nQ 43.265625 74.21875 49.921875 64.515625 \nQ 56.59375 54.828125 56.59375 36.375 \nQ 56.59375 19.140625 48.40625 8.859375 \nQ 40.234375 -1.421875 26.421875 -1.421875 \nQ 22.703125 -1.421875 18.890625 -0.6875 \nQ 15.09375 0.046875 10.984375 1.515625 \nz\nM 30.609375 32.421875 \nQ 37.25 32.421875 41.125 36.953125 \nQ 45.015625 41.5 45.015625 49.421875 \nQ 45.015625 57.28125 41.125 61.84375 \nQ 37.25 66.40625 30.609375 66.40625 \nQ 23.96875 66.40625 20.09375 61.84375 \nQ 16.21875 57.28125 16.21875 49.421875 \nQ 16.21875 41.5 20.09375 36.953125 \nQ 23.96875 32.421875 30.609375 32.421875 \nz\n\" id=\"DejaVuSans-57\"/>\n     </defs>\n     <use xlink:href=\"#DejaVuSans-57\"/>\n    </g>\n   </g>\n   <g id=\"text_11\">\n    <!-- 10 -->\n    <g style=\"fill:#ff0000;\" transform=\"translate(42.58267 162.209373)scale(0.14 -0.14)\">\n     <use xlink:href=\"#DejaVuSans-49\"/>\n     <use x=\"63.623047\" xlink:href=\"#DejaVuSans-48\"/>\n    </g>\n   </g>\n   <g id=\"text_12\">\n    <!-- 11 -->\n    <g style=\"fill:#ff0000;\" transform=\"translate(98.009382 38.100852)scale(0.14 -0.14)\">\n     <use xlink:href=\"#DejaVuSans-49\"/>\n     <use x=\"63.623047\" xlink:href=\"#DejaVuSans-49\"/>\n    </g>\n   </g>\n   <g id=\"text_13\">\n    <!-- 12 -->\n    <g style=\"fill:#ff0000;\" transform=\"translate(172.401829 153.070079)scale(0.14 -0.14)\">\n     <use xlink:href=\"#DejaVuSans-49\"/>\n     <use x=\"63.623047\" xlink:href=\"#DejaVuSans-50\"/>\n    </g>\n   </g>\n   <g id=\"text_14\">\n    <!-- 13 -->\n    <g style=\"fill:#ff0000;\" transform=\"translate(67.130522 252.555398)scale(0.14 -0.14)\">\n     <use xlink:href=\"#DejaVuSans-49\"/>\n     <use x=\"63.623047\" xlink:href=\"#DejaVuSans-51\"/>\n    </g>\n   </g>\n   <g id=\"text_15\">\n    <!-- 14 -->\n    <g style=\"fill:#ff0000;\" transform=\"translate(87.320888 76.579867)scale(0.14 -0.14)\">\n     <use xlink:href=\"#DejaVuSans-49\"/>\n     <use x=\"63.623047\" xlink:href=\"#DejaVuSans-52\"/>\n    </g>\n   </g>\n   <g id=\"text_16\">\n    <!-- 15 -->\n    <g style=\"fill:#ff0000;\" transform=\"translate(166.885523 148.908068)scale(0.14 -0.14)\">\n     <use xlink:href=\"#DejaVuSans-49\"/>\n     <use x=\"63.623047\" xlink:href=\"#DejaVuSans-53\"/>\n    </g>\n   </g>\n   <g id=\"text_17\">\n    <!-- 16 -->\n    <g style=\"fill:#ff0000;\" transform=\"translate(275.358558 95.838865)scale(0.14 -0.14)\">\n     <use xlink:href=\"#DejaVuSans-49\"/>\n     <use x=\"63.623047\" xlink:href=\"#DejaVuSans-54\"/>\n    </g>\n   </g>\n   <g id=\"text_18\">\n    <!-- 17 -->\n    <g style=\"fill:#ff0000;\" transform=\"translate(170.604725 195.814236)scale(0.14 -0.14)\">\n     <use xlink:href=\"#DejaVuSans-49\"/>\n     <use x=\"63.623047\" xlink:href=\"#DejaVuSans-55\"/>\n    </g>\n   </g>\n   <g id=\"text_19\">\n    <!-- 18 -->\n    <g style=\"fill:#ff0000;\" transform=\"translate(308.171331 48.282629)scale(0.14 -0.14)\">\n     <use xlink:href=\"#DejaVuSans-49\"/>\n     <use x=\"63.623047\" xlink:href=\"#DejaVuSans-56\"/>\n    </g>\n   </g>\n   <g id=\"text_20\">\n    <!-- republican -->\n    <g transform=\"translate(365.125 156.426563)scale(0.1 -0.1)\">\n     <defs>\n      <path d=\"M 41.109375 46.296875 \nQ 39.59375 47.171875 37.8125 47.578125 \nQ 36.03125 48 33.890625 48 \nQ 26.265625 48 22.1875 43.046875 \nQ 18.109375 38.09375 18.109375 28.8125 \nL 18.109375 0 \nL 9.078125 0 \nL 9.078125 54.6875 \nL 18.109375 54.6875 \nL 18.109375 46.1875 \nQ 20.953125 51.171875 25.484375 53.578125 \nQ 30.03125 56 36.53125 56 \nQ 37.453125 56 38.578125 55.875 \nQ 39.703125 55.765625 41.0625 55.515625 \nz\n\" id=\"DejaVuSans-114\"/>\n      <path d=\"M 56.203125 29.59375 \nL 56.203125 25.203125 \nL 14.890625 25.203125 \nQ 15.484375 15.921875 20.484375 11.0625 \nQ 25.484375 6.203125 34.421875 6.203125 \nQ 39.59375 6.203125 44.453125 7.46875 \nQ 49.3125 8.734375 54.109375 11.28125 \nL 54.109375 2.78125 \nQ 49.265625 0.734375 44.1875 -0.34375 \nQ 39.109375 -1.421875 33.890625 -1.421875 \nQ 20.796875 -1.421875 13.15625 6.1875 \nQ 5.515625 13.8125 5.515625 26.8125 \nQ 5.515625 40.234375 12.765625 48.109375 \nQ 20.015625 56 32.328125 56 \nQ 43.359375 56 49.78125 48.890625 \nQ 56.203125 41.796875 56.203125 29.59375 \nz\nM 47.21875 32.234375 \nQ 47.125 39.59375 43.09375 43.984375 \nQ 39.0625 48.390625 32.421875 48.390625 \nQ 24.90625 48.390625 20.390625 44.140625 \nQ 15.875 39.890625 15.1875 32.171875 \nz\n\" id=\"DejaVuSans-101\"/>\n      <path d=\"M 18.109375 8.203125 \nL 18.109375 -20.796875 \nL 9.078125 -20.796875 \nL 9.078125 54.6875 \nL 18.109375 54.6875 \nL 18.109375 46.390625 \nQ 20.953125 51.265625 25.265625 53.625 \nQ 29.59375 56 35.59375 56 \nQ 45.5625 56 51.78125 48.09375 \nQ 58.015625 40.1875 58.015625 27.296875 \nQ 58.015625 14.40625 51.78125 6.484375 \nQ 45.5625 -1.421875 35.59375 -1.421875 \nQ 29.59375 -1.421875 25.265625 0.953125 \nQ 20.953125 3.328125 18.109375 8.203125 \nz\nM 48.6875 27.296875 \nQ 48.6875 37.203125 44.609375 42.84375 \nQ 40.53125 48.484375 33.40625 48.484375 \nQ 26.265625 48.484375 22.1875 42.84375 \nQ 18.109375 37.203125 18.109375 27.296875 \nQ 18.109375 17.390625 22.1875 11.75 \nQ 26.265625 6.109375 33.40625 6.109375 \nQ 40.53125 6.109375 44.609375 11.75 \nQ 48.6875 17.390625 48.6875 27.296875 \nz\n\" id=\"DejaVuSans-112\"/>\n      <path d=\"M 8.5 21.578125 \nL 8.5 54.6875 \nL 17.484375 54.6875 \nL 17.484375 21.921875 \nQ 17.484375 14.15625 20.5 10.265625 \nQ 23.53125 6.390625 29.59375 6.390625 \nQ 36.859375 6.390625 41.078125 11.03125 \nQ 45.3125 15.671875 45.3125 23.6875 \nL 45.3125 54.6875 \nL 54.296875 54.6875 \nL 54.296875 0 \nL 45.3125 0 \nL 45.3125 8.40625 \nQ 42.046875 3.421875 37.71875 1 \nQ 33.40625 -1.421875 27.6875 -1.421875 \nQ 18.265625 -1.421875 13.375 4.4375 \nQ 8.5 10.296875 8.5 21.578125 \nz\nM 31.109375 56 \nz\n\" id=\"DejaVuSans-117\"/>\n      <path d=\"M 48.6875 27.296875 \nQ 48.6875 37.203125 44.609375 42.84375 \nQ 40.53125 48.484375 33.40625 48.484375 \nQ 26.265625 48.484375 22.1875 42.84375 \nQ 18.109375 37.203125 18.109375 27.296875 \nQ 18.109375 17.390625 22.1875 11.75 \nQ 26.265625 6.109375 33.40625 6.109375 \nQ 40.53125 6.109375 44.609375 11.75 \nQ 48.6875 17.390625 48.6875 27.296875 \nz\nM 18.109375 46.390625 \nQ 20.953125 51.265625 25.265625 53.625 \nQ 29.59375 56 35.59375 56 \nQ 45.5625 56 51.78125 48.09375 \nQ 58.015625 40.1875 58.015625 27.296875 \nQ 58.015625 14.40625 51.78125 6.484375 \nQ 45.5625 -1.421875 35.59375 -1.421875 \nQ 29.59375 -1.421875 25.265625 0.953125 \nQ 20.953125 3.328125 18.109375 8.203125 \nL 18.109375 0 \nL 9.078125 0 \nL 9.078125 75.984375 \nL 18.109375 75.984375 \nz\n\" id=\"DejaVuSans-98\"/>\n      <path d=\"M 9.421875 75.984375 \nL 18.40625 75.984375 \nL 18.40625 0 \nL 9.421875 0 \nz\n\" id=\"DejaVuSans-108\"/>\n      <path d=\"M 9.421875 54.6875 \nL 18.40625 54.6875 \nL 18.40625 0 \nL 9.421875 0 \nz\nM 9.421875 75.984375 \nL 18.40625 75.984375 \nL 18.40625 64.59375 \nL 9.421875 64.59375 \nz\n\" id=\"DejaVuSans-105\"/>\n      <path d=\"M 48.78125 52.59375 \nL 48.78125 44.1875 \nQ 44.96875 46.296875 41.140625 47.34375 \nQ 37.3125 48.390625 33.40625 48.390625 \nQ 24.65625 48.390625 19.8125 42.84375 \nQ 14.984375 37.3125 14.984375 27.296875 \nQ 14.984375 17.28125 19.8125 11.734375 \nQ 24.65625 6.203125 33.40625 6.203125 \nQ 37.3125 6.203125 41.140625 7.25 \nQ 44.96875 8.296875 48.78125 10.40625 \nL 48.78125 2.09375 \nQ 45.015625 0.34375 40.984375 -0.53125 \nQ 36.96875 -1.421875 32.421875 -1.421875 \nQ 20.0625 -1.421875 12.78125 6.34375 \nQ 5.515625 14.109375 5.515625 27.296875 \nQ 5.515625 40.671875 12.859375 48.328125 \nQ 20.21875 56 33.015625 56 \nQ 37.15625 56 41.109375 55.140625 \nQ 45.0625 54.296875 48.78125 52.59375 \nz\n\" id=\"DejaVuSans-99\"/>\n      <path d=\"M 34.28125 27.484375 \nQ 23.390625 27.484375 19.1875 25 \nQ 14.984375 22.515625 14.984375 16.5 \nQ 14.984375 11.71875 18.140625 8.90625 \nQ 21.296875 6.109375 26.703125 6.109375 \nQ 34.1875 6.109375 38.703125 11.40625 \nQ 43.21875 16.703125 43.21875 25.484375 \nL 43.21875 27.484375 \nz\nM 52.203125 31.203125 \nL 52.203125 0 \nL 43.21875 0 \nL 43.21875 8.296875 \nQ 40.140625 3.328125 35.546875 0.953125 \nQ 30.953125 -1.421875 24.3125 -1.421875 \nQ 15.921875 -1.421875 10.953125 3.296875 \nQ 6 8.015625 6 15.921875 \nQ 6 25.140625 12.171875 29.828125 \nQ 18.359375 34.515625 30.609375 34.515625 \nL 43.21875 34.515625 \nL 43.21875 35.40625 \nQ 43.21875 41.609375 39.140625 45 \nQ 35.0625 48.390625 27.6875 48.390625 \nQ 23 48.390625 18.546875 47.265625 \nQ 14.109375 46.140625 10.015625 43.890625 \nL 10.015625 52.203125 \nQ 14.9375 54.109375 19.578125 55.046875 \nQ 24.21875 56 28.609375 56 \nQ 40.484375 56 46.34375 49.84375 \nQ 52.203125 43.703125 52.203125 31.203125 \nz\n\" id=\"DejaVuSans-97\"/>\n      <path d=\"M 54.890625 33.015625 \nL 54.890625 0 \nL 45.90625 0 \nL 45.90625 32.71875 \nQ 45.90625 40.484375 42.875 44.328125 \nQ 39.84375 48.1875 33.796875 48.1875 \nQ 26.515625 48.1875 22.3125 43.546875 \nQ 18.109375 38.921875 18.109375 30.90625 \nL 18.109375 0 \nL 9.078125 0 \nL 9.078125 54.6875 \nL 18.109375 54.6875 \nL 18.109375 46.1875 \nQ 21.34375 51.125 25.703125 53.5625 \nQ 30.078125 56 35.796875 56 \nQ 45.21875 56 50.046875 50.171875 \nQ 54.890625 44.34375 54.890625 33.015625 \nz\n\" id=\"DejaVuSans-110\"/>\n     </defs>\n     <use xlink:href=\"#DejaVuSans-114\"/>\n     <use x=\"38.863281\" xlink:href=\"#DejaVuSans-101\"/>\n     <use x=\"100.386719\" xlink:href=\"#DejaVuSans-112\"/>\n     <use x=\"163.863281\" xlink:href=\"#DejaVuSans-117\"/>\n     <use x=\"227.242188\" xlink:href=\"#DejaVuSans-98\"/>\n     <use x=\"290.71875\" xlink:href=\"#DejaVuSans-108\"/>\n     <use x=\"318.501953\" xlink:href=\"#DejaVuSans-105\"/>\n     <use x=\"346.285156\" xlink:href=\"#DejaVuSans-99\"/>\n     <use x=\"401.265625\" xlink:href=\"#DejaVuSans-97\"/>\n     <use x=\"462.544922\" xlink:href=\"#DejaVuSans-110\"/>\n    </g>\n   </g>\n   <g id=\"text_21\">\n    <!-- democrat -->\n    <g transform=\"translate(7.2 156.426563)scale(0.1 -0.1)\">\n     <defs>\n      <path d=\"M 45.40625 46.390625 \nL 45.40625 75.984375 \nL 54.390625 75.984375 \nL 54.390625 0 \nL 45.40625 0 \nL 45.40625 8.203125 \nQ 42.578125 3.328125 38.25 0.953125 \nQ 33.9375 -1.421875 27.875 -1.421875 \nQ 17.96875 -1.421875 11.734375 6.484375 \nQ 5.515625 14.40625 5.515625 27.296875 \nQ 5.515625 40.1875 11.734375 48.09375 \nQ 17.96875 56 27.875 56 \nQ 33.9375 56 38.25 53.625 \nQ 42.578125 51.265625 45.40625 46.390625 \nz\nM 14.796875 27.296875 \nQ 14.796875 17.390625 18.875 11.75 \nQ 22.953125 6.109375 30.078125 6.109375 \nQ 37.203125 6.109375 41.296875 11.75 \nQ 45.40625 17.390625 45.40625 27.296875 \nQ 45.40625 37.203125 41.296875 42.84375 \nQ 37.203125 48.484375 30.078125 48.484375 \nQ 22.953125 48.484375 18.875 42.84375 \nQ 14.796875 37.203125 14.796875 27.296875 \nz\n\" id=\"DejaVuSans-100\"/>\n      <path d=\"M 52 44.1875 \nQ 55.375 50.25 60.0625 53.125 \nQ 64.75 56 71.09375 56 \nQ 79.640625 56 84.28125 50.015625 \nQ 88.921875 44.046875 88.921875 33.015625 \nL 88.921875 0 \nL 79.890625 0 \nL 79.890625 32.71875 \nQ 79.890625 40.578125 77.09375 44.375 \nQ 74.3125 48.1875 68.609375 48.1875 \nQ 61.625 48.1875 57.5625 43.546875 \nQ 53.515625 38.921875 53.515625 30.90625 \nL 53.515625 0 \nL 44.484375 0 \nL 44.484375 32.71875 \nQ 44.484375 40.625 41.703125 44.40625 \nQ 38.921875 48.1875 33.109375 48.1875 \nQ 26.21875 48.1875 22.15625 43.53125 \nQ 18.109375 38.875 18.109375 30.90625 \nL 18.109375 0 \nL 9.078125 0 \nL 9.078125 54.6875 \nL 18.109375 54.6875 \nL 18.109375 46.1875 \nQ 21.1875 51.21875 25.484375 53.609375 \nQ 29.78125 56 35.6875 56 \nQ 41.65625 56 45.828125 52.96875 \nQ 50 49.953125 52 44.1875 \nz\n\" id=\"DejaVuSans-109\"/>\n      <path d=\"M 30.609375 48.390625 \nQ 23.390625 48.390625 19.1875 42.75 \nQ 14.984375 37.109375 14.984375 27.296875 \nQ 14.984375 17.484375 19.15625 11.84375 \nQ 23.34375 6.203125 30.609375 6.203125 \nQ 37.796875 6.203125 41.984375 11.859375 \nQ 46.1875 17.53125 46.1875 27.296875 \nQ 46.1875 37.015625 41.984375 42.703125 \nQ 37.796875 48.390625 30.609375 48.390625 \nz\nM 30.609375 56 \nQ 42.328125 56 49.015625 48.375 \nQ 55.71875 40.765625 55.71875 27.296875 \nQ 55.71875 13.875 49.015625 6.21875 \nQ 42.328125 -1.421875 30.609375 -1.421875 \nQ 18.84375 -1.421875 12.171875 6.21875 \nQ 5.515625 13.875 5.515625 27.296875 \nQ 5.515625 40.765625 12.171875 48.375 \nQ 18.84375 56 30.609375 56 \nz\n\" id=\"DejaVuSans-111\"/>\n      <path d=\"M 18.3125 70.21875 \nL 18.3125 54.6875 \nL 36.8125 54.6875 \nL 36.8125 47.703125 \nL 18.3125 47.703125 \nL 18.3125 18.015625 \nQ 18.3125 11.328125 20.140625 9.421875 \nQ 21.96875 7.515625 27.59375 7.515625 \nL 36.8125 7.515625 \nL 36.8125 0 \nL 27.59375 0 \nQ 17.1875 0 13.234375 3.875 \nQ 9.28125 7.765625 9.28125 18.015625 \nL 9.28125 47.703125 \nL 2.6875 47.703125 \nL 2.6875 54.6875 \nL 9.28125 54.6875 \nL 9.28125 70.21875 \nz\n\" id=\"DejaVuSans-116\"/>\n     </defs>\n     <use xlink:href=\"#DejaVuSans-100\"/>\n     <use x=\"63.476562\" xlink:href=\"#DejaVuSans-101\"/>\n     <use x=\"125\" xlink:href=\"#DejaVuSans-109\"/>\n     <use x=\"222.412109\" xlink:href=\"#DejaVuSans-111\"/>\n     <use x=\"283.59375\" xlink:href=\"#DejaVuSans-99\"/>\n     <use x=\"338.574219\" xlink:href=\"#DejaVuSans-114\"/>\n     <use x=\"379.6875\" xlink:href=\"#DejaVuSans-97\"/>\n     <use x=\"440.966797\" xlink:href=\"#DejaVuSans-116\"/>\n    </g>\n   </g>\n   <g id=\"text_22\">\n    <!-- fake -->\n    <g transform=\"translate(211.315625 14.798438)scale(0.1 -0.1)\">\n     <defs>\n      <path d=\"M 37.109375 75.984375 \nL 37.109375 68.5 \nL 28.515625 68.5 \nQ 23.6875 68.5 21.796875 66.546875 \nQ 19.921875 64.59375 19.921875 59.515625 \nL 19.921875 54.6875 \nL 34.71875 54.6875 \nL 34.71875 47.703125 \nL 19.921875 47.703125 \nL 19.921875 0 \nL 10.890625 0 \nL 10.890625 47.703125 \nL 2.296875 47.703125 \nL 2.296875 54.6875 \nL 10.890625 54.6875 \nL 10.890625 58.5 \nQ 10.890625 67.625 15.140625 71.796875 \nQ 19.390625 75.984375 28.609375 75.984375 \nz\n\" id=\"DejaVuSans-102\"/>\n      <path d=\"M 9.078125 75.984375 \nL 18.109375 75.984375 \nL 18.109375 31.109375 \nL 44.921875 54.6875 \nL 56.390625 54.6875 \nL 27.390625 29.109375 \nL 57.625 0 \nL 45.90625 0 \nL 18.109375 26.703125 \nL 18.109375 0 \nL 9.078125 0 \nz\n\" id=\"DejaVuSans-107\"/>\n     </defs>\n     <use xlink:href=\"#DejaVuSans-102\"/>\n     <use x=\"35.205078\" xlink:href=\"#DejaVuSans-97\"/>\n     <use x=\"96.484375\" xlink:href=\"#DejaVuSans-107\"/>\n     <use x=\"150.769531\" xlink:href=\"#DejaVuSans-101\"/>\n    </g>\n   </g>\n   <g id=\"text_23\">\n    <!-- real -->\n    <g transform=\"translate(206.315625 270.876563)scale(0.1 -0.1)\">\n     <use xlink:href=\"#DejaVuSans-114\"/>\n     <use x=\"38.863281\" xlink:href=\"#DejaVuSans-101\"/>\n     <use x=\"100.386719\" xlink:href=\"#DejaVuSans-97\"/>\n     <use x=\"161.666016\" xlink:href=\"#DejaVuSans-108\"/>\n    </g>\n   </g>\n  </g>\n </g>\n <defs>\n  <clipPath id=\"pb3c6ddf14d\">\n   <rect height=\"235.9\" width=\"360.2125\" x=\"26.209375\" y=\"27.378125\"/>\n  </clipPath>\n </defs>\n</svg>\n",
      "image/png": "[encoded data removed]"
     },
     "metadata": {
      "needs_background": "dark"
     }
    }
   ],
   "source": [
    "data_visualisation.plotResults(results, axes)"
   ]
  },
  {
   "cell_type": "code",
   "execution_count": 52,
   "metadata": {},
   "outputs": [
    {
     "output_type": "stream",
     "name": "stdout",
     "text": [
      "box\n",
      "None\n",
      "None\n",
      "C\n",
      "False\n",
      "auto\n",
      "True\n",
      "True\n",
      "3 True\n",
      "None\n",
      "line\n",
      "None\n",
      "5 [<mpl_toolkits.axisartist.axis_artist.AxisArtist object at 0x16b18b1c0>, <mpl_toolkits.axisartist.axis_artist.AxisArtist object at 0x16b18b730>, <mpl_toolkits.axisartist.axis_artist.AxisArtist object at 0x16b18bca0>, <mpl_toolkits.axisartist.axis_artist.AxisArtist object at 0x16b816250>, <mpl_toolkits.axisartist.axis_artist.AxisArtist object at 0x16b816280>, <mpl_toolkits.axisartist.axis_artist.AxisArtist object at 0x16b816e50>, <mpl_toolkits.axisartist.axis_artist.GridlinesCollection object at 0x16b39ed30>, <matplotlib.collections.PathCollection object at 0x16b816d00>, Text(0.12050883725879376, 0.07197045680138726, '0'), Text(0.13192426587964176, 0.1722099836796197, '1'), Text(0.07768929617576367, 0.15085657489856696, '2'), Text(-0.04245730192276697, 0.0686149549620046, '3'), Text(0.050235048828071185, 0.17588131079011662, '4'), Text(-0.03251340101784835, 0.12279254454076632, '5'), Text(0.2225033343034531, 0.15627633081675382, '6'), Text(-0.023754601719555995, 0.2201214930797307, '7'), Text(0.1443730273911913, -0.02760286117554179, '8'), Text(0.3408670802844415, 0.19094091906654354, '9'), Text(-0.13117527632591441, 0.0491925097801504, '10'), Text(-0.05127762943463876, 0.22440871135780024, '11'), Text(0.05595913889710978, 0.06209534892695525, '12'), Text(-0.09578953018191448, -0.07835785705532322, '13'), Text(-0.06668510172712727, 0.17008410221863027, '14'), Text(0.048007379788116464, 0.06797126939238951, '15'), Text(0.2043713417135527, 0.14289428163789789, '16'), Text(0.053368612219202735, 0.0017492198467307356, '17'), Text(0.2516709792610655, 0.21003409642135432, '18'), <matplotlib.spines.Spine object at 0x16b39ef70>, <matplotlib.spines.Spine object at 0x16b3da0a0>, <matplotlib.spines.Spine object at 0x16b3da190>, <matplotlib.spines.Spine object at 0x16b3da280>, <matplotlib.axis.XAxis object at 0x16b39eee0>, <matplotlib.axis.YAxis object at 0x16b3da640>, Text(0.5, 1.0, ''), Text(0.0, 1.0, ''), Text(1.0, 1.0, ''), <matplotlib.patches.Rectangle object at 0x16b3d4df0>]\n",
      "None\n",
      "True\n",
      "None\n",
      "None\n",
      "0.6413970360355606\n",
      "[<mpl_toolkits.axisartist.axis_artist.AxisArtist object at 0x16b816280>, <mpl_toolkits.axisartist.axis_artist.AxisArtist object at 0x16b816e50>, <matplotlib.collections.PathCollection object at 0x16b816d00>, Text(0.12050883725879376, 0.07197045680138726, '0'), Text(0.13192426587964176, 0.1722099836796197, '1'), Text(0.07768929617576367, 0.15085657489856696, '2'), Text(-0.04245730192276697, 0.0686149549620046, '3'), Text(0.050235048828071185, 0.17588131079011662, '4'), Text(-0.03251340101784835, 0.12279254454076632, '5'), Text(0.2225033343034531, 0.15627633081675382, '6'), Text(-0.023754601719555995, 0.2201214930797307, '7'), Text(0.1443730273911913, -0.02760286117554179, '8'), Text(0.3408670802844415, 0.19094091906654354, '9'), Text(-0.13117527632591441, 0.0491925097801504, '10'), Text(-0.05127762943463876, 0.22440871135780024, '11'), Text(0.05595913889710978, 0.06209534892695525, '12'), Text(-0.09578953018191448, -0.07835785705532322, '13'), Text(-0.06668510172712727, 0.17008410221863027, '14'), Text(0.048007379788116464, 0.06797126939238951, '15'), Text(0.2043713417135527, 0.14289428163789789, '16'), Text(0.053368612219202735, 0.0017492198467307356, '17'), Text(0.2516709792610655, 0.21003409642135432, '18'), <matplotlib.patches.Rectangle object at 0x16b3d4df0>]\n",
      "(1.0, 1.0, 1.0, 1.0)\n",
      "(1.0, 1.0, 1.0, 1.0)\n",
      "Figure(432x288)\n",
      "True\n",
      "(1, 1, 1)\n",
      "None\n",
      "<mpl_toolkits.axisartist.axislines.GridHelperRectlinear object at 0x16b39eb80>\n",
      "GridSpec(1, 1)\n",
      "<a list of 0 AxesImage objects>\n",
      "True\n",
      "\n",
      "None\n",
      "([], [])\n",
      "<a list of 0 Line2D objects>\n",
      "True\n",
      "None\n",
      "[]\n",
      "None\n",
      "Bbox(x0=0.125, y0=0.125, x1=0.9, y1=0.88)\n",
      "None\n",
      "None\n",
      "None\n",
      "<matplotlib.cbook.Grouper object at 0x1652e0730>\n",
      "<matplotlib.cbook.Grouper object at 0x165330880>\n",
      "None\n",
      "None\n",
      "GridSpec(1, 1)[0:1, 0:1]\n",
      "\n",
      "IdentityTransform()\n",
      "(None, None)\n",
      "None\n",
      "True\n",
      "TransformedBbox(\n",
      "    Bbox(x0=0.125, y0=0.125, x1=0.9, y1=0.88),\n",
      "    BboxTransformTo(\n",
      "        TransformedBbox(\n",
      "            Bbox(x0=0.0, y0=0.0, x1=6.0, y1=4.0),\n",
      "            Affine2D(\n",
      "                [[72.  0.  0.]\n",
      "                 [ 0. 72.  0.]\n",
      "                 [ 0.  0.  1.]]))))\n",
      "XAxis(54.0,36.0)\n",
      "BlendedGenericTransform(\n",
      "    CompositeGenericTransform(\n",
      "        TransformWrapper(\n",
      "            BlendedAffine2D(\n",
      "                IdentityTransform(),\n",
      "                IdentityTransform())),\n",
      "        CompositeGenericTransform(\n",
      "            BboxTransformFrom(\n",
      "                TransformedBbox(\n",
      "                    Bbox(x0=-0.1547773941564322, y0=-0.09349618547597939, x1=0.3644691981149593, y1=0.23954703977845643),\n",
      "                    TransformWrapper(\n",
      "                        BlendedAffine2D(\n",
      "                            IdentityTransform(),\n",
      "                            IdentityTransform())))),\n",
      "            BboxTransformTo(\n",
      "                TransformedBbox(\n",
      "                    Bbox(x0=0.125, y0=0.125, x1=0.9, y1=0.88),\n",
      "                    BboxTransformTo(\n",
      "                        TransformedBbox(\n",
      "                            Bbox(x0=0.0, y0=0.0, x1=6.0, y1=4.0),\n",
      "                            Affine2D(\n",
      "                                [[72.  0.  0.]\n",
      "                                 [ 0. 72.  0.]\n",
      "                                 [ 0.  0.  1.]]))))))),\n",
      "    BboxTransformTo(\n",
      "        TransformedBbox(\n",
      "            Bbox(x0=0.125, y0=0.125, x1=0.9, y1=0.88),\n",
      "            BboxTransformTo(\n",
      "                TransformedBbox(\n",
      "                    Bbox(x0=0.0, y0=0.0, x1=6.0, y1=4.0),\n",
      "                    Affine2D(\n",
      "                        [[72.  0.  0.]\n",
      "                         [ 0. 72.  0.]\n",
      "                         [ 0.  0.  1.]]))))))\n",
      "(-0.1547773941564322, 0.3644691981149593)\n",
      "<a list of 7 Line2D gridline objects>\n",
      "\n",
      "(-0.1547773941564322, 0.3644691981149593)\n",
      "[Text(-0.2, 0, ''), Text(-0.1, 0, ''), Text(0.0, 0, ''), Text(0.10000000000000003, 0, ''), Text(0.2, 0, ''), Text(0.3, 0, ''), Text(0.4000000000000001, 0, '')]\n",
      "[]\n",
      "linear\n",
      "[Text(-0.2, 0, ''), Text(-0.1, 0, ''), Text(0.0, 0, ''), Text(0.10000000000000003, 0, ''), Text(0.2, 0, ''), Text(0.3, 0, ''), Text(0.4000000000000001, 0, '')]\n",
      "<a list of 14 Line2D ticklines objects>\n",
      "[-0.2 -0.1  0.   0.1  0.2  0.3  0.4]\n",
      "YAxis(54.0,36.0)\n",
      "BlendedGenericTransform(\n",
      "    BboxTransformTo(\n",
      "        TransformedBbox(\n",
      "            Bbox(x0=0.125, y0=0.125, x1=0.9, y1=0.88),\n",
      "            BboxTransformTo(\n",
      "                TransformedBbox(\n",
      "                    Bbox(x0=0.0, y0=0.0, x1=6.0, y1=4.0),\n",
      "                    Affine2D(\n",
      "                        [[72.  0.  0.]\n",
      "                         [ 0. 72.  0.]\n",
      "                         [ 0.  0.  1.]]))))),\n",
      "    CompositeGenericTransform(\n",
      "        TransformWrapper(\n",
      "            BlendedAffine2D(\n",
      "                IdentityTransform(),\n",
      "                IdentityTransform())),\n",
      "        CompositeGenericTransform(\n",
      "            BboxTransformFrom(\n",
      "                TransformedBbox(\n",
      "                    Bbox(x0=-0.1547773941564322, y0=-0.09349618547597939, x1=0.3644691981149593, y1=0.23954703977845643),\n",
      "                    TransformWrapper(\n",
      "                        BlendedAffine2D(\n",
      "                            IdentityTransform(),\n",
      "                            IdentityTransform())))),\n",
      "            BboxTransformTo(\n",
      "                TransformedBbox(\n",
      "                    Bbox(x0=0.125, y0=0.125, x1=0.9, y1=0.88),\n",
      "                    BboxTransformTo(\n",
      "                        TransformedBbox(\n",
      "                            Bbox(x0=0.0, y0=0.0, x1=6.0, y1=4.0),\n",
      "                            Affine2D(\n",
      "                                [[72.  0.  0.]\n",
      "                                 [ 0. 72.  0.]\n",
      "                                 [ 0.  0.  1.]]))))))))\n",
      "(-0.09349618547597939, 0.23954703977845643)\n",
      "<a list of 8 Line2D gridline objects>\n",
      "\n",
      "(-0.09349618547597939, 0.23954703977845643)\n",
      "[Text(0, -0.1, ''), Text(0, -0.05, ''), Text(0, 0.0, ''), Text(0, 0.05000000000000002, ''), Text(0, 0.1, ''), Text(0, 0.15, ''), Text(0, 0.20000000000000004, ''), Text(0, 0.25, '')]\n",
      "[]\n",
      "linear\n",
      "[Text(0, -0.1, ''), Text(0, -0.05, ''), Text(0, 0.0, ''), Text(0, 0.05000000000000002, ''), Text(0, 0.1, ''), Text(0, 0.15, ''), Text(0, 0.20000000000000004, ''), Text(0, 0.25, '')]\n",
      "<a list of 16 Line2D ticklines objects>\n",
      "[-0.1  -0.05  0.    0.05  0.1   0.15  0.2   0.25]\n",
      "0\n",
      "<ipython-input-52-7b755228b1cc>:38: MatplotlibDeprecationWarning: \n",
      "The colNum attribute was deprecated in Matplotlib 3.2 and will be removed two minor releases later. Use ax.get_subplotspec().colspan.start instead.\n",
      "  methods = [method_name for method_name in dir(ax.axis['xzero'].axes) if callable(getattr(ax.axis['xzero'].axes, method_name))]\n",
      "<ipython-input-52-7b755228b1cc>:38: MatplotlibDeprecationWarning: \n",
      "The rowNum attribute was deprecated in Matplotlib 3.2 and will be removed two minor releases later. Use ax.get_subplotspec().rowspan.start instead.\n",
      "  methods = [method_name for method_name in dir(ax.axis['xzero'].axes) if callable(getattr(ax.axis['xzero'].axes, method_name))]\n",
      "<ipython-input-52-7b755228b1cc>:58: MatplotlibDeprecationWarning: \n",
      "The get_contains function was deprecated in Matplotlib 3.3 and will be removed two minor releases later. Use get_picker instead.\n",
      "  print(ax.axis['yzero'].axes.get_contains())\n"
     ]
    },
    {
     "output_type": "display_data",
     "data": {
      "text/plain": "<Figure size 432x288 with 1 Axes>",
      "image/svg+xml": "<?xml version=\"1.0\" encoding=\"utf-8\" standalone=\"no\"?>\n<!DOCTYPE svg PUBLIC \"-//W3C//DTD SVG 1.1//EN\"\n  \"http://www.w3.org/Graphics/SVG/1.1/DTD/svg11.dtd\">\n<!-- Created with matplotlib (https://matplotlib.org/) -->\n<svg height=\"280.15625pt\" version=\"1.1\" viewBox=\"0 0 424.91875 280.15625\" width=\"424.91875pt\" xmlns=\"http://www.w3.org/2000/svg\" xmlns:xlink=\"http://www.w3.org/1999/xlink\">\n <metadata>\n  <rdf:RDF xmlns:cc=\"http://creativecommons.org/ns#\" xmlns:dc=\"http://purl.org/dc/elements/1.1/\" xmlns:rdf=\"http://www.w3.org/1999/02/22-rdf-syntax-ns#\">\n   <cc:Work>\n    <dc:type rdf:resource=\"http://purl.org/dc/dcmitype/StillImage\"/>\n    <dc:date>2021-03-25T22:26:54.011796</dc:date>\n    <dc:format>image/svg+xml</dc:format>\n    <dc:creator>\n     <cc:Agent>\n      <dc:title>Matplotlib v3.3.4, https://matplotlib.org/</dc:title>\n     </cc:Agent>\n    </dc:creator>\n   </cc:Work>\n  </rdf:RDF>\n </metadata>\n <defs>\n  <style type=\"text/css\">*{stroke-linecap:butt;stroke-linejoin:round;}</style>\n </defs>\n <g id=\"figure_1\">\n  <g id=\"patch_1\">\n   <path d=\"M 0 280.15625 \nL 424.91875 280.15625 \nL 424.91875 0 \nL 0 0 \nz\n\" style=\"fill:none;\"/>\n  </g>\n  <g id=\"axes_1\">\n   <g id=\"patch_2\">\n    <path d=\"M 26.209375 263.278125 \nL 386.421875 263.278125 \nL 386.421875 27.378125 \nL 26.209375 27.378125 \nz\n\" style=\"fill:#ffffff;\"/>\n   </g>\n   <g id=\"PathCollection_1\">\n    <defs>\n     <path d=\"M 0 3 \nC 0.795609 3 1.55874 2.683901 2.12132 2.12132 \nC 2.683901 1.55874 3 0.795609 3 0 \nC 3 -0.795609 2.683901 -1.55874 2.12132 -2.12132 \nC 1.55874 -2.683901 0.795609 -3 0 -3 \nC -0.795609 -3 -1.55874 -2.683901 -2.12132 -2.12132 \nC -2.683901 -1.55874 -3 -0.795609 -3 0 \nC -3 0.795609 -2.683901 1.55874 -2.12132 2.12132 \nC -1.55874 2.683901 -0.795609 3 0 3 \nz\n\" id=\"m491b1602de\" style=\"stroke:#1f77b4;\"/>\n    </defs>\n    <g clip-path=\"url(#pdeb51c755c)\">\n     <use style=\"fill:#1f77b4;stroke:#1f77b4;\" x=\"217.181339\" xlink:href=\"#m491b1602de\" y=\"146.075378\"/>\n     <use style=\"fill:#1f77b4;stroke:#1f77b4;\" x=\"225.100467\" xlink:href=\"#m491b1602de\" y=\"75.074071\"/>\n     <use style=\"fill:#1f77b4;stroke:#1f77b4;\" x=\"187.476505\" xlink:href=\"#m491b1602de\" y=\"90.199042\"/>\n     <use style=\"fill:#1f77b4;stroke:#1f77b4;\" x=\"104.128232\" xlink:href=\"#m491b1602de\" y=\"148.452135\"/>\n     <use style=\"fill:#1f77b4;stroke:#1f77b4;\" x=\"168.430905\" xlink:href=\"#m491b1602de\" y=\"72.473609\"/>\n     <use style=\"fill:#1f77b4;stroke:#1f77b4;\" x=\"111.02653\" xlink:href=\"#m491b1602de\" y=\"110.077256\"/>\n     <use style=\"fill:#1f77b4;stroke:#1f77b4;\" x=\"287.93711\" xlink:href=\"#m491b1602de\" y=\"86.360139\"/>\n     <use style=\"fill:#1f77b4;stroke:#1f77b4;\" x=\"117.102697\" xlink:href=\"#m491b1602de\" y=\"41.13756\"/>\n     <use style=\"fill:#1f77b4;stroke:#1f77b4;\" x=\"233.73644\" xlink:href=\"#m491b1602de\" y=\"216.604798\"/>\n     <use style=\"fill:#1f77b4;stroke:#1f77b4;\" x=\"370.04858\" xlink:href=\"#m491b1602de\" y=\"61.806641\"/>\n     <use style=\"fill:#1f77b4;stroke:#1f77b4;\" x=\"42.58267\" xlink:href=\"#m491b1602de\" y=\"162.209373\"/>\n     <use style=\"fill:#1f77b4;stroke:#1f77b4;\" x=\"98.009382\" xlink:href=\"#m491b1602de\" y=\"38.100852\"/>\n     <use style=\"fill:#1f77b4;stroke:#1f77b4;\" x=\"172.401829\" xlink:href=\"#m491b1602de\" y=\"153.070079\"/>\n     <use style=\"fill:#1f77b4;stroke:#1f77b4;\" x=\"67.130522\" xlink:href=\"#m491b1602de\" y=\"252.555398\"/>\n     <use style=\"fill:#1f77b4;stroke:#1f77b4;\" x=\"87.320888\" xlink:href=\"#m491b1602de\" y=\"76.579867\"/>\n     <use style=\"fill:#1f77b4;stroke:#1f77b4;\" x=\"166.885523\" xlink:href=\"#m491b1602de\" y=\"148.908068\"/>\n     <use style=\"fill:#1f77b4;stroke:#1f77b4;\" x=\"275.358558\" xlink:href=\"#m491b1602de\" y=\"95.838865\"/>\n     <use style=\"fill:#1f77b4;stroke:#1f77b4;\" x=\"170.604725\" xlink:href=\"#m491b1602de\" y=\"195.814236\"/>\n     <use style=\"fill:#1f77b4;stroke:#1f77b4;\" x=\"308.171331\" xlink:href=\"#m491b1602de\" y=\"48.282629\"/>\n    </g>\n   </g>\n   <g id=\"mpl_toolkits.axisartist.axis_artist_1\">\n    <defs>\n     <path d=\"M 0 0 \nL 0 -3.5 \n\" id=\"m01b26d6692\" style=\"stroke:#ffffff;stroke-width:0.8;\"/>\n    </defs>\n    <g>\n     <use style=\"fill:none;stroke:#ffffff;stroke-width:0.8;\" x=\"64.209628\" xlink:href=\"#m01b26d6692\" y=\"197.053237\"/>\n    </g>\n    <g>\n     <use style=\"fill:none;stroke:#ffffff;stroke-width:0.8;\" x=\"133.581774\" xlink:href=\"#m01b26d6692\" y=\"197.053237\"/>\n    </g>\n    <g>\n     <use style=\"fill:none;stroke:#ffffff;stroke-width:0.8;\" x=\"202.953919\" xlink:href=\"#m01b26d6692\" y=\"197.053237\"/>\n    </g>\n    <g>\n     <use style=\"fill:none;stroke:#ffffff;stroke-width:0.8;\" x=\"272.326064\" xlink:href=\"#m01b26d6692\" y=\"197.053237\"/>\n    </g>\n    <g>\n     <use style=\"fill:none;stroke:#ffffff;stroke-width:0.8;\" x=\"341.698209\" xlink:href=\"#m01b26d6692\" y=\"197.053237\"/>\n    </g>\n    <g id=\"patch_3\">\n     <path d=\"M 26.209375 197.053237 \nL 386.421875 197.053237 \nL 395.303841 197.053237 \n\" style=\"fill:none;stroke:#000000;stroke-linecap:round;\"/>\n     <path d=\"M 391.303841 195.053237 \nL 395.303841 197.053237 \nL 391.303841 199.053237 \nL 391.303841 195.053237 \nz\n\" style=\"fill:#1f77b4;stroke:#000000;stroke-linecap:round;\"/>\n    </g>\n   </g>\n   <g id=\"mpl_toolkits.axisartist.axis_artist_2\">\n    <defs>\n     <path d=\"M 0 0 \nL -3.5 -0 \n\" id=\"mc6a9432bb3\" style=\"stroke:#ffffff;stroke-width:0.8;\"/>\n    </defs>\n    <g>\n     <use style=\"fill:none;stroke:#ffffff;stroke-width:0.8;\" x=\"133.581774\" xlink:href=\"#mc6a9432bb3\" y=\"232.469061\"/>\n    </g>\n    <g>\n     <use style=\"fill:none;stroke:#ffffff;stroke-width:0.8;\" x=\"133.581774\" xlink:href=\"#mc6a9432bb3\" y=\"197.053237\"/>\n    </g>\n    <g>\n     <use style=\"fill:none;stroke:#ffffff;stroke-width:0.8;\" x=\"133.581774\" xlink:href=\"#mc6a9432bb3\" y=\"161.637414\"/>\n    </g>\n    <g>\n     <use style=\"fill:none;stroke:#ffffff;stroke-width:0.8;\" x=\"133.581774\" xlink:href=\"#mc6a9432bb3\" y=\"126.221591\"/>\n    </g>\n    <g>\n     <use style=\"fill:none;stroke:#ffffff;stroke-width:0.8;\" x=\"133.581774\" xlink:href=\"#mc6a9432bb3\" y=\"90.805768\"/>\n    </g>\n    <g>\n     <use style=\"fill:none;stroke:#ffffff;stroke-width:0.8;\" x=\"133.581774\" xlink:href=\"#mc6a9432bb3\" y=\"55.389944\"/>\n    </g>\n    <g id=\"patch_4\">\n     <path d=\"M 133.581774 263.278125 \nL 133.581774 27.378125 \nL 133.581774 18.496159 \n\" style=\"fill:none;stroke:#000000;stroke-linecap:round;\"/>\n     <path d=\"M 131.581774 22.496159 \nL 133.581774 18.496159 \nL 135.581774 22.496159 \nL 131.581774 22.496159 \nz\n\" style=\"fill:#1f77b4;stroke:#000000;stroke-linecap:round;\"/>\n    </g>\n   </g>\n   <g id=\"text_1\">\n    <!-- 0 -->\n    <g style=\"fill:#ff0000;\" transform=\"translate(217.181339 146.075378)scale(0.14 -0.14)\">\n     <defs>\n      <path d=\"M 31.78125 66.40625 \nQ 24.171875 66.40625 20.328125 58.90625 \nQ 16.5 51.421875 16.5 36.375 \nQ 16.5 21.390625 20.328125 13.890625 \nQ 24.171875 6.390625 31.78125 6.390625 \nQ 39.453125 6.390625 43.28125 13.890625 \nQ 47.125 21.390625 47.125 36.375 \nQ 47.125 51.421875 43.28125 58.90625 \nQ 39.453125 66.40625 31.78125 66.40625 \nz\nM 31.78125 74.21875 \nQ 44.046875 74.21875 50.515625 64.515625 \nQ 56.984375 54.828125 56.984375 36.375 \nQ 56.984375 17.96875 50.515625 8.265625 \nQ 44.046875 -1.421875 31.78125 -1.421875 \nQ 19.53125 -1.421875 13.0625 8.265625 \nQ 6.59375 17.96875 6.59375 36.375 \nQ 6.59375 54.828125 13.0625 64.515625 \nQ 19.53125 74.21875 31.78125 74.21875 \nz\n\" id=\"DejaVuSans-48\"/>\n     </defs>\n     <use xlink:href=\"#DejaVuSans-48\"/>\n    </g>\n   </g>\n   <g id=\"text_2\">\n    <!-- 1 -->\n    <g style=\"fill:#ff0000;\" transform=\"translate(225.100467 75.074071)scale(0.14 -0.14)\">\n     <defs>\n      <path d=\"M 12.40625 8.296875 \nL 28.515625 8.296875 \nL 28.515625 63.921875 \nL 10.984375 60.40625 \nL 10.984375 69.390625 \nL 28.421875 72.90625 \nL 38.28125 72.90625 \nL 38.28125 8.296875 \nL 54.390625 8.296875 \nL 54.390625 0 \nL 12.40625 0 \nz\n\" id=\"DejaVuSans-49\"/>\n     </defs>\n     <use xlink:href=\"#DejaVuSans-49\"/>\n    </g>\n   </g>\n   <g id=\"text_3\">\n    <!-- 2 -->\n    <g style=\"fill:#ff0000;\" transform=\"translate(187.476505 90.199042)scale(0.14 -0.14)\">\n     <defs>\n      <path d=\"M 19.1875 8.296875 \nL 53.609375 8.296875 \nL 53.609375 0 \nL 7.328125 0 \nL 7.328125 8.296875 \nQ 12.9375 14.109375 22.625 23.890625 \nQ 32.328125 33.6875 34.8125 36.53125 \nQ 39.546875 41.84375 41.421875 45.53125 \nQ 43.3125 49.21875 43.3125 52.78125 \nQ 43.3125 58.59375 39.234375 62.25 \nQ 35.15625 65.921875 28.609375 65.921875 \nQ 23.96875 65.921875 18.8125 64.3125 \nQ 13.671875 62.703125 7.8125 59.421875 \nL 7.8125 69.390625 \nQ 13.765625 71.78125 18.9375 73 \nQ 24.125 74.21875 28.421875 74.21875 \nQ 39.75 74.21875 46.484375 68.546875 \nQ 53.21875 62.890625 53.21875 53.421875 \nQ 53.21875 48.921875 51.53125 44.890625 \nQ 49.859375 40.875 45.40625 35.40625 \nQ 44.1875 33.984375 37.640625 27.21875 \nQ 31.109375 20.453125 19.1875 8.296875 \nz\n\" id=\"DejaVuSans-50\"/>\n     </defs>\n     <use xlink:href=\"#DejaVuSans-50\"/>\n    </g>\n   </g>\n   <g id=\"text_4\">\n    <!-- 3 -->\n    <g style=\"fill:#ff0000;\" transform=\"translate(104.128232 148.452135)scale(0.14 -0.14)\">\n     <defs>\n      <path d=\"M 40.578125 39.3125 \nQ 47.65625 37.796875 51.625 33 \nQ 55.609375 28.21875 55.609375 21.1875 \nQ 55.609375 10.40625 48.1875 4.484375 \nQ 40.765625 -1.421875 27.09375 -1.421875 \nQ 22.515625 -1.421875 17.65625 -0.515625 \nQ 12.796875 0.390625 7.625 2.203125 \nL 7.625 11.71875 \nQ 11.71875 9.328125 16.59375 8.109375 \nQ 21.484375 6.890625 26.8125 6.890625 \nQ 36.078125 6.890625 40.9375 10.546875 \nQ 45.796875 14.203125 45.796875 21.1875 \nQ 45.796875 27.640625 41.28125 31.265625 \nQ 36.765625 34.90625 28.71875 34.90625 \nL 20.21875 34.90625 \nL 20.21875 43.015625 \nL 29.109375 43.015625 \nQ 36.375 43.015625 40.234375 45.921875 \nQ 44.09375 48.828125 44.09375 54.296875 \nQ 44.09375 59.90625 40.109375 62.90625 \nQ 36.140625 65.921875 28.71875 65.921875 \nQ 24.65625 65.921875 20.015625 65.03125 \nQ 15.375 64.15625 9.8125 62.3125 \nL 9.8125 71.09375 \nQ 15.4375 72.65625 20.34375 73.4375 \nQ 25.25 74.21875 29.59375 74.21875 \nQ 40.828125 74.21875 47.359375 69.109375 \nQ 53.90625 64.015625 53.90625 55.328125 \nQ 53.90625 49.265625 50.4375 45.09375 \nQ 46.96875 40.921875 40.578125 39.3125 \nz\n\" id=\"DejaVuSans-51\"/>\n     </defs>\n     <use xlink:href=\"#DejaVuSans-51\"/>\n    </g>\n   </g>\n   <g id=\"text_5\">\n    <!-- 4 -->\n    <g style=\"fill:#ff0000;\" transform=\"translate(168.430905 72.473609)scale(0.14 -0.14)\">\n     <defs>\n      <path d=\"M 37.796875 64.3125 \nL 12.890625 25.390625 \nL 37.796875 25.390625 \nz\nM 35.203125 72.90625 \nL 47.609375 72.90625 \nL 47.609375 25.390625 \nL 58.015625 25.390625 \nL 58.015625 17.1875 \nL 47.609375 17.1875 \nL 47.609375 0 \nL 37.796875 0 \nL 37.796875 17.1875 \nL 4.890625 17.1875 \nL 4.890625 26.703125 \nz\n\" id=\"DejaVuSans-52\"/>\n     </defs>\n     <use xlink:href=\"#DejaVuSans-52\"/>\n    </g>\n   </g>\n   <g id=\"text_6\">\n    <!-- 5 -->\n    <g style=\"fill:#ff0000;\" transform=\"translate(111.02653 110.077256)scale(0.14 -0.14)\">\n     <defs>\n      <path d=\"M 10.796875 72.90625 \nL 49.515625 72.90625 \nL 49.515625 64.59375 \nL 19.828125 64.59375 \nL 19.828125 46.734375 \nQ 21.96875 47.46875 24.109375 47.828125 \nQ 26.265625 48.1875 28.421875 48.1875 \nQ 40.625 48.1875 47.75 41.5 \nQ 54.890625 34.8125 54.890625 23.390625 \nQ 54.890625 11.625 47.5625 5.09375 \nQ 40.234375 -1.421875 26.90625 -1.421875 \nQ 22.3125 -1.421875 17.546875 -0.640625 \nQ 12.796875 0.140625 7.71875 1.703125 \nL 7.71875 11.625 \nQ 12.109375 9.234375 16.796875 8.0625 \nQ 21.484375 6.890625 26.703125 6.890625 \nQ 35.15625 6.890625 40.078125 11.328125 \nQ 45.015625 15.765625 45.015625 23.390625 \nQ 45.015625 31 40.078125 35.4375 \nQ 35.15625 39.890625 26.703125 39.890625 \nQ 22.75 39.890625 18.8125 39.015625 \nQ 14.890625 38.140625 10.796875 36.28125 \nz\n\" id=\"DejaVuSans-53\"/>\n     </defs>\n     <use xlink:href=\"#DejaVuSans-53\"/>\n    </g>\n   </g>\n   <g id=\"text_7\">\n    <!-- 6 -->\n    <g style=\"fill:#ff0000;\" transform=\"translate(287.93711 86.360139)scale(0.14 -0.14)\">\n     <defs>\n      <path d=\"M 33.015625 40.375 \nQ 26.375 40.375 22.484375 35.828125 \nQ 18.609375 31.296875 18.609375 23.390625 \nQ 18.609375 15.53125 22.484375 10.953125 \nQ 26.375 6.390625 33.015625 6.390625 \nQ 39.65625 6.390625 43.53125 10.953125 \nQ 47.40625 15.53125 47.40625 23.390625 \nQ 47.40625 31.296875 43.53125 35.828125 \nQ 39.65625 40.375 33.015625 40.375 \nz\nM 52.59375 71.296875 \nL 52.59375 62.3125 \nQ 48.875 64.0625 45.09375 64.984375 \nQ 41.3125 65.921875 37.59375 65.921875 \nQ 27.828125 65.921875 22.671875 59.328125 \nQ 17.53125 52.734375 16.796875 39.40625 \nQ 19.671875 43.65625 24.015625 45.921875 \nQ 28.375 48.1875 33.59375 48.1875 \nQ 44.578125 48.1875 50.953125 41.515625 \nQ 57.328125 34.859375 57.328125 23.390625 \nQ 57.328125 12.15625 50.6875 5.359375 \nQ 44.046875 -1.421875 33.015625 -1.421875 \nQ 20.359375 -1.421875 13.671875 8.265625 \nQ 6.984375 17.96875 6.984375 36.375 \nQ 6.984375 53.65625 15.1875 63.9375 \nQ 23.390625 74.21875 37.203125 74.21875 \nQ 40.921875 74.21875 44.703125 73.484375 \nQ 48.484375 72.75 52.59375 71.296875 \nz\n\" id=\"DejaVuSans-54\"/>\n     </defs>\n     <use xlink:href=\"#DejaVuSans-54\"/>\n    </g>\n   </g>\n   <g id=\"text_8\">\n    <!-- 7 -->\n    <g style=\"fill:#ff0000;\" transform=\"translate(117.102697 41.13756)scale(0.14 -0.14)\">\n     <defs>\n      <path d=\"M 8.203125 72.90625 \nL 55.078125 72.90625 \nL 55.078125 68.703125 \nL 28.609375 0 \nL 18.3125 0 \nL 43.21875 64.59375 \nL 8.203125 64.59375 \nz\n\" id=\"DejaVuSans-55\"/>\n     </defs>\n     <use xlink:href=\"#DejaVuSans-55\"/>\n    </g>\n   </g>\n   <g id=\"text_9\">\n    <!-- 8 -->\n    <g style=\"fill:#ff0000;\" transform=\"translate(233.73644 216.604798)scale(0.14 -0.14)\">\n     <defs>\n      <path d=\"M 31.78125 34.625 \nQ 24.75 34.625 20.71875 30.859375 \nQ 16.703125 27.09375 16.703125 20.515625 \nQ 16.703125 13.921875 20.71875 10.15625 \nQ 24.75 6.390625 31.78125 6.390625 \nQ 38.8125 6.390625 42.859375 10.171875 \nQ 46.921875 13.96875 46.921875 20.515625 \nQ 46.921875 27.09375 42.890625 30.859375 \nQ 38.875 34.625 31.78125 34.625 \nz\nM 21.921875 38.8125 \nQ 15.578125 40.375 12.03125 44.71875 \nQ 8.5 49.078125 8.5 55.328125 \nQ 8.5 64.0625 14.71875 69.140625 \nQ 20.953125 74.21875 31.78125 74.21875 \nQ 42.671875 74.21875 48.875 69.140625 \nQ 55.078125 64.0625 55.078125 55.328125 \nQ 55.078125 49.078125 51.53125 44.71875 \nQ 48 40.375 41.703125 38.8125 \nQ 48.828125 37.15625 52.796875 32.3125 \nQ 56.78125 27.484375 56.78125 20.515625 \nQ 56.78125 9.90625 50.3125 4.234375 \nQ 43.84375 -1.421875 31.78125 -1.421875 \nQ 19.734375 -1.421875 13.25 4.234375 \nQ 6.78125 9.90625 6.78125 20.515625 \nQ 6.78125 27.484375 10.78125 32.3125 \nQ 14.796875 37.15625 21.921875 38.8125 \nz\nM 18.3125 54.390625 \nQ 18.3125 48.734375 21.84375 45.5625 \nQ 25.390625 42.390625 31.78125 42.390625 \nQ 38.140625 42.390625 41.71875 45.5625 \nQ 45.3125 48.734375 45.3125 54.390625 \nQ 45.3125 60.0625 41.71875 63.234375 \nQ 38.140625 66.40625 31.78125 66.40625 \nQ 25.390625 66.40625 21.84375 63.234375 \nQ 18.3125 60.0625 18.3125 54.390625 \nz\n\" id=\"DejaVuSans-56\"/>\n     </defs>\n     <use xlink:href=\"#DejaVuSans-56\"/>\n    </g>\n   </g>\n   <g id=\"text_10\">\n    <!-- 9 -->\n    <g style=\"fill:#ff0000;\" transform=\"translate(370.04858 61.806641)scale(0.14 -0.14)\">\n     <defs>\n      <path d=\"M 10.984375 1.515625 \nL 10.984375 10.5 \nQ 14.703125 8.734375 18.5 7.8125 \nQ 22.3125 6.890625 25.984375 6.890625 \nQ 35.75 6.890625 40.890625 13.453125 \nQ 46.046875 20.015625 46.78125 33.40625 \nQ 43.953125 29.203125 39.59375 26.953125 \nQ 35.25 24.703125 29.984375 24.703125 \nQ 19.046875 24.703125 12.671875 31.3125 \nQ 6.296875 37.9375 6.296875 49.421875 \nQ 6.296875 60.640625 12.9375 67.421875 \nQ 19.578125 74.21875 30.609375 74.21875 \nQ 43.265625 74.21875 49.921875 64.515625 \nQ 56.59375 54.828125 56.59375 36.375 \nQ 56.59375 19.140625 48.40625 8.859375 \nQ 40.234375 -1.421875 26.421875 -1.421875 \nQ 22.703125 -1.421875 18.890625 -0.6875 \nQ 15.09375 0.046875 10.984375 1.515625 \nz\nM 30.609375 32.421875 \nQ 37.25 32.421875 41.125 36.953125 \nQ 45.015625 41.5 45.015625 49.421875 \nQ 45.015625 57.28125 41.125 61.84375 \nQ 37.25 66.40625 30.609375 66.40625 \nQ 23.96875 66.40625 20.09375 61.84375 \nQ 16.21875 57.28125 16.21875 49.421875 \nQ 16.21875 41.5 20.09375 36.953125 \nQ 23.96875 32.421875 30.609375 32.421875 \nz\n\" id=\"DejaVuSans-57\"/>\n     </defs>\n     <use xlink:href=\"#DejaVuSans-57\"/>\n    </g>\n   </g>\n   <g id=\"text_11\">\n    <!-- 10 -->\n    <g style=\"fill:#ff0000;\" transform=\"translate(42.58267 162.209373)scale(0.14 -0.14)\">\n     <use xlink:href=\"#DejaVuSans-49\"/>\n     <use x=\"63.623047\" xlink:href=\"#DejaVuSans-48\"/>\n    </g>\n   </g>\n   <g id=\"text_12\">\n    <!-- 11 -->\n    <g style=\"fill:#ff0000;\" transform=\"translate(98.009382 38.100852)scale(0.14 -0.14)\">\n     <use xlink:href=\"#DejaVuSans-49\"/>\n     <use x=\"63.623047\" xlink:href=\"#DejaVuSans-49\"/>\n    </g>\n   </g>\n   <g id=\"text_13\">\n    <!-- 12 -->\n    <g style=\"fill:#ff0000;\" transform=\"translate(172.401829 153.070079)scale(0.14 -0.14)\">\n     <use xlink:href=\"#DejaVuSans-49\"/>\n     <use x=\"63.623047\" xlink:href=\"#DejaVuSans-50\"/>\n    </g>\n   </g>\n   <g id=\"text_14\">\n    <!-- 13 -->\n    <g style=\"fill:#ff0000;\" transform=\"translate(67.130522 252.555398)scale(0.14 -0.14)\">\n     <use xlink:href=\"#DejaVuSans-49\"/>\n     <use x=\"63.623047\" xlink:href=\"#DejaVuSans-51\"/>\n    </g>\n   </g>\n   <g id=\"text_15\">\n    <!-- 14 -->\n    <g style=\"fill:#ff0000;\" transform=\"translate(87.320888 76.579867)scale(0.14 -0.14)\">\n     <use xlink:href=\"#DejaVuSans-49\"/>\n     <use x=\"63.623047\" xlink:href=\"#DejaVuSans-52\"/>\n    </g>\n   </g>\n   <g id=\"text_16\">\n    <!-- 15 -->\n    <g style=\"fill:#ff0000;\" transform=\"translate(166.885523 148.908068)scale(0.14 -0.14)\">\n     <use xlink:href=\"#DejaVuSans-49\"/>\n     <use x=\"63.623047\" xlink:href=\"#DejaVuSans-53\"/>\n    </g>\n   </g>\n   <g id=\"text_17\">\n    <!-- 16 -->\n    <g style=\"fill:#ff0000;\" transform=\"translate(275.358558 95.838865)scale(0.14 -0.14)\">\n     <use xlink:href=\"#DejaVuSans-49\"/>\n     <use x=\"63.623047\" xlink:href=\"#DejaVuSans-54\"/>\n    </g>\n   </g>\n   <g id=\"text_18\">\n    <!-- 17 -->\n    <g style=\"fill:#ff0000;\" transform=\"translate(170.604725 195.814236)scale(0.14 -0.14)\">\n     <use xlink:href=\"#DejaVuSans-49\"/>\n     <use x=\"63.623047\" xlink:href=\"#DejaVuSans-55\"/>\n    </g>\n   </g>\n   <g id=\"text_19\">\n    <!-- 18 -->\n    <g style=\"fill:#ff0000;\" transform=\"translate(308.171331 48.282629)scale(0.14 -0.14)\">\n     <use xlink:href=\"#DejaVuSans-49\"/>\n     <use x=\"63.623047\" xlink:href=\"#DejaVuSans-56\"/>\n    </g>\n   </g>\n   <g id=\"text_20\">\n    <!-- republican -->\n    <g transform=\"translate(365.125 156.426563)scale(0.1 -0.1)\">\n     <defs>\n      <path d=\"M 41.109375 46.296875 \nQ 39.59375 47.171875 37.8125 47.578125 \nQ 36.03125 48 33.890625 48 \nQ 26.265625 48 22.1875 43.046875 \nQ 18.109375 38.09375 18.109375 28.8125 \nL 18.109375 0 \nL 9.078125 0 \nL 9.078125 54.6875 \nL 18.109375 54.6875 \nL 18.109375 46.1875 \nQ 20.953125 51.171875 25.484375 53.578125 \nQ 30.03125 56 36.53125 56 \nQ 37.453125 56 38.578125 55.875 \nQ 39.703125 55.765625 41.0625 55.515625 \nz\n\" id=\"DejaVuSans-114\"/>\n      <path d=\"M 56.203125 29.59375 \nL 56.203125 25.203125 \nL 14.890625 25.203125 \nQ 15.484375 15.921875 20.484375 11.0625 \nQ 25.484375 6.203125 34.421875 6.203125 \nQ 39.59375 6.203125 44.453125 7.46875 \nQ 49.3125 8.734375 54.109375 11.28125 \nL 54.109375 2.78125 \nQ 49.265625 0.734375 44.1875 -0.34375 \nQ 39.109375 -1.421875 33.890625 -1.421875 \nQ 20.796875 -1.421875 13.15625 6.1875 \nQ 5.515625 13.8125 5.515625 26.8125 \nQ 5.515625 40.234375 12.765625 48.109375 \nQ 20.015625 56 32.328125 56 \nQ 43.359375 56 49.78125 48.890625 \nQ 56.203125 41.796875 56.203125 29.59375 \nz\nM 47.21875 32.234375 \nQ 47.125 39.59375 43.09375 43.984375 \nQ 39.0625 48.390625 32.421875 48.390625 \nQ 24.90625 48.390625 20.390625 44.140625 \nQ 15.875 39.890625 15.1875 32.171875 \nz\n\" id=\"DejaVuSans-101\"/>\n      <path d=\"M 18.109375 8.203125 \nL 18.109375 -20.796875 \nL 9.078125 -20.796875 \nL 9.078125 54.6875 \nL 18.109375 54.6875 \nL 18.109375 46.390625 \nQ 20.953125 51.265625 25.265625 53.625 \nQ 29.59375 56 35.59375 56 \nQ 45.5625 56 51.78125 48.09375 \nQ 58.015625 40.1875 58.015625 27.296875 \nQ 58.015625 14.40625 51.78125 6.484375 \nQ 45.5625 -1.421875 35.59375 -1.421875 \nQ 29.59375 -1.421875 25.265625 0.953125 \nQ 20.953125 3.328125 18.109375 8.203125 \nz\nM 48.6875 27.296875 \nQ 48.6875 37.203125 44.609375 42.84375 \nQ 40.53125 48.484375 33.40625 48.484375 \nQ 26.265625 48.484375 22.1875 42.84375 \nQ 18.109375 37.203125 18.109375 27.296875 \nQ 18.109375 17.390625 22.1875 11.75 \nQ 26.265625 6.109375 33.40625 6.109375 \nQ 40.53125 6.109375 44.609375 11.75 \nQ 48.6875 17.390625 48.6875 27.296875 \nz\n\" id=\"DejaVuSans-112\"/>\n      <path d=\"M 8.5 21.578125 \nL 8.5 54.6875 \nL 17.484375 54.6875 \nL 17.484375 21.921875 \nQ 17.484375 14.15625 20.5 10.265625 \nQ 23.53125 6.390625 29.59375 6.390625 \nQ 36.859375 6.390625 41.078125 11.03125 \nQ 45.3125 15.671875 45.3125 23.6875 \nL 45.3125 54.6875 \nL 54.296875 54.6875 \nL 54.296875 0 \nL 45.3125 0 \nL 45.3125 8.40625 \nQ 42.046875 3.421875 37.71875 1 \nQ 33.40625 -1.421875 27.6875 -1.421875 \nQ 18.265625 -1.421875 13.375 4.4375 \nQ 8.5 10.296875 8.5 21.578125 \nz\nM 31.109375 56 \nz\n\" id=\"DejaVuSans-117\"/>\n      <path d=\"M 48.6875 27.296875 \nQ 48.6875 37.203125 44.609375 42.84375 \nQ 40.53125 48.484375 33.40625 48.484375 \nQ 26.265625 48.484375 22.1875 42.84375 \nQ 18.109375 37.203125 18.109375 27.296875 \nQ 18.109375 17.390625 22.1875 11.75 \nQ 26.265625 6.109375 33.40625 6.109375 \nQ 40.53125 6.109375 44.609375 11.75 \nQ 48.6875 17.390625 48.6875 27.296875 \nz\nM 18.109375 46.390625 \nQ 20.953125 51.265625 25.265625 53.625 \nQ 29.59375 56 35.59375 56 \nQ 45.5625 56 51.78125 48.09375 \nQ 58.015625 40.1875 58.015625 27.296875 \nQ 58.015625 14.40625 51.78125 6.484375 \nQ 45.5625 -1.421875 35.59375 -1.421875 \nQ 29.59375 -1.421875 25.265625 0.953125 \nQ 20.953125 3.328125 18.109375 8.203125 \nL 18.109375 0 \nL 9.078125 0 \nL 9.078125 75.984375 \nL 18.109375 75.984375 \nz\n\" id=\"DejaVuSans-98\"/>\n      <path d=\"M 9.421875 75.984375 \nL 18.40625 75.984375 \nL 18.40625 0 \nL 9.421875 0 \nz\n\" id=\"DejaVuSans-108\"/>\n      <path d=\"M 9.421875 54.6875 \nL 18.40625 54.6875 \nL 18.40625 0 \nL 9.421875 0 \nz\nM 9.421875 75.984375 \nL 18.40625 75.984375 \nL 18.40625 64.59375 \nL 9.421875 64.59375 \nz\n\" id=\"DejaVuSans-105\"/>\n      <path d=\"M 48.78125 52.59375 \nL 48.78125 44.1875 \nQ 44.96875 46.296875 41.140625 47.34375 \nQ 37.3125 48.390625 33.40625 48.390625 \nQ 24.65625 48.390625 19.8125 42.84375 \nQ 14.984375 37.3125 14.984375 27.296875 \nQ 14.984375 17.28125 19.8125 11.734375 \nQ 24.65625 6.203125 33.40625 6.203125 \nQ 37.3125 6.203125 41.140625 7.25 \nQ 44.96875 8.296875 48.78125 10.40625 \nL 48.78125 2.09375 \nQ 45.015625 0.34375 40.984375 -0.53125 \nQ 36.96875 -1.421875 32.421875 -1.421875 \nQ 20.0625 -1.421875 12.78125 6.34375 \nQ 5.515625 14.109375 5.515625 27.296875 \nQ 5.515625 40.671875 12.859375 48.328125 \nQ 20.21875 56 33.015625 56 \nQ 37.15625 56 41.109375 55.140625 \nQ 45.0625 54.296875 48.78125 52.59375 \nz\n\" id=\"DejaVuSans-99\"/>\n      <path d=\"M 34.28125 27.484375 \nQ 23.390625 27.484375 19.1875 25 \nQ 14.984375 22.515625 14.984375 16.5 \nQ 14.984375 11.71875 18.140625 8.90625 \nQ 21.296875 6.109375 26.703125 6.109375 \nQ 34.1875 6.109375 38.703125 11.40625 \nQ 43.21875 16.703125 43.21875 25.484375 \nL 43.21875 27.484375 \nz\nM 52.203125 31.203125 \nL 52.203125 0 \nL 43.21875 0 \nL 43.21875 8.296875 \nQ 40.140625 3.328125 35.546875 0.953125 \nQ 30.953125 -1.421875 24.3125 -1.421875 \nQ 15.921875 -1.421875 10.953125 3.296875 \nQ 6 8.015625 6 15.921875 \nQ 6 25.140625 12.171875 29.828125 \nQ 18.359375 34.515625 30.609375 34.515625 \nL 43.21875 34.515625 \nL 43.21875 35.40625 \nQ 43.21875 41.609375 39.140625 45 \nQ 35.0625 48.390625 27.6875 48.390625 \nQ 23 48.390625 18.546875 47.265625 \nQ 14.109375 46.140625 10.015625 43.890625 \nL 10.015625 52.203125 \nQ 14.9375 54.109375 19.578125 55.046875 \nQ 24.21875 56 28.609375 56 \nQ 40.484375 56 46.34375 49.84375 \nQ 52.203125 43.703125 52.203125 31.203125 \nz\n\" id=\"DejaVuSans-97\"/>\n      <path d=\"M 54.890625 33.015625 \nL 54.890625 0 \nL 45.90625 0 \nL 45.90625 32.71875 \nQ 45.90625 40.484375 42.875 44.328125 \nQ 39.84375 48.1875 33.796875 48.1875 \nQ 26.515625 48.1875 22.3125 43.546875 \nQ 18.109375 38.921875 18.109375 30.90625 \nL 18.109375 0 \nL 9.078125 0 \nL 9.078125 54.6875 \nL 18.109375 54.6875 \nL 18.109375 46.1875 \nQ 21.34375 51.125 25.703125 53.5625 \nQ 30.078125 56 35.796875 56 \nQ 45.21875 56 50.046875 50.171875 \nQ 54.890625 44.34375 54.890625 33.015625 \nz\n\" id=\"DejaVuSans-110\"/>\n     </defs>\n     <use xlink:href=\"#DejaVuSans-114\"/>\n     <use x=\"38.863281\" xlink:href=\"#DejaVuSans-101\"/>\n     <use x=\"100.386719\" xlink:href=\"#DejaVuSans-112\"/>\n     <use x=\"163.863281\" xlink:href=\"#DejaVuSans-117\"/>\n     <use x=\"227.242188\" xlink:href=\"#DejaVuSans-98\"/>\n     <use x=\"290.71875\" xlink:href=\"#DejaVuSans-108\"/>\n     <use x=\"318.501953\" xlink:href=\"#DejaVuSans-105\"/>\n     <use x=\"346.285156\" xlink:href=\"#DejaVuSans-99\"/>\n     <use x=\"401.265625\" xlink:href=\"#DejaVuSans-97\"/>\n     <use x=\"462.544922\" xlink:href=\"#DejaVuSans-110\"/>\n    </g>\n   </g>\n   <g id=\"text_21\">\n    <!-- democrat -->\n    <g transform=\"translate(7.2 156.426563)scale(0.1 -0.1)\">\n     <defs>\n      <path d=\"M 45.40625 46.390625 \nL 45.40625 75.984375 \nL 54.390625 75.984375 \nL 54.390625 0 \nL 45.40625 0 \nL 45.40625 8.203125 \nQ 42.578125 3.328125 38.25 0.953125 \nQ 33.9375 -1.421875 27.875 -1.421875 \nQ 17.96875 -1.421875 11.734375 6.484375 \nQ 5.515625 14.40625 5.515625 27.296875 \nQ 5.515625 40.1875 11.734375 48.09375 \nQ 17.96875 56 27.875 56 \nQ 33.9375 56 38.25 53.625 \nQ 42.578125 51.265625 45.40625 46.390625 \nz\nM 14.796875 27.296875 \nQ 14.796875 17.390625 18.875 11.75 \nQ 22.953125 6.109375 30.078125 6.109375 \nQ 37.203125 6.109375 41.296875 11.75 \nQ 45.40625 17.390625 45.40625 27.296875 \nQ 45.40625 37.203125 41.296875 42.84375 \nQ 37.203125 48.484375 30.078125 48.484375 \nQ 22.953125 48.484375 18.875 42.84375 \nQ 14.796875 37.203125 14.796875 27.296875 \nz\n\" id=\"DejaVuSans-100\"/>\n      <path d=\"M 52 44.1875 \nQ 55.375 50.25 60.0625 53.125 \nQ 64.75 56 71.09375 56 \nQ 79.640625 56 84.28125 50.015625 \nQ 88.921875 44.046875 88.921875 33.015625 \nL 88.921875 0 \nL 79.890625 0 \nL 79.890625 32.71875 \nQ 79.890625 40.578125 77.09375 44.375 \nQ 74.3125 48.1875 68.609375 48.1875 \nQ 61.625 48.1875 57.5625 43.546875 \nQ 53.515625 38.921875 53.515625 30.90625 \nL 53.515625 0 \nL 44.484375 0 \nL 44.484375 32.71875 \nQ 44.484375 40.625 41.703125 44.40625 \nQ 38.921875 48.1875 33.109375 48.1875 \nQ 26.21875 48.1875 22.15625 43.53125 \nQ 18.109375 38.875 18.109375 30.90625 \nL 18.109375 0 \nL 9.078125 0 \nL 9.078125 54.6875 \nL 18.109375 54.6875 \nL 18.109375 46.1875 \nQ 21.1875 51.21875 25.484375 53.609375 \nQ 29.78125 56 35.6875 56 \nQ 41.65625 56 45.828125 52.96875 \nQ 50 49.953125 52 44.1875 \nz\n\" id=\"DejaVuSans-109\"/>\n      <path d=\"M 30.609375 48.390625 \nQ 23.390625 48.390625 19.1875 42.75 \nQ 14.984375 37.109375 14.984375 27.296875 \nQ 14.984375 17.484375 19.15625 11.84375 \nQ 23.34375 6.203125 30.609375 6.203125 \nQ 37.796875 6.203125 41.984375 11.859375 \nQ 46.1875 17.53125 46.1875 27.296875 \nQ 46.1875 37.015625 41.984375 42.703125 \nQ 37.796875 48.390625 30.609375 48.390625 \nz\nM 30.609375 56 \nQ 42.328125 56 49.015625 48.375 \nQ 55.71875 40.765625 55.71875 27.296875 \nQ 55.71875 13.875 49.015625 6.21875 \nQ 42.328125 -1.421875 30.609375 -1.421875 \nQ 18.84375 -1.421875 12.171875 6.21875 \nQ 5.515625 13.875 5.515625 27.296875 \nQ 5.515625 40.765625 12.171875 48.375 \nQ 18.84375 56 30.609375 56 \nz\n\" id=\"DejaVuSans-111\"/>\n      <path d=\"M 18.3125 70.21875 \nL 18.3125 54.6875 \nL 36.8125 54.6875 \nL 36.8125 47.703125 \nL 18.3125 47.703125 \nL 18.3125 18.015625 \nQ 18.3125 11.328125 20.140625 9.421875 \nQ 21.96875 7.515625 27.59375 7.515625 \nL 36.8125 7.515625 \nL 36.8125 0 \nL 27.59375 0 \nQ 17.1875 0 13.234375 3.875 \nQ 9.28125 7.765625 9.28125 18.015625 \nL 9.28125 47.703125 \nL 2.6875 47.703125 \nL 2.6875 54.6875 \nL 9.28125 54.6875 \nL 9.28125 70.21875 \nz\n\" id=\"DejaVuSans-116\"/>\n     </defs>\n     <use xlink:href=\"#DejaVuSans-100\"/>\n     <use x=\"63.476562\" xlink:href=\"#DejaVuSans-101\"/>\n     <use x=\"125\" xlink:href=\"#DejaVuSans-109\"/>\n     <use x=\"222.412109\" xlink:href=\"#DejaVuSans-111\"/>\n     <use x=\"283.59375\" xlink:href=\"#DejaVuSans-99\"/>\n     <use x=\"338.574219\" xlink:href=\"#DejaVuSans-114\"/>\n     <use x=\"379.6875\" xlink:href=\"#DejaVuSans-97\"/>\n     <use x=\"440.966797\" xlink:href=\"#DejaVuSans-116\"/>\n    </g>\n   </g>\n   <g id=\"text_22\">\n    <!-- fake -->\n    <g transform=\"translate(211.315625 14.798438)scale(0.1 -0.1)\">\n     <defs>\n      <path d=\"M 37.109375 75.984375 \nL 37.109375 68.5 \nL 28.515625 68.5 \nQ 23.6875 68.5 21.796875 66.546875 \nQ 19.921875 64.59375 19.921875 59.515625 \nL 19.921875 54.6875 \nL 34.71875 54.6875 \nL 34.71875 47.703125 \nL 19.921875 47.703125 \nL 19.921875 0 \nL 10.890625 0 \nL 10.890625 47.703125 \nL 2.296875 47.703125 \nL 2.296875 54.6875 \nL 10.890625 54.6875 \nL 10.890625 58.5 \nQ 10.890625 67.625 15.140625 71.796875 \nQ 19.390625 75.984375 28.609375 75.984375 \nz\n\" id=\"DejaVuSans-102\"/>\n      <path d=\"M 9.078125 75.984375 \nL 18.109375 75.984375 \nL 18.109375 31.109375 \nL 44.921875 54.6875 \nL 56.390625 54.6875 \nL 27.390625 29.109375 \nL 57.625 0 \nL 45.90625 0 \nL 18.109375 26.703125 \nL 18.109375 0 \nL 9.078125 0 \nz\n\" id=\"DejaVuSans-107\"/>\n     </defs>\n     <use xlink:href=\"#DejaVuSans-102\"/>\n     <use x=\"35.205078\" xlink:href=\"#DejaVuSans-97\"/>\n     <use x=\"96.484375\" xlink:href=\"#DejaVuSans-107\"/>\n     <use x=\"150.769531\" xlink:href=\"#DejaVuSans-101\"/>\n    </g>\n   </g>\n   <g id=\"text_23\">\n    <!-- real -->\n    <g transform=\"translate(206.315625 270.876563)scale(0.1 -0.1)\">\n     <use xlink:href=\"#DejaVuSans-114\"/>\n     <use x=\"38.863281\" xlink:href=\"#DejaVuSans-101\"/>\n     <use x=\"100.386719\" xlink:href=\"#DejaVuSans-97\"/>\n     <use x=\"161.666016\" xlink:href=\"#DejaVuSans-108\"/>\n    </g>\n   </g>\n  </g>\n </g>\n <defs>\n  <clipPath id=\"pdeb51c755c\">\n   <rect height=\"235.9\" width=\"360.2125\" x=\"26.209375\" y=\"27.378125\"/>\n  </clipPath>\n </defs>\n</svg>\n",
      "image/png": "[encoded data removed]"
     },
     "metadata": {
      "needs_background": "dark"
     }
    }
   ],
   "source": [
    "from utils.data_visualisation import __getColumnName__\n",
    "def plotResults(results, axes):\n",
    "    if results.index.dtype != 'int64':\n",
    "        results.reset_index(drop=False, inplace=True)\n",
    "\n",
    "    results.drop_duplicates(subset=[__getColumnName__(axis) for axis in axes], inplace=True)\n",
    "    x = list(results[__getColumnName__(axes[0])])\n",
    "    y = list(results[__getColumnName__(axes[1])])\n",
    "\n",
    "    fig = plt.figure()\n",
    "    ax = SubplotZero(fig, 111)\n",
    "    fig.add_subplot(ax)\n",
    "\n",
    "    ticklabelpad = mpl.rcParams['xtick.major.pad']\n",
    "\n",
    "    for direction in [\"xzero\", \"yzero\"]:\n",
    "        ax.axis[direction].set_axisline_style(\"-|>\")\n",
    "        ax.axis[direction].set_visible(True)\n",
    "\n",
    "    for direction in [\"left\", \"right\", \"bottom\", \"top\"]:\n",
    "        ax.axis[direction].set_visible(False)\n",
    "\n",
    "    ax.scatter(x, y)\n",
    "    for i in range(len(x)):\n",
    "        ax.text(x[i], y[i], i, color=\"red\", fontsize=14)\n",
    "\n",
    "    ax.tick_params(axis='x', colors='#FFFFFF')\n",
    "    ax.tick_params(axis='y', colors='#FFFFFF')\n",
    "    ax.set_xticklabels('')\n",
    "    ax.set_yticklabels('')\n",
    "\n",
    "    # print(fig)\n",
    "    # print(ax)\n",
    "    # print(ax.get_position())\n",
    "    # print(ax.axis)\n",
    "    # print(ax.axis['xzero'].line)\n",
    "    # print(ax.axis['yzero'].axes.get_xaxis())\n",
    "    methods = [method_name for method_name in dir(ax.axis['xzero'].axes) if callable(getattr(ax.axis['xzero'].axes, method_name))]\n",
    "\n",
    "    #for a in ax.axis['yzero'].axes.get_children():\n",
    "    #    print(a)\n",
    "    print(ax.axis['yzero'].axes.get_adjustable())\n",
    "    print(ax.axis['yzero'].axes.get_agg_filter())\n",
    "    print(ax.axis['yzero'].axes.get_alpha())\n",
    "    print(ax.axis['yzero'].axes.get_anchor())\n",
    "    print(ax.axis['yzero'].axes.get_animated())\n",
    "    print(ax.axis['yzero'].axes.get_aspect())\n",
    "    print(ax.axis['yzero'].axes.get_autoscale_on())\n",
    "    print(ax.axis['yzero'].axes.get_autoscalex_on())\n",
    "    print('3', ax.axis['yzero'].axes.get_autoscaley_on())\n",
    "    print(ax.axis['yzero'].axes.get_axes_locator())\n",
    "    print(ax.axis['yzero'].axes.get_axisbelow())\n",
    "    print(ax.axis['yzero'].axes.get_box_aspect())\n",
    "    print('5', ax.axis['yzero'].axes.get_children())\n",
    "    print(ax.axis['yzero'].axes.get_clip_box())\n",
    "    print(ax.axis['yzero'].axes.get_clip_on())\n",
    "    print(ax.axis['yzero'].axes.get_clip_path())\n",
    "    print(ax.axis['yzero'].axes.get_contains())\n",
    "    print(ax.axis['yzero'].axes.get_data_ratio())\n",
    "    print(ax.axis['yzero'].axes.get_default_bbox_extra_artists())\n",
    "    print(ax.axis['yzero'].axes.get_facecolor())\n",
    "    print(ax.axis['yzero'].axes.get_fc())\n",
    "    print(ax.axis['yzero'].axes.get_figure())\n",
    "    print(ax.axis['yzero'].axes.get_frame_on())\n",
    "    print(ax.axis['yzero'].axes.get_geometry())\n",
    "    print(ax.axis['yzero'].axes.get_gid())\n",
    "    print(ax.axis['yzero'].axes.get_grid_helper())\n",
    "    print(ax.axis['yzero'].axes.get_gridspec())\n",
    "    print(ax.axis['yzero'].axes.get_images())\n",
    "    print(ax.axis['yzero'].axes.get_in_layout())\n",
    "    print(ax.axis['yzero'].axes.get_label())\n",
    "    print(ax.axis['yzero'].axes.get_legend())\n",
    "    print(ax.axis['yzero'].axes.get_legend_handles_labels())\n",
    "    print(ax.axis['yzero'].axes.get_lines())\n",
    "    print(ax.axis['yzero'].axes.get_navigate())\n",
    "    print(ax.axis['yzero'].axes.get_navigate_mode())\n",
    "    print(ax.axis['yzero'].axes.get_path_effects())\n",
    "    print(ax.axis['yzero'].axes.get_picker())\n",
    "    print(ax.axis['yzero'].axes.get_position())\n",
    "    print(ax.axis['yzero'].axes.get_rasterization_zorder())\n",
    "    print(ax.axis['yzero'].axes.get_rasterized())\n",
    "    print(ax.axis['yzero'].axes.get_renderer_cache())\n",
    "    print(ax.axis['yzero'].axes.get_shared_x_axes())\n",
    "    print(ax.axis['yzero'].axes.get_shared_y_axes())\n",
    "    print(ax.axis['yzero'].axes.get_sketch_params())\n",
    "    print(ax.axis['yzero'].axes.get_snap())\n",
    "    print(ax.axis['yzero'].axes.get_subplotspec())\n",
    "    print(ax.axis['yzero'].axes.get_title())\n",
    "    print(ax.axis['yzero'].axes.get_transform())\n",
    "    print(ax.axis['yzero'].axes.get_transformed_clip_path_and_affine())\n",
    "    print(ax.axis['yzero'].axes.get_url())\n",
    "    print(ax.axis['yzero'].axes.get_visible())\n",
    "    print(ax.axis['yzero'].axes.get_window_extent())\n",
    "    print(ax.axis['yzero'].axes.get_xaxis())\n",
    "    print(ax.axis['yzero'].axes.get_xaxis_transform())\n",
    "    print(ax.axis['yzero'].axes.get_xbound())\n",
    "    print(ax.axis['yzero'].axes.get_xgridlines())\n",
    "    print(ax.axis['yzero'].axes.get_xlabel())\n",
    "    print(ax.axis['yzero'].axes.get_xlim())\n",
    "    print(ax.axis['yzero'].axes.get_xmajorticklabels())\n",
    "    print(ax.axis['yzero'].axes.get_xminorticklabels())\n",
    "    print(ax.axis['yzero'].axes.get_xscale())\n",
    "    print(ax.axis['yzero'].axes.get_xticklabels())\n",
    "    print(ax.axis['yzero'].axes.get_xticklines())\n",
    "    print(ax.axis['yzero'].axes.get_xticks())\n",
    "    print(ax.axis['yzero'].axes.get_yaxis())\n",
    "    print(ax.axis['yzero'].axes.get_yaxis_transform())\n",
    "    print(ax.axis['yzero'].axes.get_ybound())\n",
    "    print(ax.axis['yzero'].axes.get_ygridlines())\n",
    "    print(ax.axis['yzero'].axes.get_ylabel())\n",
    "    print(ax.axis['yzero'].axes.get_ylim())\n",
    "    print(ax.axis['yzero'].axes.get_ymajorticklabels())\n",
    "    print(ax.axis['yzero'].axes.get_yminorticklabels())\n",
    "    print(ax.axis['yzero'].axes.get_yscale())\n",
    "    print(ax.axis['yzero'].axes.get_yticklabels())\n",
    "    print(ax.axis['yzero'].axes.get_yticklines())\n",
    "    print(ax.axis['yzero'].axes.get_yticks())\n",
    "    print(ax.axis['yzero'].axes.get_zorder())\n",
    "    ax.annotate(axes[0][1], xy=(1, 0.5), xytext=(5, -ticklabelpad), ha='center', va='top',\n",
    "                xycoords='axes fraction', textcoords='offset points')\n",
    "\n",
    "    ax.annotate(axes[0][0], xy=(0, 0.5), xytext=(5, -ticklabelpad), ha='center', va='top',\n",
    "                xycoords='axes fraction', textcoords='offset points')\n",
    "\n",
    "    ax.annotate(axes[1][1], xy=(0.5, 1), xytext=(5, 3*ticklabelpad), ha='left', va='bottom',\n",
    "                xycoords='axes fraction', textcoords='offset points')\n",
    "\n",
    "    ax.annotate(axes[1][0], xy=(0.5, 0), xytext=(0, 0), ha='left', va='top',\n",
    "                xycoords='axes fraction', textcoords='offset points')\n",
    "\n",
    "    plt.tight_layout()\n",
    "    plt.show()\n",
    "\n",
    "plotResults(results, axes)"
   ]
  },
  {
   "cell_type": "code",
   "execution_count": null,
   "id": "silver-editor",
   "metadata": {},
   "outputs": [],
   "source": [
    "fig, ax = plt.subplots()\n",
    "ax.scatter(x, y)\n",
    "for i in range(len(x)):\n",
    "    ax.text(x[i], y[i], i, color=\"red\", fontsize=14)\n",
    "ax.spines['right'].set_color(None)\n",
    "ax.spines['top'].set_color(None)\n",
    "ax.spines['left'].set_position('center')\n",
    "ax.spines['bottom'].set_position('center')\n",
    "ax.tick_params(axis='x', colors='#FFFFFF')\n",
    "ax.tick_params(axis='y', colors='#FFFFFF')\n",
    "plt.show()"
   ]
  },
  {
   "cell_type": "code",
   "execution_count": null,
   "id": "european-purple",
   "metadata": {},
   "outputs": [],
   "source": [
    "results.iloc[[19]]"
   ]
  },
  {
   "cell_type": "code",
   "execution_count": null,
   "id": "stock-creation",
   "metadata": {},
   "outputs": [],
   "source": [
    "dem = wv['democrat']; rep = wv['republican']"
   ]
  },
  {
   "cell_type": "code",
   "execution_count": null,
   "id": "hispanic-module",
   "metadata": {},
   "outputs": [],
   "source": [
    "dem"
   ]
  },
  {
   "cell_type": "code",
   "execution_count": null,
   "id": "velvet-residence",
   "metadata": {},
   "outputs": [],
   "source": [
    "rep"
   ]
  },
  {
   "cell_type": "code",
   "execution_count": null,
   "id": "stopped-contact",
   "metadata": {},
   "outputs": [],
   "source": [
    "embeddings = np.array([wv[w] for w in wv.wv.vocab.keys()])"
   ]
  },
  {
   "cell_type": "code",
   "execution_count": null,
   "id": "greek-physiology",
   "metadata": {},
   "outputs": [],
   "source": [
    "import umap"
   ]
  },
  {
   "cell_type": "code",
   "execution_count": null,
   "id": "elegant-sailing",
   "metadata": {},
   "outputs": [],
   "source": [
    "reducer = umap.UMAP()"
   ]
  },
  {
   "cell_type": "code",
   "execution_count": null,
   "id": "prescribed-market",
   "metadata": {},
   "outputs": [],
   "source": [
    "embedding = reducer.fit_transform(embeddings)\n",
    "embedding.shape"
   ]
  },
  {
   "cell_type": "code",
   "execution_count": null,
   "id": "conservative-rugby",
   "metadata": {},
   "outputs": [],
   "source": [
    "import matplotlib.pyplot as plt\n",
    "plt.scatter(embedding[:, 0], embedding[:, 1])\n",
    "plt.show()"
   ]
  },
  {
   "cell_type": "code",
   "execution_count": null,
   "id": "chief-humor",
   "metadata": {},
   "outputs": [],
   "source": [
    "mean_X = embedding[:, 0].mean()\n",
    "mean_Y = embedding[:, 1].mean()"
   ]
  },
  {
   "cell_type": "code",
   "execution_count": null,
   "id": "appropriate-palace",
   "metadata": {},
   "outputs": [],
   "source": [
    "mean_X, mean_Y"
   ]
  },
  {
   "cell_type": "code",
   "execution_count": null,
   "id": "usual-block",
   "metadata": {},
   "outputs": [],
   "source": [
    "embedding[wv.wv.vocab['republicans'].index]"
   ]
  },
  {
   "cell_type": "code",
   "execution_count": null,
   "id": "greek-genius",
   "metadata": {},
   "outputs": [],
   "source": [
    "embedding[wv.wv.vocab['democrats'].index]"
   ]
  },
  {
   "cell_type": "code",
   "execution_count": null,
   "id": "regulation-gospel",
   "metadata": {},
   "outputs": [],
   "source": [
    "embedding[wv.wv.vocab['good'].index]"
   ]
  },
  {
   "cell_type": "code",
   "execution_count": null,
   "id": "considered-roads",
   "metadata": {},
   "outputs": [],
   "source": [
    "embedding[wv.wv.vocab['bad'].index]"
   ]
  },
  {
   "cell_type": "code",
   "execution_count": null,
   "id": "adopted-timber",
   "metadata": {},
   "outputs": [],
   "source": [
    "news_index.index('e68a28ba-6ed0-4c11-9d65-de2a66c17eff')"
   ]
  },
  {
   "cell_type": "code",
   "execution_count": null,
   "id": "favorite-blank",
   "metadata": {},
   "outputs": [],
   "source": [
    "indexes = [news_index.index(article_uuid) for article_uuid in results.index]"
   ]
  },
  {
   "cell_type": "code",
   "execution_count": null,
   "id": "tested-illustration",
   "metadata": {},
   "outputs": [],
   "source": [
    "len(news_vect['title'])"
   ]
  },
  {
   "cell_type": "code",
   "execution_count": null,
   "id": "applied-vegetable",
   "metadata": {},
   "outputs": [],
   "source": [
    "article_embeddings = [news_vect['title']['news_vector'][i] for i in indexes]"
   ]
  },
  {
   "cell_type": "code",
   "execution_count": null,
   "id": "amino-basketball",
   "metadata": {},
   "outputs": [],
   "source": [
    "reduced_article_embeddings = reducer.transform(article_embeddings)"
   ]
  },
  {
   "cell_type": "code",
   "execution_count": null,
   "id": "smaller-volume",
   "metadata": {},
   "outputs": [],
   "source": [
    "plt.scatter(reduced_article_embeddings[:, 0], reduced_article_embeddings[:, 1])\n",
    "plt.show()"
   ]
  },
  {
   "cell_type": "code",
   "execution_count": null,
   "id": "hazardous-circumstances",
   "metadata": {},
   "outputs": [],
   "source": [
    "results = data_science_utils.getSimilarArticlesFromText(\"Election fraud\")"
   ]
  },
  {
   "cell_type": "code",
   "execution_count": null,
   "id": "outside-resort",
   "metadata": {},
   "outputs": [],
   "source": [
    "base_vec = rep - dem"
   ]
  },
  {
   "cell_type": "code",
   "execution_count": null,
   "id": "technical-release",
   "metadata": {},
   "outputs": [],
   "source": [
    "projected_vecs = [news_vect['title']['news_vector'][news_index.index(i)]  for i in results.index]"
   ]
  },
  {
   "cell_type": "code",
   "execution_count": null,
   "id": "generous-color",
   "metadata": {},
   "outputs": [],
   "source": [
    "news_dict = DataManager.getModel(Models.NEWS_DICT)"
   ]
  },
  {
   "cell_type": "code",
   "execution_count": null,
   "id": "celtic-steel",
   "metadata": {},
   "outputs": [],
   "source": [
    "results['projection_factor_dem_rep'] = [np.dot(vec, base_vec) / np.dot(base_vec, base_vec) for vec in projected_vecs]"
   ]
  },
  {
   "cell_type": "code",
   "execution_count": null,
   "id": "burning-afghanistan",
   "metadata": {},
   "outputs": [],
   "source": [
    "results[['title', 'projection_factor_dem_rep']].sort_values(by='projection_factor_dem_rep')"
   ]
  }
 ],
 "metadata": {
  "kernelspec": {
   "name": "python3",
   "display_name": "Python 3.8.8 64-bit ('ds-env': conda)",
   "metadata": {
    "interpreter": {
     "hash": "21075788aab9b79b98f21f1f981718f31387c1d13c4495a699e7db69a1e18211"
    }
   }
  },
  "language_info": {
   "codemirror_mode": {
    "name": "ipython",
    "version": 3
   },
   "file_extension": ".py",
   "mimetype": "text/x-python",
   "name": "python",
   "nbconvert_exporter": "python",
   "pygments_lexer": "ipython3",
   "version": "3.8.8-final"
  }
 },
 "nbformat": 4,
 "nbformat_minor": 5
}