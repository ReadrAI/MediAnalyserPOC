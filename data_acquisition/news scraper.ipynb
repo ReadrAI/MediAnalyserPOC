{
 "cells": [
  {
   "cell_type": "code",
   "execution_count": null,
   "metadata": {},
   "outputs": [],
   "source": [
    "import os\n",
    "import sys\n",
    "import time\n",
    "import json\n",
    "import shutil\n",
    "import codecs\n",
    "import requests\n",
    "import psycopg2\n",
    "import feedparser\n",
    "import sqlalchemy\n",
    "import urllib.parse\n",
    "\n",
    "import numpy as np\n",
    "import pandas as pd\n",
    "\n",
    "from random import random\n",
    "from datetime import datetime\n",
    "from datetime import timezone\n",
    "from selenium.webdriver import Chrome\n",
    "\n",
    "from utils.sql_utils import *\n",
    "from utils.scrape_utils import *\n",
    "from utils.data_science_utils import *"
   ]
  },
  {
   "cell_type": "code",
   "execution_count": null,
   "metadata": {},
   "outputs": [],
   "source": [
    "host=sql_utils.Host.LOCAL_JEAN\n",
    "schema=models.schema\n",
    "verbose=Verbose.INFO"
   ]
  },
  {
   "cell_type": "code",
   "execution_count": null,
   "metadata": {
    "tags": [
     "outputPrepend"
    ]
   },
   "outputs": [],
   "source": [
    "loadRoutine(host=host, schema=schema, verbose=verbose)"
   ]
  },
  {
   "cell_type": "code",
   "execution_count": null,
   "metadata": {
    "tags": []
   },
   "outputs": [],
   "source": [
    "pipelineNYTHeadlines(fetchSource=True, host=host, schema=schema, verbose=verbose)"
   ]
  },
  {
   "cell_type": "code",
   "execution_count": null,
   "metadata": {
    "tags": []
   },
   "outputs": [],
   "source": [
    "pipelineNYTNewsWire(fetchSource=True, verbose=Verbose.INFO) # startPage = 0"
   ]
  },
  {
   "cell_type": "code",
   "execution_count": null,
   "metadata": {
    "tags": []
   },
   "outputs": [],
   "source": [
    "pipelineNewsAPIHeadline(fetchSource=True)"
   ]
  },
  {
   "cell_type": "markdown",
   "metadata": {},
   "source": [
    "driver.get(\"https://www.nytimes.com/\")"
   ]
  },
  {
   "cell_type": "markdown",
   "metadata": {},
   "source": [
    "Possible sources:\n",
    "\n",
    "    \"NYTimes\": \"https://www.nytimes.com/\",\n",
    "    \"BBC\": \"https://www.bbc.co.uk/\",\n",
    "    \"CNN\": \"https://edition.cnn.com/\",\n",
    "    \"FoxNews\": \"https://www.foxnews.com/\",\n",
    "    \"OAN\": \"https://www.oann.com/\"\n",
    "\n",
    "The Guardian, Yahoo news, Washington Post, Daily Mail, ...\n",
    "\n",
    "https://www.4imn.com/top200/ for more"
   ]
  },
  {
   "cell_type": "code",
   "execution_count": null,
   "metadata": {},
   "outputs": [],
   "source": [
    "all_sources = pd.read_sql(\"select * from newsdb.sources\", getEngine())\n",
    "all_sources.shape[0]"
   ]
  },
  {
   "cell_type": "code",
   "execution_count": null,
   "metadata": {},
   "outputs": [],
   "source": [
    "all_articles = pd.read_sql_table(\"articles\", getEngine())\n",
    "all_articles.shape[0]"
   ]
  },
  {
   "cell_type": "code",
   "execution_count": null,
   "metadata": {},
   "outputs": [],
   "source": [
    "all_article_contents = pd.read_sql_table(\"article_contents\", getEngine())\n",
    "all_article_contents.shape[0]"
   ]
  },
  {
   "cell_type": "code",
   "execution_count": null,
   "metadata": {},
   "outputs": [],
   "source": [
    "sections = getNYTSections(source.api_key)"
   ]
  },
  {
   "cell_type": "code",
   "execution_count": null,
   "metadata": {
    "tags": []
   },
   "outputs": [],
   "source": [
    "createNlpModel(attributes=['title', 'description'])"
   ]
  },
  {
   "cell_type": "code",
   "execution_count": null,
   "metadata": {},
   "outputs": [],
   "source": [
    "getSimilarArticlesFromText('VP pick', 'title', 10)"
   ]
  },
  {
   "cell_type": "code",
   "execution_count": null,
   "metadata": {},
   "outputs": [],
   "source": [
    "getSimilarArticlesFromText('VP pick', 'description', 10)"
   ]
  },
  {
   "cell_type": "code",
   "execution_count": null,
   "metadata": {},
   "outputs": [],
   "source": [
    "getSimilarArticlesFromText('Lebanon minister resigns in wake of deadly Beirut blast', 'title', 10)"
   ]
  },
  {
   "cell_type": "code",
   "execution_count": null,
   "metadata": {},
   "outputs": [],
   "source": []
  },
  {
   "cell_type": "code",
   "execution_count": null,
   "metadata": {},
   "outputs": [],
   "source": []
  },
  {
   "cell_type": "code",
   "execution_count": null,
   "metadata": {},
   "outputs": [],
   "source": [
    "import urllib.request,sys,time\n",
    "from bs4 import BeautifulSoup\n",
    "import requests\n",
    "import pandas as pd"
   ]
  },
  {
   "cell_type": "code",
   "execution_count": null,
   "metadata": {},
   "outputs": [],
   "source": [
    "url = \"https://www.bbc.com/news/live/world-53775682\""
   ]
  },
  {
   "cell_type": "code",
   "execution_count": null,
   "metadata": {},
   "outputs": [],
   "source": [
    "url = \"https://www.20min.ch/fr/story/avec-ses-propos-sur-son-remede-trump-cree-la-confusion-634629791483\""
   ]
  },
  {
   "cell_type": "code",
   "execution_count": null,
   "metadata": {},
   "outputs": [],
   "source": [
    "url = \"https://nyti.ms/2GS6cZT\""
   ]
  },
  {
   "cell_type": "code",
   "execution_count": null,
   "metadata": {},
   "outputs": [],
   "source": [
    "source = getSourceFromUrl(url)\n",
    "source"
   ]
  },
  {
   "cell_type": "code",
   "execution_count": null,
   "metadata": {},
   "outputs": [],
   "source": [
    "title = scrapeArticleTitle(url)\n",
    "title"
   ]
  },
  {
   "cell_type": "code",
   "execution_count": null,
   "metadata": {},
   "outputs": [],
   "source": [
    "q = getDBSession().query(\n",
    "    models.Article.article_uuid, models.Article.title,\n",
    "    models.Article.description, models.Article.article_url, models.Source.source_name\n",
    ").filter(\n",
    "    models.Article.description.isnot(None)\n",
    ").join(\n",
    "    models.Source, models.Article.source_uuid == models.Source.source_uuid\n",
    ").limit(\n",
    "    200\n",
    ")"
   ]
  },
  {
   "cell_type": "code",
   "execution_count": null,
   "metadata": {},
   "outputs": [],
   "source": [
    "df = pd.read_sql(q.statement, q.session.bind)"
   ]
  },
  {
   "cell_type": "code",
   "execution_count": null,
   "metadata": {},
   "outputs": [],
   "source": [
    "getSourceFromUrl(\"https://www.espn.com/nfl/story/_/id/29526181/season-impact-future-salary-caps-central-nfl-talks-sources-say\")"
   ]
  },
  {
   "source": [
    "getSourceFromUrl(\"https://www.houstonchronicle.com/texas-sports-nation/astros/article/Astros-Justin-Verlander-out-for-season-with-15435496.php\")"
   ],
   "cell_type": "code",
   "metadata": {
    "tags": []
   },
   "execution_count": null,
   "outputs": []
  },
  {
   "cell_type": "code",
   "execution_count": null,
   "metadata": {
    "tags": []
   },
   "outputs": [],
   "source": [
    "getSourceFromUrl('https://www.express.co.uk/news/science/1312473/Comet-NEOWISE-tonight-where-is-Comet-NEOWISE-now')"
   ]
  },
  {
   "cell_type": "code",
   "execution_count": null,
   "metadata": {},
   "outputs": [],
   "source": [
    "getSourceFromUrl('https://www.cbsnews.com/news/mountain-rescue-crew-carry-saint-bernard-off-scafell-pike-england-2020-07-26/')"
   ]
  },
  {
   "cell_type": "code",
   "execution_count": null,
   "metadata": {},
   "outputs": [],
   "source": [
    "getSourceFromUrl('https://finance.yahoo.com/news/gold-futures-touch-record-haven-221708713.html')"
   ]
  },
  {
   "cell_type": "code",
   "execution_count": null,
   "metadata": {
    "tags": []
   },
   "outputs": [],
   "source": [
    "df_sources = list(map(lambda x: getSourceFromUrl(x).source_name, list(df['article_url'])))"
   ]
  },
  {
   "cell_type": "code",
   "execution_count": null,
   "metadata": {},
   "outputs": [],
   "source": [
    "for i in range(len(df_sources)):\n",
    "    if df_sources[i] != df['source_name'][i]:\n",
    "        print(i, df_sources[i], '!=', df['source_name'][i])"
   ]
  },
  {
   "cell_type": "code",
   "execution_count": null,
   "metadata": {},
   "outputs": [],
   "source": []
  },
  {
   "cell_type": "code",
   "execution_count": null,
   "metadata": {},
   "outputs": [],
   "source": [
    "npr_feed_url = \"https://feeds.npr.org/%d/rss.xml\""
   ]
  },
  {
   "cell_type": "code",
   "execution_count": null,
   "metadata": {
    "tags": []
   },
   "outputs": [],
   "source": [
    "for i in range(200, 50000):\n",
    "    data = feedparser.parse(npr_feed_url % i)\n",
    "    if 'feed' in data and 'title' in data['feed']:\n",
    "        print(\"(\\\"\" + (npr_feed_url % i) + \"\\\", \\\"\" + data['feed']['title'].replace(\" : NPR\", '') + \"\\\"),\")"
   ]
  },
  {
   "cell_type": "code",
   "execution_count": null,
   "metadata": {},
   "outputs": [],
   "source": []
  },
  {
   "cell_type": "code",
   "execution_count": 8,
   "metadata": {},
   "outputs": [
    {
     "output_type": "execute_result",
     "data": {
      "text/plain": [
       "6"
      ]
     },
     "metadata": {},
     "execution_count": 8
    }
   ],
   "source": [
    "len(sql_utils.getDBSession().query(models.Source).filter(models.Source.language == 'fr').all())"
   ]
  },
  {
   "cell_type": "code",
   "execution_count": 3,
   "metadata": {},
   "outputs": [],
   "source": [
    "import logging\n",
    "from utils import scrape_utils\n",
    "\n",
    "logger = logging.getLogger()\n",
    "logger.setLevel(logging.INFO)\n",
    "\n",
    "#scrape_utils.importNewsAPISources(language='fr')"
   ]
  },
  {
   "cell_type": "code",
   "execution_count": 7,
   "metadata": {},
   "outputs": [
    {
     "output_type": "stream",
     "name": "stderr",
     "text": [
      "INFO:root:Fetching https://newsapi.org/v2/sources?page=1&language=fr&apiKey=e30a64cfe1734e6794bdab67106590fa\n",
      "WARNING:root:Entry already exists for <Source None: Google News (France)>\n",
      "WARNING:root:Entry already exists for <Source None: Le Monde>\n",
      "WARNING:root:Entry already exists for <Source None: L'equipe>\n",
      "WARNING:root:Entry already exists for <Source None: Les Echos>\n",
      "WARNING:root:Entry already exists for <Source None: Libération>\n"
     ]
    },
    {
     "output_type": "execute_result",
     "data": {
      "text/plain": [
       "0"
      ]
     },
     "metadata": {},
     "execution_count": 7
    }
   ],
   "source": [
    "scrape_utils.importNewsAPISources(language='fr')"
   ]
  },
  {
   "cell_type": "code",
   "execution_count": 4,
   "metadata": {},
   "outputs": [],
   "source": [
    "languages = 'ar de en es fr he it nl no pt ru se ud zh'\n",
    "countries = 'ae ar at au be bg br ca ch cn co cu cz de eg fr gb gr hk hu id ie il in it jp kr lt lv ma mx my ng nl no nz ph pl pt ro rs ru sa se sg si sk th tr tw ua us ve za'"
   ]
  },
  {
   "cell_type": "code",
   "execution_count": 1,
   "metadata": {},
   "outputs": [],
   "source": [
    "from utils import sql_utils\n",
    "from utils import models\n",
    "import sqlalchemy\n",
    "hist = sql_utils.getDBSession().query(models.Source.added_at, sqlalchemy.func.count(models.Source.source_uuid)).group_by(models.Source.added_at).order_by(models.Source.added_at).all()\n",
    "#session.query(Table.column, func.count(Table.column)).group_by(Table.column).all()"
   ]
  },
  {
   "cell_type": "code",
   "execution_count": 2,
   "metadata": {},
   "outputs": [
    {
     "output_type": "execute_result",
     "data": {
      "text/plain": [
       "datetime.datetime(2020, 7, 27, 8, 50, 5, 289967)"
      ]
     },
     "metadata": {},
     "execution_count": 2
    }
   ],
   "source": [
    "hist[0][0]"
   ]
  },
  {
   "cell_type": "code",
   "execution_count": 9,
   "metadata": {
    "tags": []
   },
   "outputs": [
    {
     "output_type": "stream",
     "name": "stderr",
     "text": [
      "INFO:root:Fetching https://newsapi.org/v2/sources?page=1&language=ar&apiKey=e30a64cfe1734e6794bdab67106590fa\n",
      "WARNING:root:Entry already exists for <Source None: Argaam>\n",
      "WARNING:root:Entry already exists for <Source None: Google News (Saudi Arabia)>\n",
      "WARNING:root:Entry already exists for <Source None: SABQ>\n",
      "INFO:root:Fetching https://newsapi.org/v2/sources?page=1&language=de&apiKey=e30a64cfe1734e6794bdab67106590fa\n",
      "WARNING:root:Entry already exists for <Source None: Bild>\n",
      "WARNING:root:Entry already exists for <Source None: Der Tagesspiegel>\n",
      "WARNING:root:Entry already exists for <Source None: Die Zeit>\n",
      "WARNING:root:Entry already exists for <Source None: Focus>\n",
      "WARNING:root:Entry already exists for <Source None: Gruenderszene>\n",
      "WARNING:root:Entry already exists for <Source None: Handelsblatt>\n",
      "WARNING:root:Entry already exists for <Source None: Spiegel Online>\n",
      "WARNING:root:Entry already exists for <Source None: T3n>\n",
      "WARNING:root:Entry already exists for <Source None: Wired.de>\n",
      "WARNING:root:Entry already exists for <Source None: Wirtschafts Woche>\n",
      "INFO:root:Fetching https://newsapi.org/v2/sources?page=1&language=en&apiKey=e30a64cfe1734e6794bdab67106590fa\n",
      "WARNING:root:Entry already exists for <Source None: ABC News>\n",
      "WARNING:root:Entry already exists for <Source None: ABC News (AU)>\n",
      "WARNING:root:Entry already exists for <Source None: Al Jazeera English>\n",
      "WARNING:root:Entry already exists for <Source None: Ars Technica>\n",
      "WARNING:root:Entry already exists for <Source None: Associated Press>\n",
      "WARNING:root:Entry already exists for <Source None: Australian Financial Review>\n",
      "WARNING:root:Entry already exists for <Source None: Axios>\n",
      "WARNING:root:Entry already exists for <Source None: BBC News>\n",
      "WARNING:root:Entry already exists for <Source None: BBC Sport>\n",
      "WARNING:root:Entry already exists for <Source None: Bleacher Report>\n",
      "WARNING:root:Entry already exists for <Source None: Bloomberg>\n",
      "WARNING:root:Entry already exists for <Source None: Breitbart News>\n",
      "WARNING:root:Entry already exists for <Source None: Business Insider>\n",
      "WARNING:root:Entry already exists for <Source None: Business Insider (UK)>\n",
      "WARNING:root:Entry already exists for <Source None: Buzzfeed>\n",
      "WARNING:root:Entry already exists for <Source None: CBC News>\n",
      "WARNING:root:Entry already exists for <Source None: CBS News>\n",
      "WARNING:root:Entry already exists for <Source None: CNN>\n",
      "WARNING:root:Entry already exists for <Source None: Crypto Coins News>\n",
      "WARNING:root:Entry already exists for <Source None: Engadget>\n",
      "WARNING:root:Entry already exists for <Source None: Entertainment Weekly>\n",
      "WARNING:root:Entry already exists for <Source None: ESPN>\n",
      "ERROR:root:No source found for article http://espn.go.com\n",
      "WARNING:root:Entry already exists for <Source None: ESPN Cric Info>\n",
      "WARNING:root:Entry already exists for <Source None: Financial Post>\n",
      "WARNING:root:Entry already exists for <Source None: Football Italia>\n",
      "WARNING:root:Entry already exists for <Source None: Fortune>\n",
      "WARNING:root:Entry already exists for <Source None: FourFourTwo>\n",
      "WARNING:root:Entry already exists for <Source None: Fox News>\n",
      "WARNING:root:Entry already exists for <Source None: Fox Sports>\n",
      "WARNING:root:Entry already exists for <Source None: Google News>\n",
      "WARNING:root:Entry already exists for <Source None: Google News (Australia)>\n",
      "WARNING:root:Entry already exists for <Source None: Google News (Canada)>\n",
      "WARNING:root:Entry already exists for <Source None: Google News (India)>\n",
      "WARNING:root:Entry already exists for <Source None: Google News (UK)>\n",
      "WARNING:root:Entry already exists for <Source None: Hacker News>\n",
      "WARNING:root:Entry already exists for <Source None: IGN>\n",
      "WARNING:root:Entry already exists for <Source None: Independent>\n",
      "WARNING:root:Entry already exists for <Source None: Mashable>\n",
      "WARNING:root:Entry already exists for <Source None: Medical News Today>\n",
      "WARNING:root:Entry already exists for <Source None: MSNBC>\n",
      "WARNING:root:Entry already exists for <Source None: MTV News>\n",
      "WARNING:root:Entry already exists for <Source None: MTV News (UK)>\n",
      "WARNING:root:Entry already exists for <Source None: National Geographic>\n",
      "WARNING:root:Entry already exists for <Source None: National Review>\n",
      "WARNING:root:Entry already exists for <Source None: NBC News>\n",
      "WARNING:root:Entry already exists for <Source None: News24>\n",
      "WARNING:root:Entry already exists for <Source None: New Scientist>\n",
      "WARNING:root:Entry already exists for <Source None: News.com.au>\n",
      "WARNING:root:Entry already exists for <Source None: Newsweek>\n",
      "WARNING:root:Entry already exists for <Source None: New York Magazine>\n",
      "WARNING:root:Entry already exists for <Source None: Next Big Future>\n",
      "WARNING:root:Entry already exists for <Source None: NFL News>\n",
      "WARNING:root:Entry already exists for <Source None: NHL News>\n",
      "WARNING:root:Entry already exists for <Source None: Politico>\n",
      "WARNING:root:Entry already exists for <Source None: Polygon>\n",
      "WARNING:root:Entry already exists for <Source None: Recode>\n",
      "WARNING:root:Entry already exists for <Source None: Reddit /r/all>\n",
      "WARNING:root:Entry already exists for <Source None: Reuters>\n",
      "WARNING:root:Entry already exists for <Source None: RTE>\n",
      "WARNING:root:Entry already exists for <Source None: TalkSport>\n",
      "WARNING:root:Entry already exists for <Source None: TechCrunch>\n",
      "WARNING:root:Entry already exists for <Source None: TechRadar>\n",
      "WARNING:root:Entry already exists for <Source None: The American Conservative>\n",
      "WARNING:root:Entry already exists for <Source None: The Globe And Mail>\n",
      "WARNING:root:Entry already exists for <Source None: The Hill>\n",
      "WARNING:root:Entry already exists for <Source None: The Hindu>\n",
      "WARNING:root:Entry already exists for <Source None: The Huffington Post>\n",
      "WARNING:root:Entry already exists for <Source None: The Irish Times>\n",
      "WARNING:root:Entry already exists for <Source None: The Jerusalem Post>\n",
      "WARNING:root:Entry already exists for <Source None: The Lad Bible>\n",
      "WARNING:root:Entry already exists for <Source None: The Next Web>\n",
      "WARNING:root:Entry already exists for <Source None: The Sport Bible>\n",
      "WARNING:root:Entry already exists for <Source None: The Times of India>\n",
      "WARNING:root:Entry already exists for <Source None: The Verge>\n",
      "WARNING:root:Entry already exists for <Source None: The Wall Street Journal>\n",
      "WARNING:root:Entry already exists for <Source None: The Washington Post>\n",
      "WARNING:root:Entry already exists for <Source None: The Washington Times>\n",
      "WARNING:root:Entry already exists for <Source None: Time>\n",
      "WARNING:root:Entry already exists for <Source None: USA Today>\n",
      "WARNING:root:Entry already exists for <Source None: Vice News>\n",
      "WARNING:root:Entry already exists for <Source None: Wired>\n",
      "INFO:root:Fetching https://newsapi.org/v2/sources?page=1&language=es&apiKey=e30a64cfe1734e6794bdab67106590fa\n",
      "WARNING:root:Entry already exists for <Source None: CNN Spanish>\n",
      "WARNING:root:Entry already exists for <Source None: El Mundo>\n",
      "WARNING:root:Entry already exists for <Source None: Google News (Argentina)>\n",
      "WARNING:root:Entry already exists for <Source None: Infobae>\n",
      "WARNING:root:Entry already exists for <Source None: La Gaceta>\n",
      "WARNING:root:Entry already exists for <Source None: La Nacion>\n",
      "WARNING:root:Entry already exists for <Source None: Marca>\n",
      "INFO:root:Fetching https://newsapi.org/v2/sources?page=1&language=fr&apiKey=e30a64cfe1734e6794bdab67106590fa\n",
      "WARNING:root:Entry already exists for <Source None: Google News (France)>\n",
      "WARNING:root:Entry already exists for <Source None: Le Monde>\n",
      "WARNING:root:Entry already exists for <Source None: L'equipe>\n",
      "WARNING:root:Entry already exists for <Source None: Les Echos>\n",
      "WARNING:root:Entry already exists for <Source None: Libération>\n",
      "INFO:root:Fetching https://newsapi.org/v2/sources?page=1&language=he&apiKey=e30a64cfe1734e6794bdab67106590fa\n",
      "WARNING:root:Entry already exists for <Source None: Google News (Israel)>\n",
      "WARNING:root:Entry already exists for <Source None: Ynet>\n",
      "INFO:root:Fetching https://newsapi.org/v2/sources?page=1&language=it&apiKey=e30a64cfe1734e6794bdab67106590fa\n",
      "WARNING:root:Entry already exists for <Source None: ANSA.it>\n",
      "WARNING:root:Entry already exists for <Source None: Google News (Italy)>\n",
      "WARNING:root:Entry already exists for <Source None: Il Sole 24 Ore>\n",
      "WARNING:root:Entry already exists for <Source None: La Repubblica>\n",
      "INFO:root:Fetching https://newsapi.org/v2/sources?page=1&language=nl&apiKey=e30a64cfe1734e6794bdab67106590fa\n",
      "WARNING:root:Entry already exists for <Source None: RTL Nieuws>\n",
      "INFO:root:Fetching https://newsapi.org/v2/sources?page=1&language=no&apiKey=e30a64cfe1734e6794bdab67106590fa\n",
      "WARNING:root:Entry already exists for <Source None: Aftenposten>\n",
      "WARNING:root:Entry already exists for <Source None: NRK>\n",
      "INFO:root:Fetching https://newsapi.org/v2/sources?page=1&language=pt&apiKey=e30a64cfe1734e6794bdab67106590fa\n",
      "WARNING:root:Entry already exists for <Source None: Blasting News (BR)>\n",
      "WARNING:root:Entry already exists for <Source None: Globo>\n",
      "WARNING:root:Entry already exists for <Source None: Google News (Brasil)>\n",
      "WARNING:root:Entry already exists for <Source None: InfoMoney>\n",
      "INFO:root:Fetching https://newsapi.org/v2/sources?page=1&language=ru&apiKey=e30a64cfe1734e6794bdab67106590fa\n",
      "WARNING:root:Entry already exists for <Source None: Google News (Russia)>\n",
      "WARNING:root:Entry already exists for <Source None: Lenta>\n",
      "WARNING:root:Entry already exists for <Source None: RBC>\n",
      "WARNING:root:Entry already exists for <Source None: RT>\n",
      "INFO:root:Fetching https://newsapi.org/v2/sources?page=1&language=se&apiKey=e30a64cfe1734e6794bdab67106590fa\n",
      "WARNING:root:Entry already exists for <Source None: Göteborgs-Posten>\n",
      "WARNING:root:Entry already exists for <Source None: Svenska Dagbladet>\n",
      "INFO:root:Fetching https://newsapi.org/v2/sources?page=1&language=ud&apiKey=e30a64cfe1734e6794bdab67106590fa\n",
      "WARNING:root:Entry already exists for <Source None: Ary News>\n",
      "INFO:root:Fetching https://newsapi.org/v2/sources?page=1&language=zh&apiKey=e30a64cfe1734e6794bdab67106590fa\n",
      "WARNING:root:Entry already exists for <Source None: TechCrunch (CN)>\n",
      "WARNING:root:Entry already exists for <Source None: Xinhua Net>\n",
      "0\n"
     ]
    }
   ],
   "source": [
    "import time\n",
    "count = 0\n",
    "for l in languages.split():\n",
    "    count += scrape_utils.importNewsAPISources(language=l)\n",
    "    time.sleep(1)\n",
    "print(count)"
   ]
  },
  {
   "cell_type": "code",
   "execution_count": 11,
   "metadata": {},
   "outputs": [
    {
     "output_type": "execute_result",
     "data": {
      "text/plain": [
       "[(10, 'de'),\n",
       " (1, 'nl'),\n",
       " (5, 'fr'),\n",
       " (1, 'multi'),\n",
       " (101, None),\n",
       " (2, 'se'),\n",
       " (7606, 'en'),\n",
       " (1, 'ud'),\n",
       " (4, 'ru'),\n",
       " (2, 'ar'),\n",
       " (1, 'he'),\n",
       " (2, 'no'),\n",
       " (3, 'pt'),\n",
       " (2, 'zh'),\n",
       " (3, 'it'),\n",
       " (6, 'es')]"
      ]
     },
     "metadata": {},
     "execution_count": 11
    }
   ],
   "source": [
    "sql_utils.getDBSession().query(sqlalchemy.func.count(models.Source.source_uuid), models.Source.language).group_by(models.Source.language).all()"
   ]
  },
  {
   "cell_type": "code",
   "execution_count": 32,
   "metadata": {},
   "outputs": [
    {
     "output_type": "execute_result",
     "data": {
      "text/plain": [
       "'fr'"
      ]
     },
     "metadata": {},
     "execution_count": 32
    }
   ],
   "source": [
    "languages.split()[4]"
   ]
  },
  {
   "cell_type": "code",
   "execution_count": 33,
   "metadata": {},
   "outputs": [
    {
     "output_type": "execute_result",
     "data": {
      "text/plain": [
       "5"
      ]
     },
     "metadata": {},
     "execution_count": 33
    }
   ],
   "source": [
    "language_sources = sql_utils.getDBSession().query(models.Source).filter(models.Source.language == languages.split()[4]).all()\n",
    "len(language_sources)"
   ]
  },
  {
   "cell_type": "code",
   "execution_count": 44,
   "metadata": {},
   "outputs": [],
   "source": [
    "language_source_i = language_sources[3]"
   ]
  },
  {
   "cell_type": "code",
   "execution_count": 45,
   "metadata": {},
   "outputs": [
    {
     "output_type": "execute_result",
     "data": {
      "text/plain": [
       "1"
      ]
     },
     "metadata": {},
     "execution_count": 45
    }
   ],
   "source": [
    "language_articles = sql_utils.getDBSession().query(models.Article).filter(models.Article.source_uuid == str(language_source_i.source_uuid)).all()\n",
    "len(language_articles)"
   ]
  },
  {
   "cell_type": "code",
   "execution_count": 3,
   "metadata": {},
   "outputs": [
    {
     "output_type": "stream",
     "name": "stdout",
     "text": [
      "processing language de\n",
      "   processing article 2c650e11-2fbb-4378-8523-53c5b709b6b7\n",
      "   processing article eaaf0e83-873c-4c80-8f6a-66d179a853e6\n",
      "processing language fr\n",
      "   processing article 74cc8c1b-8e1d-4ac1-9e71-2a6f6deaac02\n",
      "   processing article a1192f77-e9d0-4059-844a-916189c66253\n",
      "processing language multi\n",
      "   processing article d1322089-c897-4ed5-8c42-18731c57a76c\n",
      "   processing article eb52e273-712e-4b89-b1f2-d6b7cb9d64df\n",
      "processing language None\n",
      "   processing article 4d3db52c-d3bc-44f2-81f5-cb13c0a5a087\n",
      "   processing article f5787777-d526-4e72-b49a-ac249d2b9f73\n",
      "processing language zh\n",
      "   processing article f5200631-31da-46a7-b178-24c89668a300\n",
      "   processing article 07272a02-adfe-4e49-a257-54b8d3d20414\n",
      "processing language en\n",
      "processing language it\n",
      "   processing article 98fe9b88-c5a1-41cb-9dab-74c336c73b7b\n",
      "   processing article 2b4b9c60-7604-4e3f-bff9-e6ea5361ee2c\n",
      "processing language es\n",
      "   processing article 1fa47333-0325-46d9-8f1c-30a7aea483ea\n",
      "   processing article e0e3da41-62a8-42ad-9fb2-6c59a0f13f69\n",
      "processing language ud\n",
      "   processing article bc5181f2-1138-456d-9ef5-9829bccd3ce7\n",
      "   processing article 2ab78568-930f-4b1d-b85c-1be48d00ba74\n",
      "processing language ru\n",
      "   processing article 281f4218-a201-45d0-831a-062ab2f5da3a\n",
      "   processing article ac447b4b-eee1-4385-9b24-d7d9e15526ed\n"
     ]
    }
   ],
   "source": []
  },
  {
   "cell_type": "code",
   "execution_count": 98,
   "metadata": {},
   "outputs": [],
   "source": [
    "articles_by_language = sql_utils.getDBSession().query(sqlalchemy.func.array_agg(models.Article.article_uuid), models.Source.language).join(models.Source, models.Article.source_uuid == models.Source.source_uuid).group_by(models.Source.language).all()"
   ]
  },
  {
   "cell_type": "code",
   "execution_count": 99,
   "metadata": {},
   "outputs": [
    {
     "output_type": "execute_result",
     "data": {
      "text/plain": [
       "10"
      ]
     },
     "metadata": {},
     "execution_count": 99
    }
   ],
   "source": [
    "len(articles_by_language)"
   ]
  },
  {
   "cell_type": "code",
   "execution_count": 100,
   "metadata": {},
   "outputs": [],
   "source": [
    "language_i = 1"
   ]
  },
  {
   "cell_type": "code",
   "execution_count": 101,
   "metadata": {},
   "outputs": [
    {
     "output_type": "execute_result",
     "data": {
      "text/plain": [
       "2"
      ]
     },
     "metadata": {},
     "execution_count": 101
    }
   ],
   "source": [
    "len(articles_by_language[language_i])"
   ]
  },
  {
   "cell_type": "code",
   "execution_count": 102,
   "metadata": {},
   "outputs": [
    {
     "output_type": "execute_result",
     "data": {
      "text/plain": [
       "'fr'"
      ]
     },
     "metadata": {},
     "execution_count": 102
    }
   ],
   "source": [
    "articles_by_language[language_i][1]"
   ]
  },
  {
   "cell_type": "code",
   "execution_count": 76,
   "metadata": {},
   "outputs": [
    {
     "output_type": "execute_result",
     "data": {
      "text/plain": [
       "['Comment la baleine est devenue le plus gros des animaux',\n",
       " 'Are the batteries of electric cars clean?']"
      ]
     },
     "metadata": {},
     "execution_count": 76
    }
   ],
   "source": [
    "# articles_by_language[language_i][1]"
   ]
  },
  {
   "cell_type": "code",
   "execution_count": 77,
   "metadata": {},
   "outputs": [
    {
     "output_type": "execute_result",
     "data": {
      "text/plain": [
       "[UUID('74cc8c1b-8e1d-4ac1-9e71-2a6f6deaac02'),\n",
       " UUID('a1192f77-e9d0-4059-844a-916189c66253')]"
      ]
     },
     "metadata": {},
     "execution_count": 77
    }
   ],
   "source": [
    "articles_by_language[language_i][0]"
   ]
  },
  {
   "cell_type": "code",
   "execution_count": 83,
   "metadata": {},
   "outputs": [],
   "source": [
    "article_i = 0"
   ]
  },
  {
   "cell_type": "code",
   "execution_count": 84,
   "metadata": {},
   "outputs": [
    {
     "output_type": "execute_result",
     "data": {
      "text/plain": [
       "UUID('74cc8c1b-8e1d-4ac1-9e71-2a6f6deaac02')"
      ]
     },
     "metadata": {},
     "execution_count": 84
    }
   ],
   "source": [
    "articles_by_language[language_i][0][article_i]"
   ]
  },
  {
   "cell_type": "code",
   "execution_count": 85,
   "metadata": {},
   "outputs": [
    {
     "output_type": "execute_result",
     "data": {
      "text/plain": [
       "'Comment la baleine est devenue le plus gros des animaux'"
      ]
     },
     "metadata": {},
     "execution_count": 85
    }
   ],
   "source": [
    "articles_by_language[language_i][1][article_i]"
   ]
  },
  {
   "cell_type": "code",
   "execution_count": 86,
   "metadata": {},
   "outputs": [],
   "source": [
    "from utils import translate_utils"
   ]
  },
  {
   "cell_type": "code",
   "execution_count": 96,
   "metadata": {},
   "outputs": [],
   "source": [
    "article = sql_utils.getDBSession().query(models.Article).filter(models.Article.article_uuid==str(articles_by_language[language_i][0][article_i])).first()"
   ]
  },
  {
   "cell_type": "code",
   "execution_count": 106,
   "metadata": {},
   "outputs": [],
   "source": [
    "title_translation = translate_utils.translateText(article.title)"
   ]
  },
  {
   "cell_type": "code",
   "execution_count": 107,
   "metadata": {},
   "outputs": [
    {
     "output_type": "execute_result",
     "data": {
      "text/plain": [
       "'fr'"
      ]
     },
     "metadata": {},
     "execution_count": 107
    }
   ],
   "source": [
    "title_translation.detected_language_code"
   ]
  },
  {
   "cell_type": "code",
   "execution_count": 108,
   "metadata": {},
   "outputs": [
    {
     "output_type": "execute_result",
     "data": {
      "text/plain": [
       "'How the whale became the biggest animal'"
      ]
     },
     "metadata": {},
     "execution_count": 108
    }
   ],
   "source": [
    "title_translation.translated_text"
   ]
  },
  {
   "cell_type": "code",
   "execution_count": 104,
   "metadata": {},
   "outputs": [],
   "source": [
    "if article.description is not None:\n",
    "    description_translation = translate_utils.translateText(article.description)"
   ]
  },
  {
   "cell_type": "code",
   "execution_count": 91,
   "metadata": {},
   "outputs": [],
   "source": [
    "mutli_lingual_article = models.MultiLingualArticle(\n",
    "    article_uuid=str(articles_by_language[language_i][0][article_i]),\n",
    "    title=article.title,\n",
    "    description=article.description,\n",
    "    language=title_translation.detected_language_code\n",
    ")"
   ]
  },
  {
   "cell_type": "code",
   "execution_count": 93,
   "metadata": {},
   "outputs": [
    {
     "output_type": "execute_result",
     "data": {
      "text/plain": [
       "True"
      ]
     },
     "metadata": {},
     "execution_count": 93
    }
   ],
   "source": [
    "sql_utils.insertEntry(mutli_lingual_article)"
   ]
  },
  {
   "cell_type": "code",
   "execution_count": 97,
   "metadata": {},
   "outputs": [
    {
     "output_type": "execute_result",
     "data": {
      "text/plain": [
       "<Article 74cc8c1b-8e1d-4ac1-9e71-2a6f6deaac02: Comment la baleine est devenue le plus gros des animaux>"
      ]
     },
     "metadata": {},
     "execution_count": 97
    }
   ],
   "source": [
    "article"
   ]
  },
  {
   "cell_type": "code",
   "execution_count": 109,
   "metadata": {},
   "outputs": [],
   "source": [
    "article.title=title_translation.translated_text"
   ]
  },
  {
   "cell_type": "code",
   "execution_count": 110,
   "metadata": {},
   "outputs": [],
   "source": [
    "sql_utils.commitSession()"
   ]
  },
  {
   "cell_type": "code",
   "execution_count": null,
   "metadata": {},
   "outputs": [],
   "source": []
  }
 ],
 "metadata": {
  "language_info": {
   "codemirror_mode": {
    "name": "ipython",
    "version": 3
   },
   "file_extension": ".py",
   "mimetype": "text/x-python",
   "name": "python",
   "nbconvert_exporter": "python",
   "pygments_lexer": "ipython3",
   "version": "3.7.6-final"
  },
  "orig_nbformat": 2,
  "kernelspec": {
   "name": "python3",
   "display_name": "Python 3"
  }
 },
 "nbformat": 4,
 "nbformat_minor": 2
}