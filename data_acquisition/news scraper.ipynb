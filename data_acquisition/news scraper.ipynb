{
 "cells": [
  {
   "cell_type": "code",
   "execution_count": 1,
   "metadata": {},
   "outputs": [],
   "source": [
    "import os\n",
    "import sys\n",
    "import time\n",
    "import json\n",
    "import shutil\n",
    "import codecs\n",
    "import requests\n",
    "import psycopg2\n",
    "import feedparser\n",
    "import sqlalchemy\n",
    "import urllib.parse\n",
    "\n",
    "import numpy as np\n",
    "import pandas as pd\n",
    "\n",
    "from random import random\n",
    "from datetime import datetime\n",
    "from datetime import timezone\n",
    "from selenium.webdriver import Chrome\n",
    "\n",
    "sys.path.append(\"../\")\n",
    "\n",
    "from utils.sql_utils import *\n",
    "from utils.scrape_utils import *\n",
    "from utils.data_science_utils import *"
   ]
  },
  {
   "cell_type": "code",
   "execution_count": null,
   "metadata": {},
   "outputs": [],
   "source": [
    "host=sql_utils.Host.LOCAL_JEAN\n",
    "schema=models.schema\n",
    "verbose=Verbose.INFO"
   ]
  },
  {
   "cell_type": "code",
   "execution_count": null,
   "metadata": {
    "tags": [
     "outputPrepend"
    ]
   },
   "outputs": [],
   "source": [
    "loadRoutine(host=host, schema=schema, verbose=verbose)"
   ]
  },
  {
   "cell_type": "code",
   "execution_count": null,
   "metadata": {
    "tags": []
   },
   "outputs": [],
   "source": [
    "pipelineNYTHeadlines(fetchSource=True, host=host, schema=schema, verbose=verbose)"
   ]
  },
  {
   "cell_type": "code",
   "execution_count": null,
   "metadata": {
    "tags": []
   },
   "outputs": [],
   "source": [
    "pipelineNYTNewsWire(fetchSource=True, verbose=Verbose.INFO) # startPage = 0"
   ]
  },
  {
   "cell_type": "code",
   "execution_count": null,
   "metadata": {
    "tags": []
   },
   "outputs": [],
   "source": [
    "pipelineNewsAPIHeadline(fetchSource=True)"
   ]
  },
  {
   "cell_type": "markdown",
   "metadata": {},
   "source": [
    "driver.get(\"https://www.nytimes.com/\")"
   ]
  },
  {
   "cell_type": "markdown",
   "metadata": {},
   "source": [
    "Possible sources:\n",
    "\n",
    "    \"NYTimes\": \"https://www.nytimes.com/\",\n",
    "    \"BBC\": \"https://www.bbc.co.uk/\",\n",
    "    \"CNN\": \"https://edition.cnn.com/\",\n",
    "    \"FoxNews\": \"https://www.foxnews.com/\",\n",
    "    \"OAN\": \"https://www.oann.com/\"\n",
    "\n",
    "The Guardian, Yahoo news, Washington Post, Daily Mail, ...\n",
    "\n",
    "https://www.4imn.com/top200/ for more"
   ]
  },
  {
   "cell_type": "code",
   "execution_count": null,
   "metadata": {},
   "outputs": [],
   "source": [
    "all_sources = pd.read_sql(\"select * from newsdb.sources\", getEngine())\n",
    "all_sources.shape[0]"
   ]
  },
  {
   "cell_type": "code",
   "execution_count": null,
   "metadata": {},
   "outputs": [],
   "source": [
    "all_articles = pd.read_sql_table(\"articles\", getEngine())\n",
    "all_articles.shape[0]"
   ]
  },
  {
   "cell_type": "code",
   "execution_count": null,
   "metadata": {},
   "outputs": [],
   "source": [
    "all_article_contents = pd.read_sql_table(\"article_contents\", getEngine())\n",
    "all_article_contents.shape[0]"
   ]
  },
  {
   "cell_type": "code",
   "execution_count": null,
   "metadata": {},
   "outputs": [],
   "source": [
    "sections = getNYTSections(source.api_key)"
   ]
  },
  {
   "cell_type": "code",
   "execution_count": null,
   "metadata": {
    "tags": []
   },
   "outputs": [],
   "source": [
    "createNlpModel(attributes=['title', 'description'])"
   ]
  },
  {
   "cell_type": "code",
   "execution_count": null,
   "metadata": {},
   "outputs": [],
   "source": [
    "getSimilarArticlesFromText('VP pick', 'title', 10)"
   ]
  },
  {
   "cell_type": "code",
   "execution_count": null,
   "metadata": {},
   "outputs": [],
   "source": [
    "getSimilarArticlesFromText('VP pick', 'description', 10)"
   ]
  },
  {
   "cell_type": "code",
   "execution_count": null,
   "metadata": {},
   "outputs": [],
   "source": [
    "getSimilarArticlesFromText('Lebanon minister resigns in wake of deadly Beirut blast', 'title', 10)"
   ]
  },
  {
   "cell_type": "code",
   "execution_count": null,
   "metadata": {},
   "outputs": [],
   "source": []
  },
  {
   "cell_type": "code",
   "execution_count": null,
   "metadata": {},
   "outputs": [],
   "source": []
  },
  {
   "cell_type": "code",
   "execution_count": 2,
   "metadata": {},
   "outputs": [],
   "source": [
    "import urllib.request,sys,time\n",
    "from bs4 import BeautifulSoup\n",
    "import requests\n",
    "import pandas as pd"
   ]
  },
  {
   "cell_type": "code",
   "execution_count": 143,
   "metadata": {},
   "outputs": [],
   "source": [
    "url = \"https://www.bbc.com/news/live/world-53775682\""
   ]
  },
  {
   "cell_type": "code",
   "execution_count": 147,
   "metadata": {},
   "outputs": [],
   "source": [
    "url = \"https://www.20min.ch/fr/story/avec-ses-propos-sur-son-remede-trump-cree-la-confusion-634629791483\""
   ]
  },
  {
   "cell_type": "code",
   "execution_count": 149,
   "metadata": {},
   "outputs": [],
   "source": [
    "url = \"https://nyti.ms/2GS6cZT\""
   ]
  },
  {
   "cell_type": "code",
   "execution_count": 150,
   "metadata": {},
   "outputs": [
    {
     "output_type": "execute_result",
     "data": {
      "text/plain": [
       "'Trump Could Be Back in Public by Saturday. Experts Worry It’s Too Soon.'"
      ]
     },
     "metadata": {},
     "execution_count": 150
    }
   ],
   "source": [
    "title = scrapeArticleTitle(url)\n",
    "title"
   ]
  },
  {
   "cell_type": "code",
   "execution_count": 99,
   "metadata": {},
   "outputs": [],
   "source": [
    "q = getDBSession().query(\n",
    "    models.Article.article_uuid, models.Article.title,\n",
    "    models.Article.description, models.Article.article_url\n",
    ").filter(\n",
    "    models.Article.description.isnot(None)\n",
    ").limit(10)"
   ]
  },
  {
   "cell_type": "code",
   "execution_count": 100,
   "metadata": {},
   "outputs": [],
   "source": [
    "df = pd.read_sql(q.statement, q.session.bind)"
   ]
  },
  {
   "cell_type": "code",
   "execution_count": 151,
   "metadata": {},
   "outputs": [
    {
     "output_type": "execute_result",
     "data": {
      "text/plain": [
       "['Travis Scott Announces ‘Tenet’ Single ‘The Plan’',\n",
       " 'Portland police detain two suspects after reported shooting near federal courthouse protest site',\n",
       " 'US consulate in Chengdu officially shuts in retaliation for Houston closure',\n",
       " 'Hurricane Douglas menaces Hawaii coast, threatening heavy rain, strong winds',\n",
       " 'Olivia de Havilland tributes: Jared Leto details unlikely friendship; Antonio Banderas, others also mourn',\n",
       " 'US, China jockey for advantage in space race',\n",
       " \"Mountain rescue crew carry Saint Bernard off England's highest peak\",\n",
       " 'Peter Green, 1960s guitar hero and co-founder of Fleetwood Mac, dies at 73',\n",
       " \"Sean Shelby's Shoes: What's next for Darren Till after UFC on ESPN 14 loss?\",\n",
       " \"Biden campaign declines 'Fox News Sunday' interview, 1 week after Chris Wallace's Trump sitdown\"]"
      ]
     },
     "metadata": {},
     "execution_count": 151
    }
   ],
   "source": [
    "df_titles = list(map(scrapeArticleTitle, list(df['article_url'])))\n",
    "df_titles"
   ]
  },
  {
   "cell_type": "code",
   "execution_count": null,
   "metadata": {},
   "outputs": [],
   "source": [
    "npr_feed_url = \"https://feeds.npr.org/%d/rss.xml\""
   ]
  },
  {
   "cell_type": "code",
   "execution_count": null,
   "metadata": {
    "tags": []
   },
   "outputs": [],
   "source": [
    "for i in range(200, 50000):\n",
    "    data = feedparser.parse(npr_feed_url % i)\n",
    "    if 'feed' in data and 'title' in data['feed']:\n",
    "        print(\"(\\\"\" + (npr_feed_url % i) + \"\\\", \\\"\" + data['feed']['title'].replace(\" : NPR\", '') + \"\\\"),\")"
   ]
  },
  {
   "cell_type": "code",
   "execution_count": null,
   "metadata": {},
   "outputs": [],
   "source": []
  },
  {
   "cell_type": "code",
   "execution_count": null,
   "metadata": {},
   "outputs": [],
   "source": []
  }
 ],
 "metadata": {
  "language_info": {
   "codemirror_mode": {
    "name": "ipython",
    "version": 3
   },
   "file_extension": ".py",
   "mimetype": "text/x-python",
   "name": "python",
   "nbconvert_exporter": "python",
   "pygments_lexer": "ipython3",
   "version": "3.7.6-final"
  },
  "orig_nbformat": 2,
  "kernelspec": {
   "name": "python3",
   "display_name": "Python 3"
  }
 },
 "nbformat": 4,
 "nbformat_minor": 2
}