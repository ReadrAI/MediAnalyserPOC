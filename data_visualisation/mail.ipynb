{
 "metadata": {
  "language_info": {
   "codemirror_mode": {
    "name": "ipython",
    "version": 3
   },
   "file_extension": ".py",
   "mimetype": "text/x-python",
   "name": "python",
   "nbconvert_exporter": "python",
   "pygments_lexer": "ipython3",
   "version": "3.7.6-final"
  },
  "orig_nbformat": 2,
  "kernelspec": {
   "name": "python3",
   "display_name": "Python 3"
  }
 },
 "nbformat": 4,
 "nbformat_minor": 2,
 "cells": [
  {
   "cell_type": "code",
   "execution_count": null,
   "metadata": {},
   "outputs": [],
   "source": [
    "password = \"few9jiew#&gG(ewqi*&\\\"\""
   ]
  },
  {
   "cell_type": "code",
   "execution_count": null,
   "metadata": {},
   "outputs": [],
   "source": [
    "clientID = \"359896540592-10n6b6bn1od7giaoumjhbth6vo4o697k.apps.googleusercontent.com\""
   ]
  },
  {
   "cell_type": "code",
   "execution_count": null,
   "metadata": {},
   "outputs": [],
   "source": [
    "clientSecret = \"v_EsiP0RS-zwvK3pFTQkIxLc\""
   ]
  },
  {
   "cell_type": "code",
   "execution_count": 5,
   "metadata": {},
   "outputs": [],
   "source": [
    "sys.path.append(\"../\")\n",
    "\n",
    "from utils import models\n",
    "from utils import sql_utils\n",
    "from utils import mail_utils"
   ]
  },
  {
   "cell_type": "code",
   "execution_count": 10,
   "metadata": {},
   "outputs": [
    {
     "output_type": "execute_result",
     "data": {
      "text/plain": [
       "True"
      ]
     },
     "metadata": {},
     "execution_count": 10
    }
   ],
   "source": [
    "sql_utils.insertEntry(models.Source(\n",
    "    source_name=\"20min\",\n",
    "    website_url=\"https://www.20min.ch/\"\n",
    "))"
   ]
  },
  {
   "cell_type": "code",
   "execution_count": null,
   "metadata": {},
   "outputs": [],
   "source": [
    "if False:\n",
    "    sql_utils.getEngine().execute(\"delete from newsdb.article_searchesabcd;\")"
   ]
  },
  {
   "cell_type": "code",
   "execution_count": null,
   "metadata": {
    "tags": [
     "outputPrepend"
    ]
   },
   "outputs": [],
   "source": [
    "mail_utils.pipelineEmails(verbose=Verbose.INFO)"
   ]
  },
  {
   "cell_type": "code",
   "execution_count": 6,
   "metadata": {},
   "outputs": [
    {
     "output_type": "execute_result",
     "data": {
      "text/plain": [
       "'https://www.lemonde.fr/sciences/article/2019/12/17/comment-la-baleine-est-devenue-le-plus-gros-des-animaux_6023214_1650684.html'"
      ]
     },
     "metadata": {},
     "execution_count": 6
    }
   ],
   "source": [
    "mail_utils.getUrlFromText(\"\"\"> On 11 Oct 2020, at 22:22, Jean Haizmann <jean.haizmann@gmail.com> wrote:\n",
    "> \n",
    "> \n",
    "> \n",
    ">> On 10 Oct 2020, at 14:01, newshorizonapp@gmail.com wrote:\n",
    ">> \n",
    ">> sender: Quentin Dubey <quentin.dubey@unil.ch>\n",
    ">> subjet:\n",
    ">> content:\n",
    ">> https://www.lemonde.fr/sciences/article/2019/12/17/comment-la-baleine-est-devenue-le-plus-gros-des-animaux_6023214_1650684.html\n",
    "> \n",
    "\"\"\")"
   ]
  },
  {
   "cell_type": "markdown",
   "metadata": {},
   "source": [
    "Labels:\n",
    "\n",
    "CHAT\n",
    "SENT\n",
    "INBOX\n",
    "IMPORTANT\n",
    "TRASH\n",
    "DRAFT\n",
    "SPAM\n",
    "CATEGORY_FORUMS\n",
    "CATEGORY_UPDATES\n",
    "CATEGORY_PERSONAL\n",
    "CATEGORY_PROMOTIONS\n",
    "CATEGORY_SOCIAL\n",
    "STARRED\n",
    "UNREAD"
   ]
  },
  {
   "cell_type": "markdown",
   "metadata": {},
   "source": [
    "url = \"https://www.bbc.com/news/live/world-53775682\""
   ]
  },
  {
   "cell_type": "code",
   "execution_count": null,
   "metadata": {},
   "outputs": [],
   "source": [
    "import importlib;\n",
    "importlib.reload(mail_utils)"
   ]
  },
  {
   "cell_type": "code",
   "execution_count": null,
   "metadata": {},
   "outputs": [],
   "source": []
  },
  {
   "cell_type": "code",
   "execution_count": null,
   "metadata": {},
   "outputs": [],
   "source": []
  },
  {
   "cell_type": "code",
   "execution_count": null,
   "metadata": {
    "tags": []
   },
   "outputs": [],
   "source": [
    "from utils.mail_utils import *\n",
    "service = getGmailService()"
   ]
  },
  {
   "cell_type": "code",
   "execution_count": null,
   "metadata": {},
   "outputs": [],
   "source": [
    "request = {\n",
    "  'labelIds': ['INBOX'],\n",
    "  'topicName': 'projects/future-oasis-286707/topics/email-request-topic'\n",
    "}\n",
    "watch = service.users().watch(userId=SENDER_EMAIL, body=request).execute()\n",
    "watch"
   ]
  },
  {
   "cell_type": "code",
   "execution_count": 8,
   "metadata": {},
   "outputs": [
    {
     "output_type": "stream",
     "name": "stderr",
     "text": [
      "ERROR:root:Multiple sources (100) found for article https://www.lemonde.fr/sciences/article/2019/12/17/comment-la-baleine-est-devenue-le-plus-gros-des-animaux_6023214_1650684.html\n"
     ]
    }
   ],
   "source": [
    "mail_utils.downloadArticle(models.ArticleSearch(\n",
    "    search_url=\"https://www.lemonde.fr/sciences/article/2019/12/17/comment-la-baleine-est-devenue-le-plus-gros-des-animaux_6023214_1650684.html\"))"
   ]
  },
  {
   "cell_type": "code",
   "execution_count": null,
   "metadata": {},
   "outputs": [],
   "source": []
  },
  {
   "cell_type": "code",
   "execution_count": null,
   "metadata": {},
   "outputs": [],
   "source": [
    "from utils.data_manager import DataManager\n",
    "from utils.data_science_utils import *"
   ]
  },
  {
   "cell_type": "code",
   "execution_count": null,
   "metadata": {},
   "outputs": [],
   "source": [
    "search_text_title = \"The Brain Implants That Could Change Humanity\"\n",
    "search_text_subtitle = \"Brains are talking to computers, and computers to brains. Are our daydreams safe?\""
   ]
  },
  {
   "cell_type": "code",
   "execution_count": null,
   "metadata": {},
   "outputs": [],
   "source": [
    "news_vect = DataManager.getModel(Models.NEWS_VECT)"
   ]
  },
  {
   "cell_type": "code",
   "execution_count": null,
   "metadata": {
    "tags": []
   },
   "outputs": [],
   "source": [
    "weights = []\n",
    "for word in cleanText(search_text_title).split():\n",
    "    try:\n",
    "        index = news_vect[attribute]['tfidf_vectorizer'].get_feature_names().index(word)\n",
    "        weight = news_vect[attribute]['tfidf_vectorizer'].idf_[index]\n",
    "        weights = weights.append((word, weight))\n",
    "    except:\n",
    "        print(word, \"not found\")\n",
    "        pass"
   ]
  },
  {
   "cell_type": "code",
   "execution_count": null,
   "metadata": {},
   "outputs": [],
   "source": [
    "weights"
   ]
  },
  {
   "cell_type": "code",
   "execution_count": null,
   "metadata": {},
   "outputs": [],
   "source": []
  }
 ]
}