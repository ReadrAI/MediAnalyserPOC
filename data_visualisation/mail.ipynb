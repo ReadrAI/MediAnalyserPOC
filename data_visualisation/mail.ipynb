{
 "metadata": {
  "language_info": {
   "codemirror_mode": {
    "name": "ipython",
    "version": 3
   },
   "file_extension": ".py",
   "mimetype": "text/x-python",
   "name": "python",
   "nbconvert_exporter": "python",
   "pygments_lexer": "ipython3",
   "version": "3.7.6-final"
  },
  "orig_nbformat": 2,
  "kernelspec": {
   "name": "python3",
   "display_name": "Python 3"
  }
 },
 "nbformat": 4,
 "nbformat_minor": 2,
 "cells": [
  {
   "cell_type": "code",
   "execution_count": null,
   "metadata": {},
   "outputs": [],
   "source": [
    "password = \"few9jiew#&gG(ewqi*&\\\"\""
   ]
  },
  {
   "cell_type": "code",
   "execution_count": null,
   "metadata": {},
   "outputs": [],
   "source": [
    "clientID = \"359896540592-10n6b6bn1od7giaoumjhbth6vo4o697k.apps.googleusercontent.com\""
   ]
  },
  {
   "cell_type": "code",
   "execution_count": null,
   "metadata": {},
   "outputs": [],
   "source": [
    "clientSecret = \"v_EsiP0RS-zwvK3pFTQkIxLc\""
   ]
  },
  {
   "cell_type": "code",
   "execution_count": null,
   "metadata": {},
   "outputs": [],
   "source": [
    "from utils import data_science_utils"
   ]
  },
  {
   "cell_type": "code",
   "execution_count": null,
   "metadata": {},
   "outputs": [],
   "source": [
    "from utils import models\n",
    "from utils import sql_utils\n",
    "from utils import mail_utils"
   ]
  },
  {
   "cell_type": "code",
   "execution_count": null,
   "metadata": {},
   "outputs": [],
   "source": [
    "if False:\n",
    "    sql_utils.getEngine().execute(\"delete from newsdb.article_searchesabcd;\")"
   ]
  },
  {
   "cell_type": "code",
   "execution_count": null,
   "metadata": {
    "tags": [
     "outputPrepend"
    ]
   },
   "outputs": [],
   "source": [
    "mail_utils.pipelineEmails(verbose=Verbose.INFO)"
   ]
  },
  {
   "cell_type": "markdown",
   "metadata": {},
   "source": [
    "Labels:\n",
    "\n",
    "CHAT\n",
    "SENT\n",
    "INBOX\n",
    "IMPORTANT\n",
    "TRASH\n",
    "DRAFT\n",
    "SPAM\n",
    "CATEGORY_FORUMS\n",
    "CATEGORY_UPDATES\n",
    "CATEGORY_PERSONAL\n",
    "CATEGORY_PROMOTIONS\n",
    "CATEGORY_SOCIAL\n",
    "STARRED\n",
    "UNREAD"
   ]
  },
  {
   "cell_type": "markdown",
   "metadata": {},
   "source": [
    "url = \"https://www.bbc.com/news/live/world-53775682\""
   ]
  },
  {
   "cell_type": "code",
   "execution_count": null,
   "metadata": {},
   "outputs": [],
   "source": [
    "from utils.data_manager import DataManager\n",
    "from utils.data_science_utils import *"
   ]
  },
  {
   "cell_type": "code",
   "execution_count": null,
   "metadata": {},
   "outputs": [],
   "source": [
    "search_text_title = \"The Brain Implants That Could Change Humanity\"\n",
    "search_text_subtitle = \"Brains are talking to computers, and computers to brains. Are our daydreams safe?\""
   ]
  },
  {
   "cell_type": "code",
   "execution_count": null,
   "metadata": {},
   "outputs": [],
   "source": [
    "news_vect = DataManager.getModel(Models.NEWS_VECT)"
   ]
  },
  {
   "cell_type": "code",
   "execution_count": null,
   "metadata": {
    "tags": []
   },
   "outputs": [],
   "source": [
    "weights = []\n",
    "for word in cleanText(search_text_title).split():\n",
    "    try:\n",
    "        index = news_vect[attribute]['tfidf_vectorizer'].get_feature_names().index(word)\n",
    "        weight = news_vect[attribute]['tfidf_vectorizer'].idf_[index]\n",
    "        weights = weights.append((word, weight))\n",
    "    except:\n",
    "        print(word, \"not found\")\n",
    "        pass"
   ]
  },
  {
   "cell_type": "code",
   "execution_count": null,
   "metadata": {},
   "outputs": [],
   "source": [
    "weights"
   ]
  },
  {
   "cell_type": "code",
   "execution_count": null,
   "metadata": {},
   "outputs": [],
   "source": [
    "from utils import translate_utils\n",
    "from utils import mail_utils\n",
    "from utils import models\n",
    "from utils import sql_utils\n",
    "from utils import data_science_utils"
   ]
  },
  {
   "cell_type": "code",
   "execution_count": null,
   "metadata": {},
   "outputs": [],
   "source": [
    "article = mail_utils.downloadArticle(models.ArticleSearch(search_url='https://www.20min.ch/fr/story/a-nouveau-positif-6-semaines-apres-et-la-2e-infection-est-plus-severe-704431886648'))\n",
    "article"
   ]
  },
  {
   "cell_type": "code",
   "execution_count": null,
   "metadata": {},
   "outputs": [],
   "source": [
    "article = sql_utils.getArticle('https://www.20min.ch/fr/story/developpement-positif-en-suisse-face-au-covid-19-730995909544')"
   ]
  },
  {
   "cell_type": "code",
   "execution_count": null,
   "metadata": {},
   "outputs": [],
   "source": [
    "articles = sql_utils.getDBSession().query(models.MultiLingualArticle).all()"
   ]
  },
  {
   "cell_type": "code",
   "execution_count": null,
   "metadata": {},
   "outputs": [],
   "source": [
    "articles"
   ]
  },
  {
   "cell_type": "code",
   "execution_count": null,
   "metadata": {},
   "outputs": [],
   "source": [
    "article"
   ]
  },
  {
   "cell_type": "code",
   "execution_count": null,
   "metadata": {},
   "outputs": [],
   "source": []
  },
  {
   "cell_type": "code",
   "execution_count": null,
   "metadata": {},
   "outputs": [],
   "source": [
    "results = data_science_utils.getSimilarArticlesFromText('Coronavirus: Progress in Switzerland in the face of Covid-19, according to Marcel Salathé')"
   ]
  },
  {
   "cell_type": "code",
   "execution_count": null,
   "metadata": {},
   "outputs": [],
   "source": [
    "results.keys()"
   ]
  },
  {
   "cell_type": "code",
   "execution_count": null,
   "metadata": {},
   "outputs": [],
   "source": [
    "results['title']"
   ]
  },
  {
   "cell_type": "code",
   "execution_count": null,
   "metadata": {},
   "outputs": [],
   "source": [
    "from utils import sql_utils\n",
    "from utils import models\n",
    "from utils import translate_utils\n",
    "import re\n",
    "import sqlalchemy"
   ]
  },
  {
   "cell_type": "code",
   "execution_count": null,
   "metadata": {},
   "outputs": [],
   "source": [
    "rss_sources = sql_utils.getDBSession().query(models.RSSFeed).filter(models.RSSFeed.feed_url.contains('spiegel')).all()"
   ]
  },
  {
   "cell_type": "code",
   "execution_count": null,
   "metadata": {},
   "outputs": [],
   "source": [
    "rss_sources"
   ]
  },
  {
   "cell_type": "code",
   "execution_count": null,
   "metadata": {},
   "outputs": [],
   "source": [
    "source_languages = sql_utils.getDBSession().query(models.Source.language).distinct().all()\n",
    "source_languages"
   ]
  },
  {
   "cell_type": "code",
   "execution_count": null,
   "metadata": {},
   "outputs": [],
   "source": [
    "spiegel_sources = sql_utils.getDBSession().query(models.Source).filter(sqlalchemy.func.lower(models.Source.source_name).contains('spiegel')).all()\n",
    "spiegel_sources"
   ]
  },
  {
   "cell_type": "code",
   "execution_count": null,
   "metadata": {},
   "outputs": [],
   "source": [
    "spiegel_sources[0].language = 'de'"
   ]
  },
  {
   "cell_type": "code",
   "execution_count": null,
   "metadata": {},
   "outputs": [],
   "source": [
    "spiegel_articles = sql_utils.getDBSession().query(models.RSSFeed).filter(models.RSSFeed.feed_url.contains('spiegel')).all()"
   ]
  },
  {
   "cell_type": "code",
   "execution_count": null,
   "metadata": {},
   "outputs": [],
   "source": [
    "source = sql_utils.getSource('Spiegel')"
   ]
  },
  {
   "cell_type": "code",
   "execution_count": null,
   "metadata": {},
   "outputs": [],
   "source": [
    "source"
   ]
  },
  {
   "cell_type": "code",
   "execution_count": null,
   "metadata": {},
   "outputs": [],
   "source": [
    "result = sql_utils.getDBSession().query(models.Article).filter(models.Article.source_uuid == str(source.source_uuid)).all()"
   ]
  },
  {
   "cell_type": "code",
   "execution_count": null,
   "metadata": {},
   "outputs": [],
   "source": [
    "result"
   ]
  },
  {
   "cell_type": "code",
   "execution_count": null,
   "metadata": {},
   "outputs": [],
   "source": [
    "multi_lingual_article = models.MultiLingualArticle(\n",
    "    article_uuid=str(result[2].article_uuid),\n",
    "    title=result[2].title\n",
    ")"
   ]
  },
  {
   "cell_type": "code",
   "execution_count": null,
   "metadata": {},
   "outputs": [],
   "source": [
    "sql_utils.insertEntry(multi_lingual_article)"
   ]
  },
  {
   "cell_type": "code",
   "execution_count": null,
   "metadata": {},
   "outputs": [],
   "source": [
    "translation = translate_utils.translateText(removeSpecialChars(result[2].title))"
   ]
  },
  {
   "cell_type": "code",
   "execution_count": null,
   "metadata": {},
   "outputs": [],
   "source": [
    "result[2].title = translation.translated_text"
   ]
  },
  {
   "cell_type": "code",
   "execution_count": null,
   "metadata": {},
   "outputs": [],
   "source": [
    "sql_utils.getDBSession().commit()"
   ]
  },
  {
   "cell_type": "code",
   "execution_count": null,
   "metadata": {},
   "outputs": [],
   "source": [
    "multi_lingual_articles = sql_utils.getDBSession().query(models.MultiLingualArticle).all()"
   ]
  },
  {
   "cell_type": "code",
   "execution_count": null,
   "metadata": {},
   "outputs": [],
   "source": [
    "multi_lingual_article"
   ]
  },
  {
   "cell_type": "code",
   "execution_count": null,
   "metadata": {},
   "outputs": [],
   "source": [
    "def removeSpecialChars(text):\n",
    "    return re.sub(r'[^ \\n:.,!?\\-A-Za-z0-9À-ÖØ-öø-ÿЀ-ӿ/]+', '', text)"
   ]
  },
  {
   "cell_type": "code",
   "execution_count": null,
   "metadata": {},
   "outputs": [],
   "source": [
    "def findNumbers(text):\n",
    "    return re.findall(\"[-+]?[.]?[\\d]+(?:,\\d\\d\\d)*[\\.]?\\d*(?:[eE][-+]?\\d+)?\", text)"
   ]
  },
  {
   "cell_type": "code",
   "execution_count": null,
   "metadata": {},
   "outputs": [],
   "source": [
    "ss = [(\"apple-12.34 ba33na fanc-14.23e-2yapple+45e5+67.56E+3\",\n",
    "       ['-12.34', '33', '-14.23e-2', '+45e5', '+67.56E+3']),\n",
    "      ('hello X42 I\\'m a Y-32.35 string Z30',\n",
    "       ['42', '-32.35', '30']),\n",
    "      ('he33llo 42 I\\'m a 32 string -30', \n",
    "       ['33', '42', '32', '-30']),\n",
    "      ('h3110 23 cat 444.4 rabbit 11 2 dog', \n",
    "       ['3110', '23', '444.4', '11', '2']),\n",
    "      ('hello 12 hi 89', \n",
    "       ['12', '89']),\n",
    "      ('4', \n",
    "       ['4']),\n",
    "      ('I like 74,600 commas not,500', \n",
    "       ['74,600', '500']),\n",
    "      ('I like bad math 1+2=.001', \n",
    "       ['1', '+2', '.001'])]\n",
    "\n",
    "for s, r in ss:\n",
    "    rr = re.findall(\"[-+]?[.]?[\\d]+(?:,\\d\\d\\d)*[\\.]?\\d*(?:[eE][-+]?\\d+)?\", s)\n",
    "    if rr == r:\n",
    "        print('GOOD')\n",
    "    else:\n",
    "        print('WRONG', rr, 'should be', r)"
   ]
  },
  {
   "cell_type": "code",
   "execution_count": null,
   "metadata": {},
   "outputs": [],
   "source": [
    "def dropDoubleSpaces(text):\n",
    "    l = len(text) + 1\n",
    "    while l != len(text):\n",
    "        l = len(text)\n",
    "        text = text.replace('  ', ' ')\n",
    "    return text"
   ]
  },
  {
   "source": [
    "Find all numbers\n",
    "\n",
    "transform all of them into text\n",
    "\n",
    "replace them one by one in the text with find and replace, space around\n",
    "\n",
    "remove double spaces\n"
   ],
   "cell_type": "markdown",
   "metadata": {}
  },
  {
   "cell_type": "code",
   "execution_count": null,
   "metadata": {},
   "outputs": [],
   "source": [
    "import num2words"
   ]
  },
  {
   "cell_type": "code",
   "execution_count": null,
   "metadata": {},
   "outputs": [],
   "source": [
    "num2words.num2words(64.3)"
   ]
  },
  {
   "cell_type": "code",
   "execution_count": null,
   "metadata": {},
   "outputs": [],
   "source": [
    "sql_utils.getDBSession().commit()"
   ]
  },
  {
   "cell_type": "code",
   "execution_count": null,
   "metadata": {},
   "outputs": [],
   "source": []
  },
  {
   "cell_type": "code",
   "execution_count": null,
   "metadata": {},
   "outputs": [],
   "source": [
    "from utils import translate_utils\n",
    "from utils import models\n",
    "from utils import sql_utils\n",
    "from utils import data_science_utils"
   ]
  },
  {
   "cell_type": "code",
   "execution_count": null,
   "metadata": {},
   "outputs": [],
   "source": [
    "from utils.mail_utils import *"
   ]
  },
  {
   "cell_type": "code",
   "execution_count": null,
   "metadata": {},
   "outputs": [],
   "source": []
  },
  {
   "cell_type": "code",
   "execution_count": null,
   "metadata": {},
   "outputs": [],
   "source": [
    "from utils import mail_utils\n",
    "mail_utils.processFailedArticleSearches()"
   ]
  },
  {
   "source": [
    "ERROR:root:Multiple sources (106) found for article https://alternativi.fr/les-batteries-des-voitures-electriques-sont-elles-propres/589\n",
    "\n",
    "ERROR:root:Article not found, nor downloaded: <Article Search c66f5f21-b21e-49f0-bed9-79906f2fc53f: https://alternativi.fr/les-batteries-des-voitures-electriques-sont-elles-propres/589>"
   ],
   "cell_type": "markdown",
   "metadata": {}
  },
  {
   "cell_type": "code",
   "execution_count": null,
   "metadata": {},
   "outputs": [],
   "source": []
  },
  {
   "cell_type": "code",
   "execution_count": null,
   "metadata": {},
   "outputs": [],
   "source": [
    "from utils import sql_utils\n",
    "ucas = sql_utils.getUncompletedArticleSearches()"
   ]
  },
  {
   "cell_type": "code",
   "execution_count": null,
   "metadata": {},
   "outputs": [],
   "source": [
    "len(ucas)"
   ]
  },
  {
   "cell_type": "code",
   "execution_count": null,
   "metadata": {},
   "outputs": [],
   "source": [
    "list(map(lambda x: x.search_url, ucas))"
   ]
  },
  {
   "cell_type": "code",
   "execution_count": null,
   "metadata": {},
   "outputs": [],
   "source": [
    "sql_utils.getDBSession().delete(ucas[2])\n",
    "sql_utils.commitSession()"
   ]
  },
  {
   "cell_type": "code",
   "execution_count": null,
   "metadata": {},
   "outputs": [],
   "source": []
  },
  {
   "cell_type": "code",
   "execution_count": null,
   "metadata": {},
   "outputs": [],
   "source": [
    "le_temps = sql_utils.getSource('Le Monde')"
   ]
  },
  {
   "cell_type": "code",
   "execution_count": null,
   "metadata": {},
   "outputs": [],
   "source": [
    "le_temps.language = 'fr'"
   ]
  },
  {
   "cell_type": "code",
   "execution_count": null,
   "metadata": {},
   "outputs": [],
   "source": [
    "sql_utils.commitSession()"
   ]
  },
  {
   "cell_type": "code",
   "execution_count": null,
   "metadata": {},
   "outputs": [],
   "source": []
  },
  {
   "cell_type": "code",
   "execution_count": null,
   "metadata": {},
   "outputs": [],
   "source": [
    "sql_utils.insertEntry(models.Source(\n",
    "    source_name='Alternativi News',\n",
    "    website_url='alternativi.fr',\n",
    "    language='fr',\n",
    "    country='fr'\n",
    "))"
   ]
  },
  {
   "cell_type": "code",
   "execution_count": null,
   "metadata": {},
   "outputs": [],
   "source": [
    "sas = sql_utils.getDBSession().query(models.ArticleSearch).filter(models.ArticleSearch.search_url=='https://alternativi.fr/les-batteries-des-voitures-electriques-sont-elles-propres/589').all()"
   ]
  },
  {
   "cell_type": "code",
   "execution_count": null,
   "metadata": {},
   "outputs": [],
   "source": [
    "list(map(lambda x: (x.customer.customer_email, x.search_url), sas))"
   ]
  },
  {
   "cell_type": "code",
   "execution_count": null,
   "metadata": {},
   "outputs": [],
   "source": [
    "article_search = sas[0]"
   ]
  },
  {
   "cell_type": "code",
   "execution_count": null,
   "metadata": {},
   "outputs": [],
   "source": [
    "article_search.article"
   ]
  },
  {
   "cell_type": "code",
   "execution_count": null,
   "metadata": {},
   "outputs": [],
   "source": [
    "article_search.article.article_url"
   ]
  },
  {
   "cell_type": "code",
   "execution_count": null,
   "metadata": {},
   "outputs": [],
   "source": [
    "multi_lingual_article = sql_utils.getDBSession().query(models.MultiLingualArticle).filter(models.MultiLingualArticle.article_uuid == str(article_search.article.article_uuid)).all()"
   ]
  },
  {
   "cell_type": "code",
   "execution_count": null,
   "metadata": {},
   "outputs": [],
   "source": [
    "multi_lingual_article"
   ]
  },
  {
   "cell_type": "code",
   "execution_count": 4,
   "metadata": {},
   "outputs": [
    {
     "output_type": "execute_result",
     "data": {
      "text/plain": [
       "                                                                                  title  \\\n",
       "article_uuid                                                                              \n",
       "03ca6a28-1736-4db5-af4e-beea8a5ad5f5  Cummins Continues to Power Bustech With New Ba...   \n",
       "a4d53231-60d9-4722-af3b-cfed0f8ac214  Electric cars really do cost less to own than ...   \n",
       "e88a929a-e0cf-4696-bb90-606626f231a3  Electric cars really do cost less to own than ...   \n",
       "edc25bdf-b85a-4f75-8c4d-284746647ec5  Electric cars really do cost less to own than ...   \n",
       "e2462853-2bab-433a-881a-129a335b3b8d  ‘Future of last mile delivery’: Amazon reveals...   \n",
       "\n",
       "                                                                            description  \\\n",
       "article_uuid                                                                              \n",
       "03ca6a28-1736-4db5-af4e-beea8a5ad5f5  COLUMBUS, Ind.--(BUSINESS WIRE)--Cummins Inc. ...   \n",
       "a4d53231-60d9-4722-af3b-cfed0f8ac214  Electric car manufacturers have long claimed t...   \n",
       "e88a929a-e0cf-4696-bb90-606626f231a3  Electric car manufacturers have long claimed t...   \n",
       "edc25bdf-b85a-4f75-8c4d-284746647ec5  Electric car manufacturers have long claimed t...   \n",
       "e2462853-2bab-433a-881a-129a335b3b8d  Amazon is lifting the hood on one of three cus...   \n",
       "\n",
       "                                        source_name  \\\n",
       "article_uuid                                          \n",
       "03ca6a28-1736-4db5-af4e-beea8a5ad5f5  Business Wire   \n",
       "a4d53231-60d9-4722-af3b-cfed0f8ac214  Madshrimps.be   \n",
       "e88a929a-e0cf-4696-bb90-606626f231a3       Engadget   \n",
       "edc25bdf-b85a-4f75-8c4d-284746647ec5  Madshrimps.be   \n",
       "e2462853-2bab-433a-881a-129a335b3b8d       GeekWire   \n",
       "\n",
       "                                                                            article_url  \\\n",
       "article_uuid                                                                              \n",
       "03ca6a28-1736-4db5-af4e-beea8a5ad5f5  https://www.businesswire.com/news/home/2020100...   \n",
       "a4d53231-60d9-4722-af3b-cfed0f8ac214          http://www.madshrimps.be/news/item/199932   \n",
       "e88a929a-e0cf-4696-bb90-606626f231a3  https://www.engadget.com/electric-cars-cost-le...   \n",
       "edc25bdf-b85a-4f75-8c4d-284746647ec5  http://www.madshrimps.be/news/item/199932?utm_...   \n",
       "e2462853-2bab-433a-881a-129a335b3b8d  https://www.geekwire.com/2020/future-last-mile...   \n",
       "\n",
       "                                      distance  \\\n",
       "article_uuid                                     \n",
       "03ca6a28-1736-4db5-af4e-beea8a5ad5f5  4.192110   \n",
       "a4d53231-60d9-4722-af3b-cfed0f8ac214  4.195119   \n",
       "e88a929a-e0cf-4696-bb90-606626f231a3  4.195119   \n",
       "edc25bdf-b85a-4f75-8c4d-284746647ec5  4.195119   \n",
       "e2462853-2bab-433a-881a-129a335b3b8d  4.205001   \n",
       "\n",
       "                                                                              title_url  \n",
       "article_uuid                                                                             \n",
       "03ca6a28-1736-4db5-af4e-beea8a5ad5f5  <a href=\"https://www.businesswire.com/news/hom...  \n",
       "a4d53231-60d9-4722-af3b-cfed0f8ac214  <a href=\"http://www.madshrimps.be/news/item/19...  \n",
       "e88a929a-e0cf-4696-bb90-606626f231a3  <a href=\"https://www.engadget.com/electric-car...  \n",
       "edc25bdf-b85a-4f75-8c4d-284746647ec5  <a href=\"http://www.madshrimps.be/news/item/19...  \n",
       "e2462853-2bab-433a-881a-129a335b3b8d  <a href=\"https://www.geekwire.com/2020/future-...  "
      ],
      "text/html": "<div>\n<style scoped>\n    .dataframe tbody tr th:only-of-type {\n        vertical-align: middle;\n    }\n\n    .dataframe tbody tr th {\n        vertical-align: top;\n    }\n\n    .dataframe thead th {\n        text-align: right;\n    }\n</style>\n<table border=\"1\" class=\"dataframe\">\n  <thead>\n    <tr style=\"text-align: right;\">\n      <th></th>\n      <th>title</th>\n      <th>description</th>\n      <th>source_name</th>\n      <th>article_url</th>\n      <th>distance</th>\n      <th>title_url</th>\n    </tr>\n    <tr>\n      <th>article_uuid</th>\n      <th></th>\n      <th></th>\n      <th></th>\n      <th></th>\n      <th></th>\n      <th></th>\n    </tr>\n  </thead>\n  <tbody>\n    <tr>\n      <th>03ca6a28-1736-4db5-af4e-beea8a5ad5f5</th>\n      <td>Cummins Continues to Power Bustech With New Ba...</td>\n      <td>COLUMBUS, Ind.--(BUSINESS WIRE)--Cummins Inc. ...</td>\n      <td>Business Wire</td>\n      <td>https://www.businesswire.com/news/home/2020100...</td>\n      <td>4.192110</td>\n      <td>&lt;a href=\"https://www.businesswire.com/news/hom...</td>\n    </tr>\n    <tr>\n      <th>a4d53231-60d9-4722-af3b-cfed0f8ac214</th>\n      <td>Electric cars really do cost less to own than ...</td>\n      <td>Electric car manufacturers have long claimed t...</td>\n      <td>Madshrimps.be</td>\n      <td>http://www.madshrimps.be/news/item/199932</td>\n      <td>4.195119</td>\n      <td>&lt;a href=\"http://www.madshrimps.be/news/item/19...</td>\n    </tr>\n    <tr>\n      <th>e88a929a-e0cf-4696-bb90-606626f231a3</th>\n      <td>Electric cars really do cost less to own than ...</td>\n      <td>Electric car manufacturers have long claimed t...</td>\n      <td>Engadget</td>\n      <td>https://www.engadget.com/electric-cars-cost-le...</td>\n      <td>4.195119</td>\n      <td>&lt;a href=\"https://www.engadget.com/electric-car...</td>\n    </tr>\n    <tr>\n      <th>edc25bdf-b85a-4f75-8c4d-284746647ec5</th>\n      <td>Electric cars really do cost less to own than ...</td>\n      <td>Electric car manufacturers have long claimed t...</td>\n      <td>Madshrimps.be</td>\n      <td>http://www.madshrimps.be/news/item/199932?utm_...</td>\n      <td>4.195119</td>\n      <td>&lt;a href=\"http://www.madshrimps.be/news/item/19...</td>\n    </tr>\n    <tr>\n      <th>e2462853-2bab-433a-881a-129a335b3b8d</th>\n      <td>‘Future of last mile delivery’: Amazon reveals...</td>\n      <td>Amazon is lifting the hood on one of three cus...</td>\n      <td>GeekWire</td>\n      <td>https://www.geekwire.com/2020/future-last-mile...</td>\n      <td>4.205001</td>\n      <td>&lt;a href=\"https://www.geekwire.com/2020/future-...</td>\n    </tr>\n  </tbody>\n</table>\n</div>"
     },
     "metadata": {},
     "execution_count": 4
    }
   ],
   "source": [
    "from utils import mail_utils\n",
    "from utils import sql_utils\n",
    "from utils import models\n",
    "sas = sql_utils.getDBSession().query(models.ArticleSearch).filter(models.ArticleSearch.search_url=='https://alternativi.fr/les-batteries-des-voitures-electriques-sont-elles-propres/589').all()\n",
    "article_search = sas[0]\n",
    "mail_utils.getSearchResults(article_search, 'title')"
   ]
  },
  {
   "cell_type": "code",
   "execution_count": null,
   "metadata": {},
   "outputs": [],
   "source": []
  },
  {
   "cell_type": "code",
   "execution_count": null,
   "metadata": {},
   "outputs": [],
   "source": []
  },
  {
   "cell_type": "code",
   "execution_count": null,
   "metadata": {},
   "outputs": [],
   "source": []
  },
  {
   "cell_type": "code",
   "execution_count": null,
   "metadata": {},
   "outputs": [],
   "source": [
    "customer_uuid = getCustomer(request_i, host=host, schema=schema)\n",
    "article_search = addArticleSearch(request_i, customer_uuid, host=host, schema=schema)\n",
    "search_url = getSearchUrl(article_search, request_i, host=host, schema=schema)\n",
    "if search_url is None:\n",
    "    print('stop')\n",
    "\n",
    "article_search = getSearchArticle(article_search, request_i, host=host, schema=schema)\n",
    "if article_search is None:\n",
    "    print('stop')\n",
    "\n",
    "search_results = getSearchResults(article_search, search_attribute='title', host=host, schema=schema)\n",
    "\n",
    "# add search results to db\n",
    "\n",
    "count += sendResults(article_search, search_results, request_i, host=host, schema=schema)"
   ]
  }
 ]
}